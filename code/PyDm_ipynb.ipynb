{
 "cells": [
  {
   "cell_type": "markdown",
   "metadata": {
    "code_folding": [],
    "extensions": {
     "jupyter_dashboards": {
      "version": 1,
      "views": {
       "grid_default": {
        "col": 0,
        "height": 4,
        "hidden": false,
        "row": 0,
        "width": 4
       },
       "report_default": {}
      }
     }
    }
   },
   "source": [
    "Python数据挖掘方法及应用 PyDm —— 王斌会 王术 2018-6-1         "
   ]
  },
  {
   "cell_type": "markdown",
   "metadata": {
    "code_folding": [],
    "extensions": {
     "jupyter_dashboards": {
      "version": 1,
      "views": {
       "grid_default": {
        "col": 4,
        "height": 4,
        "hidden": false,
        "row": 0,
        "width": 4
       },
       "report_default": {}
      }
     }
    }
   },
   "source": [
    "# 1 数据管理与分析软件"
   ]
  },
  {
   "cell_type": "markdown",
   "metadata": {
    "extensions": {
     "jupyter_dashboards": {
      "version": 1,
      "views": {
       "grid_default": {
        "col": 8,
        "height": 4,
        "hidden": false,
        "row": 0,
        "width": 4
       },
       "report_default": {}
      }
     }
    },
    "hide_input": false,
    "slideshow": {
     "slide_type": "slide"
    }
   },
   "source": [
    "## 1.1 数据收集过程\n",
    "## 1.2 数据分析软件\n",
    "## 1.3 Python编程基础"
   ]
  },
  {
   "cell_type": "markdown",
   "metadata": {
    "extensions": {
     "jupyter_dashboards": {
      "version": 1,
      "views": {
       "grid_default": {
        "col": 0,
        "height": 4,
        "hidden": false,
        "row": 4,
        "width": 4
       },
       "report_default": {}
      }
     }
    }
   },
   "source": [
    "### 1.3.1 Python编程入门\n",
    "#### 1.3.1.1 Python的工作目录"
   ]
  },
  {
   "cell_type": "code",
   "execution_count": 1,
   "metadata": {
    "extensions": {
     "jupyter_dashboards": {
      "version": 1,
      "views": {
       "grid_default": {
        "hidden": true
       },
       "report_default": {}
      }
     }
    }
   },
   "outputs": [
    {
     "name": "stdout",
     "output_type": "stream",
     "text": [
      "D:\\PyDm1\n"
     ]
    },
    {
     "data": {
      "text/plain": [
       "'D:\\\\PyDm1'"
      ]
     },
     "execution_count": 1,
     "metadata": {},
     "output_type": "execute_result"
    }
   ],
   "source": [
    "#获得当前目录\n",
    "%pwd      \n",
    "#改变工作目录\n",
    "%cd \"D:\\\\PyDm1\"  \n",
    "%pwd "
   ]
  },
  {
   "cell_type": "code",
   "execution_count": 1,
   "metadata": {
    "extensions": {
     "jupyter_dashboards": {
      "version": 1,
      "views": {
       "grid_default": {
        "hidden": true
       },
       "report_default": {}
      }
     }
    }
   },
   "outputs": [],
   "source": [
    "import numpy as np                         #加载数值分析包  \n",
    "np.set_printoptions(precision=4)           #设置numpy输出精度\n",
    "import pandas as pd                        #加载数据操作包\n",
    "pd.set_option('display.width', 120)        #设置pandas输出宽度\n",
    "pd.set_option('display.precision',4)       #设置pandas输出精度\n",
    "import matplotlib.pyplot as plt            #加载基本绘图包\n",
    "plt.rcParams['font.sans-serif']=['KaiTi']; #SimHei黑体\n",
    "plt.rcParams['axes.unicode_minus']=False;  #正常显示图中负号\n",
    "\n",
    "import PyDm_fun as dm                      #from PyDm_fun import * #加载自定义函数"
   ]
  },
  {
   "cell_type": "markdown",
   "metadata": {
    "extensions": {
     "jupyter_dashboards": {
      "version": 1,
      "views": {
       "grid_default": {
        "col": 4,
        "height": 4,
        "hidden": false,
        "row": 4,
        "width": 4
       },
       "report_default": {}
      }
     }
    },
    "hide_input": false,
    "slideshow": {
     "slide_type": "slide"
    }
   },
   "source": [
    "### 1.3.2 Python基本数据类型\n",
    "#### 1.3.2.1 数据对象及类型"
   ]
  },
  {
   "cell_type": "code",
   "execution_count": null,
   "metadata": {
    "extensions": {
     "jupyter_dashboards": {
      "version": 1,
      "views": {
       "grid_default": {
        "hidden": true
       },
       "report_default": {}
      }
     }
    },
    "hide_input": false,
    "slideshow": {
     "slide_type": "slide"
    }
   },
   "outputs": [],
   "source": [
    "#列举当前环境中的对象名\n",
    "%who"
   ]
  },
  {
   "cell_type": "code",
   "execution_count": null,
   "metadata": {
    "extensions": {
     "jupyter_dashboards": {
      "version": 1,
      "views": {
       "grid_default": {
        "hidden": true
       },
       "report_default": {}
      }
     }
    },
    "hide_input": false,
    "slideshow": {
     "slide_type": "slide"
    }
   },
   "outputs": [],
   "source": [
    "x=10   #创建对象x\n",
    "%who"
   ]
  },
  {
   "cell_type": "code",
   "execution_count": null,
   "metadata": {
    "extensions": {
     "jupyter_dashboards": {
      "version": 1,
      "views": {
       "grid_default": {
        "hidden": true
       },
       "report_default": {}
      }
     }
    },
    "hide_input": false,
    "slideshow": {
     "slide_type": "slide"
    }
   },
   "outputs": [],
   "source": [
    "del x   #删除对象x\n",
    "%who"
   ]
  },
  {
   "cell_type": "markdown",
   "metadata": {
    "extensions": {
     "jupyter_dashboards": {
      "version": 1,
      "views": {
       "grid_default": {
        "col": 8,
        "height": 4,
        "hidden": false,
        "row": 4,
        "width": 4
       },
       "report_default": {}
      }
     }
    },
    "hide_input": true
   },
   "source": [
    "##### 1.3.2.2 数据基本类型"
   ]
  },
  {
   "cell_type": "code",
   "execution_count": null,
   "metadata": {
    "extensions": {
     "jupyter_dashboards": {
      "version": 1,
      "views": {
       "grid_default": {
        "hidden": true
       },
       "report_default": {}
      }
     }
    },
    "hide_input": true,
    "scrolled": true
   },
   "outputs": [],
   "source": [
    "#数字\n",
    "n=10       #整数\n",
    "n\n",
    "print(\"n=\",n)\n",
    "x=10.234   #实数\n",
    "x\n",
    "print(\"x=%10.5f\"%x)"
   ]
  },
  {
   "cell_type": "code",
   "execution_count": null,
   "metadata": {},
   "outputs": [],
   "source": [
    "a=True;a\n",
    "b=False;b"
   ]
  },
  {
   "cell_type": "code",
   "execution_count": null,
   "metadata": {},
   "outputs": [],
   "source": [
    "10>3\n",
    "10<3"
   ]
  },
  {
   "cell_type": "code",
   "execution_count": null,
   "metadata": {
    "extensions": {
     "jupyter_dashboards": {
      "version": 1,
      "views": {
       "grid_default": {
        "hidden": true
       },
       "report_default": {}
      }
     }
    },
    "hide_input": true,
    "scrolled": true
   },
   "outputs": [],
   "source": [
    "# 字符串\n",
    "s = 'We love Python';s\n",
    "s[7]\n",
    "s[2:6]\n",
    "s+' '+s\n",
    "s*2"
   ]
  },
  {
   "cell_type": "markdown",
   "metadata": {
    "extensions": {
     "jupyter_dashboards": {
      "version": 1,
      "views": {
       "grid_default": {
        "col": 0,
        "height": 4,
        "hidden": false,
        "row": 8,
        "width": 4
       },
       "report_default": {}
      }
     }
    }
   },
   "source": [
    "#### 1.3.3.3 标准数据类型"
   ]
  },
  {
   "cell_type": "code",
   "execution_count": null,
   "metadata": {
    "extensions": {
     "jupyter_dashboards": {
      "version": 1,
      "views": {
       "grid_default": {
        "hidden": true
       },
       "report_default": {}
      }
     }
    }
   },
   "outputs": [],
   "source": [
    "list1 =[]           # 空列表\n",
    "list1\n",
    "list1 = ['Python', 786 , 2.23, 'R', 70.2]\n",
    "list1               # 输出完整列表\n",
    "list1[0]            # 输出列表的第一个元素\n",
    "list1[1:3]          # 输出第二个至第三个元素\n",
    "list1[2:]           # 输出从第三个开始至列表末尾的所有元素\n",
    "list1 * 2           # 输出列表两次\n",
    "list1 + list1[2:4]  # 打印组合的列表"
   ]
  },
  {
   "cell_type": "code",
   "execution_count": null,
   "metadata": {
    "extensions": {
     "jupyter_dashboards": {
      "version": 1,
      "views": {
       "grid_default": {
        "hidden": true
       },
       "report_default": {}
      }
     }
    }
   },
   "outputs": [],
   "source": [
    "X=[1,3,6,4,9]; X\n",
    "sex=['女','男','男','女','男']\n",
    "sex\n",
    "weight=[67,66,83,68,70];\n",
    "weight"
   ]
  },
  {
   "cell_type": "code",
   "execution_count": null,
   "metadata": {
    "extensions": {
     "jupyter_dashboards": {
      "version": 1,
      "views": {
       "grid_default": {
        "hidden": true
       },
       "report_default": {}
      }
     }
    }
   },
   "outputs": [],
   "source": [
    "{}            #空字典\n",
    "dict1={'name':'john','code':6734,'dept':'sales'};dict1 #定义字典\n",
    "dict1['code']  # 输出键为'code' 的值\n",
    "dict1.keys()   # 输出所有键\n",
    "dict1.values() # 输出所有值"
   ]
  },
  {
   "cell_type": "code",
   "execution_count": null,
   "metadata": {
    "extensions": {
     "jupyter_dashboards": {
      "version": 1,
      "views": {
       "grid_default": {
        "hidden": true
       },
       "report_default": {}
      }
     }
    }
   },
   "outputs": [],
   "source": [
    "dict2={'sex': sex,'weight':weight}; dict2 #根据列表构成字典"
   ]
  },
  {
   "cell_type": "markdown",
   "metadata": {
    "extensions": {
     "jupyter_dashboards": {
      "version": 1,
      "views": {
       "grid_default": {
        "col": 4,
        "height": 4,
        "hidden": false,
        "row": 8,
        "width": 4
       },
       "report_default": {}
      }
     }
    }
   },
   "source": [
    "#### 1.3.3.1 一维数组"
   ]
  },
  {
   "cell_type": "code",
   "execution_count": null,
   "metadata": {
    "extensions": {
     "jupyter_dashboards": {
      "version": 1,
      "views": {
       "grid_default": {
        "hidden": true
       },
       "report_default": {}
      }
     }
    }
   },
   "outputs": [],
   "source": [
    "np.array([1,2,3,4,5])    #一维数组"
   ]
  },
  {
   "cell_type": "code",
   "execution_count": null,
   "metadata": {
    "extensions": {
     "jupyter_dashboards": {
      "version": 1,
      "views": {
       "grid_default": {
        "hidden": true
       },
       "report_default": {}
      }
     }
    }
   },
   "outputs": [],
   "source": [
    "np.array([1,2,3,np.nan,5]) #包含缺失值的数组"
   ]
  },
  {
   "cell_type": "code",
   "execution_count": null,
   "metadata": {
    "extensions": {
     "jupyter_dashboards": {
      "version": 1,
      "views": {
       "grid_default": {
        "hidden": true
       },
       "report_default": {}
      }
     }
    }
   },
   "outputs": [],
   "source": [
    "np.arange(9)             #数组序列\n",
    "np.arange(1,9,0.5)       #等差数列\n",
    "np.linspace(1,9,5)       #等距数列"
   ]
  },
  {
   "cell_type": "markdown",
   "metadata": {
    "extensions": {
     "jupyter_dashboards": {
      "version": 1,
      "views": {
       "grid_default": {
        "col": 8,
        "height": 4,
        "hidden": false,
        "row": 8,
        "width": 4
       },
       "report_default": {}
      }
     }
    }
   },
   "source": [
    "#### 1.3.3.2 二维数组"
   ]
  },
  {
   "cell_type": "code",
   "execution_count": null,
   "metadata": {
    "extensions": {
     "jupyter_dashboards": {
      "version": 1,
      "views": {
       "grid_default": {
        "hidden": true
       },
       "report_default": {}
      }
     }
    }
   },
   "outputs": [],
   "source": [
    "np.array([[1,2],[3,4],[5,6]])        #二维数组"
   ]
  },
  {
   "cell_type": "code",
   "execution_count": null,
   "metadata": {
    "extensions": {
     "jupyter_dashboards": {
      "version": 1,
      "views": {
       "grid_default": {
        "hidden": true
       },
       "report_default": {}
      }
     }
    }
   },
   "outputs": [],
   "source": [
    "####1.3.3.3. 数组的基本操作\n",
    "A=np.arange(9).reshape(3,3);A        #形成矩阵"
   ]
  },
  {
   "cell_type": "code",
   "execution_count": null,
   "metadata": {
    "extensions": {
     "jupyter_dashboards": {
      "version": 1,
      "views": {
       "grid_default": {
        "hidden": true
       },
       "report_default": {}
      }
     }
    }
   },
   "outputs": [],
   "source": [
    "A.shape"
   ]
  },
  {
   "cell_type": "code",
   "execution_count": null,
   "metadata": {
    "extensions": {
     "jupyter_dashboards": {
      "version": 1,
      "views": {
       "grid_default": {
        "hidden": true
       },
       "report_default": {}
      }
     }
    }
   },
   "outputs": [],
   "source": [
    "np.empty([3,3])                  #空数组"
   ]
  },
  {
   "cell_type": "code",
   "execution_count": null,
   "metadata": {
    "extensions": {
     "jupyter_dashboards": {
      "version": 1,
      "views": {
       "grid_default": {
        "hidden": true
       },
       "report_default": {}
      }
     }
    }
   },
   "outputs": [],
   "source": [
    "np.zeros((3,3))                  #零矩阵"
   ]
  },
  {
   "cell_type": "code",
   "execution_count": null,
   "metadata": {
    "extensions": {
     "jupyter_dashboards": {
      "version": 1,
      "views": {
       "grid_default": {
        "hidden": true
       },
       "report_default": {}
      }
     }
    }
   },
   "outputs": [],
   "source": [
    "np.ones((3,3))                   #1矩阵"
   ]
  },
  {
   "cell_type": "code",
   "execution_count": null,
   "metadata": {
    "extensions": {
     "jupyter_dashboards": {
      "version": 1,
      "views": {
       "grid_default": {
        "hidden": true
       },
       "report_default": {}
      }
     }
    }
   },
   "outputs": [],
   "source": [
    "np.eye(3)                        #单位阵"
   ]
  },
  {
   "cell_type": "markdown",
   "metadata": {},
   "source": [
    "### 1.3.4  数据分析库pandas"
   ]
  },
  {
   "cell_type": "code",
   "execution_count": null,
   "metadata": {
    "extensions": {
     "jupyter_dashboards": {
      "version": 1,
      "views": {
       "grid_default": {
        "hidden": true
       },
       "report_default": {}
      }
     }
    },
    "hide_input": false,
    "scrolled": true
   },
   "outputs": [],
   "source": [
    "import pandas as pd\n",
    "pd.Series()"
   ]
  },
  {
   "cell_type": "code",
   "execution_count": null,
   "metadata": {
    "extensions": {
     "jupyter_dashboards": {
      "version": 1,
      "views": {
       "grid_default": {
        "hidden": true
       },
       "report_default": {}
      }
     }
    },
    "hide_input": false,
    "scrolled": true
   },
   "outputs": [],
   "source": [
    "X=[1,3,6,4,9]\n",
    "S1=pd.Series(X);S1\n",
    "S2=pd.Series(weight);S2\n",
    "S3=pd.Series(sex);S3"
   ]
  },
  {
   "cell_type": "code",
   "execution_count": null,
   "metadata": {
    "extensions": {
     "jupyter_dashboards": {
      "version": 1,
      "views": {
       "grid_default": {
        "hidden": true
       },
       "report_default": {}
      }
     }
    },
    "hide_input": false,
    "scrolled": true
   },
   "outputs": [],
   "source": [
    "pd.concat([S2,S3],axis=0)    #按行合并序列\n",
    "pd.concat([S2,S3],axis=1)    #按列合并序列"
   ]
  },
  {
   "cell_type": "code",
   "execution_count": null,
   "metadata": {
    "extensions": {
     "jupyter_dashboards": {
      "version": 1,
      "views": {
       "grid_default": {
        "hidden": true
       },
       "report_default": {}
      }
     }
    },
    "hide_input": false,
    "scrolled": true
   },
   "outputs": [],
   "source": [
    "S1[2]\n",
    "S3[1:4]"
   ]
  },
  {
   "cell_type": "code",
   "execution_count": null,
   "metadata": {
    "extensions": {
     "jupyter_dashboards": {
      "version": 1,
      "views": {
       "grid_default": {
        "hidden": true
       },
       "report_default": {}
      }
     }
    },
    "hide_input": false,
    "scrolled": true
   },
   "outputs": [],
   "source": [
    "pd.DataFrame()"
   ]
  },
  {
   "cell_type": "code",
   "execution_count": null,
   "metadata": {
    "extensions": {
     "jupyter_dashboards": {
      "version": 1,
      "views": {
       "grid_default": {
        "hidden": true
       },
       "report_default": {}
      }
     }
    },
    "hide_input": false,
    "scrolled": true
   },
   "outputs": [],
   "source": [
    "pd.DataFrame(X)\n",
    "pd.DataFrame(X, columns=['X'], index=range(5))\n",
    "pd.DataFrame(weight,columns=['weight'], index=['A','B','C','D','E'])"
   ]
  },
  {
   "cell_type": "code",
   "execution_count": null,
   "metadata": {
    "extensions": {
     "jupyter_dashboards": {
      "version": 1,
      "views": {
       "grid_default": {
        "hidden": true
       },
       "report_default": {}
      }
     }
    },
    "hide_input": false,
    "scrolled": true
   },
   "outputs": [],
   "source": [
    "df1=pd.DataFrame({'S1':S1,'S2':S2,'S3':S3}); df1"
   ]
  },
  {
   "cell_type": "code",
   "execution_count": null,
   "metadata": {
    "extensions": {
     "jupyter_dashboards": {
      "version": 1,
      "views": {
       "grid_default": {
        "hidden": true
       },
       "report_default": {}
      }
     }
    },
    "hide_input": false
   },
   "outputs": [],
   "source": [
    "df2=pd.DataFrame({'sex':sex,'weight':weight},index=X);df2"
   ]
  },
  {
   "cell_type": "code",
   "execution_count": null,
   "metadata": {
    "extensions": {
     "jupyter_dashboards": {
      "version": 1,
      "views": {
       "grid_default": {
        "hidden": true
       },
       "report_default": {}
      }
     }
    },
    "hide_input": false
   },
   "outputs": [],
   "source": [
    "df2['weight2']=df2['weight']**2; df2 \t\t# 生成新列"
   ]
  },
  {
   "cell_type": "code",
   "execution_count": null,
   "metadata": {
    "extensions": {
     "jupyter_dashboards": {
      "version": 1,
      "views": {
       "grid_default": {
        "hidden": true
       },
       "report_default": {}
      }
     }
    },
    "hide_input": false
   },
   "outputs": [],
   "source": [
    "del df2['weight2']; df2   # 删除数据列"
   ]
  },
  {
   "cell_type": "code",
   "execution_count": null,
   "metadata": {
    "extensions": {
     "jupyter_dashboards": {
      "version": 1,
      "views": {
       "grid_default": {
        "hidden": true
       },
       "report_default": {}
      }
     }
    },
    "hide_input": false
   },
   "outputs": [],
   "source": [
    "df3=pd.DataFrame({'S2':S2,'S3':S3},index=S1);df3"
   ]
  },
  {
   "cell_type": "code",
   "execution_count": null,
   "metadata": {
    "extensions": {
     "jupyter_dashboards": {
      "version": 1,
      "views": {
       "grid_default": {
        "hidden": true
       },
       "report_default": {}
      }
     }
    },
    "hide_input": false
   },
   "outputs": [],
   "source": [
    "df3.isnull()         #若是缺失值则返回True，否则返回False"
   ]
  },
  {
   "cell_type": "code",
   "execution_count": null,
   "metadata": {
    "extensions": {
     "jupyter_dashboards": {
      "version": 1,
      "views": {
       "grid_default": {
        "hidden": true
       },
       "report_default": {}
      }
     }
    },
    "hide_input": false
   },
   "outputs": [],
   "source": [
    "df3.isnull().sum()   #返回每列包含的缺失值的个数"
   ]
  },
  {
   "cell_type": "code",
   "execution_count": null,
   "metadata": {
    "extensions": {
     "jupyter_dashboards": {
      "version": 1,
      "views": {
       "grid_default": {
        "hidden": true
       },
       "report_default": {}
      }
     }
    },
    "hide_input": false
   },
   "outputs": [],
   "source": [
    "df3.dropna()         #直接删除含有缺失值的行，多变量谨慎使用"
   ]
  },
  {
   "cell_type": "code",
   "execution_count": null,
   "metadata": {
    "extensions": {
     "jupyter_dashboards": {
      "version": 1,
      "views": {
       "grid_default": {
        "hidden": true
       },
       "report_default": {}
      }
     }
    },
    "hide_input": false
   },
   "outputs": [],
   "source": [
    "df3.sort_index()     #按index排序"
   ]
  },
  {
   "cell_type": "code",
   "execution_count": null,
   "metadata": {
    "extensions": {
     "jupyter_dashboards": {
      "version": 1,
      "views": {
       "grid_default": {
        "hidden": true
       },
       "report_default": {}
      }
     }
    },
    "hide_input": false
   },
   "outputs": [],
   "source": [
    "df3.sort_values(by='S3')   #按列值排序"
   ]
  },
  {
   "cell_type": "code",
   "execution_count": null,
   "metadata": {
    "extensions": {
     "jupyter_dashboards": {
      "version": 1,
      "views": {
       "grid_default": {
        "hidden": true
       },
       "report_default": {}
      }
     }
    },
    "hide_input": false
   },
   "outputs": [],
   "source": [
    "BSdata=pd.read_clipboard();   #从剪贴板上复制数据\n",
    "BSdata[:5]                     #BSdata.head() 见下节"
   ]
  },
  {
   "cell_type": "code",
   "execution_count": 3,
   "metadata": {
    "extensions": {
     "jupyter_dashboards": {
      "version": 1,
      "views": {
       "grid_default": {
        "hidden": true
       },
       "report_default": {}
      }
     }
    },
    "hide_input": false
   },
   "outputs": [
    {
     "data": {
      "text/html": [
       "<div>\n",
       "<style scoped>\n",
       "    .dataframe tbody tr th:only-of-type {\n",
       "        vertical-align: middle;\n",
       "    }\n",
       "\n",
       "    .dataframe tbody tr th {\n",
       "        vertical-align: top;\n",
       "    }\n",
       "\n",
       "    .dataframe thead th {\n",
       "        text-align: right;\n",
       "    }\n",
       "</style>\n",
       "<table border=\"1\" class=\"dataframe\">\n",
       "  <thead>\n",
       "    <tr style=\"text-align: right;\">\n",
       "      <th></th>\n",
       "      <th>学号</th>\n",
       "      <th>性别</th>\n",
       "      <th>身高</th>\n",
       "      <th>体重</th>\n",
       "      <th>支出</th>\n",
       "      <th>开设</th>\n",
       "      <th>课程</th>\n",
       "      <th>软件</th>\n",
       "    </tr>\n",
       "  </thead>\n",
       "  <tbody>\n",
       "    <tr>\n",
       "      <th>6</th>\n",
       "      <td>1516352030</td>\n",
       "      <td>女</td>\n",
       "      <td>169</td>\n",
       "      <td>71</td>\n",
       "      <td>9.1</td>\n",
       "      <td>有必要</td>\n",
       "      <td>编程技术</td>\n",
       "      <td>Excel</td>\n",
       "    </tr>\n",
       "    <tr>\n",
       "      <th>7</th>\n",
       "      <td>1516171019</td>\n",
       "      <td>女</td>\n",
       "      <td>166</td>\n",
       "      <td>66</td>\n",
       "      <td>2.5</td>\n",
       "      <td>不必要</td>\n",
       "      <td>都未学过</td>\n",
       "      <td>Excel</td>\n",
       "    </tr>\n",
       "    <tr>\n",
       "      <th>8</th>\n",
       "      <td>1516391008</td>\n",
       "      <td>女</td>\n",
       "      <td>165</td>\n",
       "      <td>69</td>\n",
       "      <td>35.6</td>\n",
       "      <td>不必要</td>\n",
       "      <td>都未学过</td>\n",
       "      <td>Excel</td>\n",
       "    </tr>\n",
       "  </tbody>\n",
       "</table>\n",
       "</div>"
      ],
      "text/plain": [
       "           学号 性别   身高  体重    支出   开设    课程     软件\n",
       "6  1516352030  女  169  71   9.1  有必要  编程技术  Excel\n",
       "7  1516171019  女  166  66   2.5  不必要  都未学过  Excel\n",
       "8  1516391008  女  165  69  35.6  不必要  都未学过  Excel"
      ]
     },
     "execution_count": 3,
     "metadata": {},
     "output_type": "execute_result"
    }
   ],
   "source": [
    "BSdata=pd.read_csv(\"BSdata.csv\",encoding='utf-8')  #注意中文格式\n",
    "BSdata[6:9]"
   ]
  },
  {
   "cell_type": "code",
   "execution_count": 4,
   "metadata": {
    "extensions": {
     "jupyter_dashboards": {
      "version": 1,
      "views": {
       "grid_default": {
        "hidden": true
       },
       "report_default": {}
      }
     }
    },
    "hide_input": false
   },
   "outputs": [
    {
     "data": {
      "text/html": [
       "<div>\n",
       "<style scoped>\n",
       "    .dataframe tbody tr th:only-of-type {\n",
       "        vertical-align: middle;\n",
       "    }\n",
       "\n",
       "    .dataframe tbody tr th {\n",
       "        vertical-align: top;\n",
       "    }\n",
       "\n",
       "    .dataframe thead th {\n",
       "        text-align: right;\n",
       "    }\n",
       "</style>\n",
       "<table border=\"1\" class=\"dataframe\">\n",
       "  <thead>\n",
       "    <tr style=\"text-align: right;\">\n",
       "      <th></th>\n",
       "      <th>学号</th>\n",
       "      <th>性别</th>\n",
       "      <th>身高</th>\n",
       "      <th>体重</th>\n",
       "      <th>支出</th>\n",
       "      <th>开设</th>\n",
       "      <th>课程</th>\n",
       "      <th>软件</th>\n",
       "    </tr>\n",
       "  </thead>\n",
       "  <tbody>\n",
       "    <tr>\n",
       "      <th>47</th>\n",
       "      <td>1538319004</td>\n",
       "      <td>男</td>\n",
       "      <td>175</td>\n",
       "      <td>68</td>\n",
       "      <td>44.4</td>\n",
       "      <td>不清楚</td>\n",
       "      <td>统计方法</td>\n",
       "      <td>SAS</td>\n",
       "    </tr>\n",
       "    <tr>\n",
       "      <th>48</th>\n",
       "      <td>1538254010</td>\n",
       "      <td>女</td>\n",
       "      <td>166</td>\n",
       "      <td>65</td>\n",
       "      <td>5.3</td>\n",
       "      <td>不清楚</td>\n",
       "      <td>编程技术</td>\n",
       "      <td>Python</td>\n",
       "    </tr>\n",
       "    <tr>\n",
       "      <th>49</th>\n",
       "      <td>1540294017</td>\n",
       "      <td>女</td>\n",
       "      <td>159</td>\n",
       "      <td>58</td>\n",
       "      <td>71.4</td>\n",
       "      <td>不清楚</td>\n",
       "      <td>都学习过</td>\n",
       "      <td>SPSS</td>\n",
       "    </tr>\n",
       "    <tr>\n",
       "      <th>50</th>\n",
       "      <td>1540365026</td>\n",
       "      <td>女</td>\n",
       "      <td>169</td>\n",
       "      <td>73</td>\n",
       "      <td>5.5</td>\n",
       "      <td>有必要</td>\n",
       "      <td>统计方法</td>\n",
       "      <td>Excel</td>\n",
       "    </tr>\n",
       "    <tr>\n",
       "      <th>51</th>\n",
       "      <td>1540388036</td>\n",
       "      <td>女</td>\n",
       "      <td>165</td>\n",
       "      <td>67</td>\n",
       "      <td>56.8</td>\n",
       "      <td>不必要</td>\n",
       "      <td>概率统计</td>\n",
       "      <td>SAS</td>\n",
       "    </tr>\n",
       "  </tbody>\n",
       "</table>\n",
       "</div>"
      ],
      "text/plain": [
       "            学号 性别   身高  体重    支出   开设    课程      软件\n",
       "47  1538319004  男  175  68  44.4  不清楚  统计方法     SAS\n",
       "48  1538254010  女  166  65   5.3  不清楚  编程技术  Python\n",
       "49  1540294017  女  159  58  71.4  不清楚  都学习过    SPSS\n",
       "50  1540365026  女  169  73   5.5  有必要  统计方法   Excel\n",
       "51  1540388036  女  165  67  56.8  不必要  概率统计     SAS"
      ]
     },
     "execution_count": 4,
     "metadata": {},
     "output_type": "execute_result"
    }
   ],
   "source": [
    "BSdata=pd.read_excel('PyDm_data.xlsx','BSdata'); BSdata[-5:]"
   ]
  },
  {
   "cell_type": "code",
   "execution_count": null,
   "metadata": {
    "extensions": {
     "jupyter_dashboards": {
      "version": 1,
      "views": {
       "grid_default": {
        "hidden": true
       },
       "report_default": {}
      }
     }
    },
    "hide_input": false,
    "scrolled": true
   },
   "outputs": [],
   "source": [
    "BSdata.to_csv('BSdata1.csv')           \t#将数据框BSdata保存到BSdata.csv中  \n",
    "BSdata.to_excel('BSdata1.xlsx',index=False)\t#将数据框BSdata保存到BSdata1.xlsx中"
   ]
  },
  {
   "cell_type": "code",
   "execution_count": null,
   "metadata": {
    "extensions": {
     "jupyter_dashboards": {
      "version": 1,
      "views": {
       "grid_default": {
        "hidden": true
       },
       "report_default": {}
      }
     }
    },
    "hide_input": false,
    "scrolled": true
   },
   "outputs": [],
   "source": [
    "BSdata.info()            \t\t\t#数据框信息"
   ]
  },
  {
   "cell_type": "code",
   "execution_count": null,
   "metadata": {
    "extensions": {
     "jupyter_dashboards": {
      "version": 1,
      "views": {
       "grid_default": {
        "hidden": true
       },
       "report_default": {}
      }
     }
    },
    "hide_input": false,
    "scrolled": true
   },
   "outputs": [],
   "source": [
    "BSdata.columns  #查看列名称 names(BSdata) or colnames(BSdata)"
   ]
  },
  {
   "cell_type": "code",
   "execution_count": null,
   "metadata": {
    "extensions": {
     "jupyter_dashboards": {
      "version": 1,
      "views": {
       "grid_default": {
        "hidden": true
       },
       "report_default": {}
      }
     }
    },
    "hide_input": true
   },
   "outputs": [],
   "source": [
    "BSdata.head()          \t\t\t\t#显示前5行\n",
    "BSdata.tail()            \t\t\t#显示后5行"
   ]
  },
  {
   "cell_type": "code",
   "execution_count": null,
   "metadata": {
    "extensions": {
     "jupyter_dashboards": {
      "version": 1,
      "views": {
       "grid_default": {
        "hidden": true
       },
       "report_default": {}
      }
     }
    },
    "hide_input": true
   },
   "outputs": [],
   "source": [
    "#BSdata.columns=['ID','setup','course','software','sex','height','weight','spend']\n",
    "BSdata.columns"
   ]
  },
  {
   "cell_type": "code",
   "execution_count": null,
   "metadata": {
    "extensions": {
     "jupyter_dashboards": {
      "version": 1,
      "views": {
       "grid_default": {
        "hidden": true
       },
       "report_default": {}
      }
     }
    },
    "hide_input": false,
    "scrolled": true
   },
   "outputs": [],
   "source": [
    "BSdata.index    #rownames(BSdata)  # row.names(BSdata)"
   ]
  },
  {
   "cell_type": "code",
   "execution_count": null,
   "metadata": {
    "extensions": {
     "jupyter_dashboards": {
      "version": 1,
      "views": {
       "grid_default": {
        "hidden": true
       },
       "report_default": {}
      }
     }
    },
    "scrolled": true
   },
   "outputs": [],
   "source": [
    "BSdata.shape             \t#显示数据框的行数和列数\n",
    "BSdata.shape[0]          \t#数据框行数\n",
    "BSdata.shape[1]          \t#数据框列数"
   ]
  },
  {
   "cell_type": "code",
   "execution_count": null,
   "metadata": {
    "extensions": {
     "jupyter_dashboards": {
      "version": 1,
      "views": {
       "grid_default": {
        "hidden": true
       },
       "report_default": {}
      }
     }
    },
    "scrolled": true
   },
   "outputs": [],
   "source": [
    "BSdata.values[:5]       \t\t#数据框值数组"
   ]
  },
  {
   "cell_type": "code",
   "execution_count": null,
   "metadata": {
    "extensions": {
     "jupyter_dashboards": {
      "version": 1,
      "views": {
       "grid_default": {
        "hidden": true
       },
       "report_default": {}
      }
     }
    },
    "scrolled": true
   },
   "outputs": [],
   "source": [
    "BSdata.身高              \t#取一列数据，BSdata['身高']"
   ]
  },
  {
   "cell_type": "code",
   "execution_count": null,
   "metadata": {
    "extensions": {
     "jupyter_dashboards": {
      "version": 1,
      "views": {
       "grid_default": {
        "hidden": true
       },
       "report_default": {}
      }
     }
    },
    "scrolled": true
   },
   "outputs": [],
   "source": [
    "BSdata[['身高','体重']]  \t\t#取两列数据"
   ]
  },
  {
   "cell_type": "code",
   "execution_count": null,
   "metadata": {
    "extensions": {
     "jupyter_dashboards": {
      "version": 1,
      "views": {
       "grid_default": {
        "hidden": true
       },
       "report_default": {}
      }
     }
    },
    "scrolled": true
   },
   "outputs": [],
   "source": [
    "BSdata.iloc[:,2]     \t\t\t#取1列\n",
    "BSdata.iloc[:,2:4]    \t\t#取3、4列 "
   ]
  },
  {
   "cell_type": "code",
   "execution_count": null,
   "metadata": {
    "extensions": {
     "jupyter_dashboards": {
      "version": 1,
      "views": {
       "grid_default": {
        "hidden": true
       },
       "report_default": {}
      }
     }
    },
    "scrolled": true
   },
   "outputs": [],
   "source": [
    "BSdata.loc[3]          \t\t#取1行"
   ]
  },
  {
   "cell_type": "code",
   "execution_count": null,
   "metadata": {
    "extensions": {
     "jupyter_dashboards": {
      "version": 1,
      "views": {
       "grid_default": {
        "hidden": true
       },
       "report_default": {}
      }
     }
    },
    "scrolled": true
   },
   "outputs": [],
   "source": [
    "BSdata.loc[3:5]        \t\t#取3至5行       "
   ]
  },
  {
   "cell_type": "code",
   "execution_count": null,
   "metadata": {
    "extensions": {
     "jupyter_dashboards": {
      "version": 1,
      "views": {
       "grid_default": {
        "hidden": true
       },
       "report_default": {}
      }
     }
    },
    "scrolled": true
   },
   "outputs": [],
   "source": [
    "BSdata.loc[:3,['身高','体重']]\n",
    "BSdata.iloc[:3,:5]       \t\t#0至2行和1至5列数据"
   ]
  },
  {
   "cell_type": "code",
   "execution_count": null,
   "metadata": {
    "extensions": {
     "jupyter_dashboards": {
      "version": 1,
      "views": {
       "grid_default": {
        "hidden": true
       },
       "report_default": {}
      }
     }
    },
    "scrolled": true
   },
   "outputs": [],
   "source": [
    "BSdata[BSdata['身高']>180]"
   ]
  },
  {
   "cell_type": "code",
   "execution_count": null,
   "metadata": {
    "extensions": {
     "jupyter_dashboards": {
      "version": 1,
      "views": {
       "grid_default": {
        "hidden": true
       },
       "report_default": {}
      }
     }
    },
    "scrolled": true
   },
   "outputs": [],
   "source": [
    "BSdata[(BSdata['身高']>180) & (BSdata['体重']<80)]"
   ]
  },
  {
   "cell_type": "code",
   "execution_count": null,
   "metadata": {
    "extensions": {
     "jupyter_dashboards": {
      "version": 1,
      "views": {
       "grid_default": {
        "hidden": true
       },
       "report_default": {}
      }
     }
    },
    "scrolled": true
   },
   "outputs": [],
   "source": [
    "BSdata['体重指数']=BSdata['体重']/(BSdata['身高']/100)**2 \n",
    "round(BSdata[:5],2)"
   ]
  },
  {
   "cell_type": "code",
   "execution_count": null,
   "metadata": {
    "extensions": {
     "jupyter_dashboards": {
      "version": 1,
      "views": {
       "grid_default": {
        "hidden": true
       },
       "report_default": {}
      }
     }
    },
    "scrolled": true
   },
   "outputs": [],
   "source": [
    "pd.concat([BSdata.身高, BSdata.体重],axis=0)"
   ]
  },
  {
   "cell_type": "code",
   "execution_count": null,
   "metadata": {
    "extensions": {
     "jupyter_dashboards": {
      "version": 1,
      "views": {
       "grid_default": {
        "hidden": true
       },
       "report_default": {}
      }
     }
    },
    "scrolled": true
   },
   "outputs": [],
   "source": [
    "pd.concat([BSdata.身高, BSdata.体重],axis=1)"
   ]
  },
  {
   "cell_type": "code",
   "execution_count": null,
   "metadata": {
    "cell_style": "center",
    "extensions": {
     "jupyter_dashboards": {
      "version": 1,
      "views": {
       "grid_default": {
        "hidden": true
       },
       "report_default": {}
      }
     }
    },
    "scrolled": true
   },
   "outputs": [],
   "source": [
    "BSdata.iloc[:3,:5].T"
   ]
  },
  {
   "cell_type": "markdown",
   "metadata": {
    "cell_style": "center",
    "extensions": {
     "jupyter_dashboards": {
      "version": 1,
      "views": {
       "grid_default": {
        "hidden": true
       },
       "report_default": {}
      }
     }
    }
   },
   "source": [
    "### 1.3.5  Python编程运算"
   ]
  },
  {
   "cell_type": "code",
   "execution_count": null,
   "metadata": {
    "extensions": {
     "jupyter_dashboards": {
      "version": 1,
      "views": {
       "grid_default": {
        "hidden": true
       },
       "report_default": {}
      }
     }
    },
    "scrolled": true,
    "solution": "hidden",
    "solution_first": true
   },
   "outputs": [],
   "source": [
    "for i in range(1,5):\n",
    "  print(i)"
   ]
  },
  {
   "cell_type": "code",
   "execution_count": null,
   "metadata": {
    "extensions": {
     "jupyter_dashboards": {
      "version": 1,
      "views": {
       "grid_default": {
        "hidden": true
       },
       "report_default": {}
      }
     }
    },
    "scrolled": true
   },
   "outputs": [],
   "source": [
    "fruits = ['banana', 'apple', 'mango']\n",
    "for fruit in fruits:        \n",
    "    print('当前水果 :', fruit)"
   ]
  },
  {
   "cell_type": "code",
   "execution_count": null,
   "metadata": {
    "extensions": {
     "jupyter_dashboards": {
      "version": 1,
      "views": {
       "grid_default": {
        "hidden": true
       },
       "report_default": {}
      }
     }
    },
    "scrolled": true
   },
   "outputs": [],
   "source": [
    "for var in BSdata.columns:\n",
    "    print(var)"
   ]
  },
  {
   "cell_type": "code",
   "execution_count": null,
   "metadata": {
    "extensions": {
     "jupyter_dashboards": {
      "version": 1,
      "views": {
       "grid_default": {
        "hidden": true
       },
       "report_default": {}
      }
     }
    },
    "scrolled": true
   },
   "outputs": [],
   "source": [
    "a = -100\n",
    "if a < 100:\n",
    "    print(\"数值小于100\")\n",
    "else:\n",
    "    print(\"数值大于100\")"
   ]
  },
  {
   "cell_type": "code",
   "execution_count": null,
   "metadata": {
    "cell_style": "split",
    "extensions": {
     "jupyter_dashboards": {
      "version": 1,
      "views": {
       "grid_default": {
        "hidden": true
       },
       "report_default": {}
      }
     }
    },
    "scrolled": true
   },
   "outputs": [],
   "source": [
    "-a if a<0 else a"
   ]
  },
  {
   "cell_type": "code",
   "execution_count": null,
   "metadata": {
    "cell_style": "split",
    "extensions": {
     "jupyter_dashboards": {
      "version": 1,
      "views": {
       "grid_default": {
        "hidden": true
       },
       "report_default": {}
      }
     }
    },
    "scrolled": false
   },
   "outputs": [],
   "source": [
    "x=[1,3,6,4,9,7,5,8,2]; x\n",
    "def xbar(x):\n",
    "    n=len(x)\n",
    "    xm=sum(x)/n\n",
    "    return(xm)\n",
    "xbar(x)"
   ]
  },
  {
   "cell_type": "code",
   "execution_count": null,
   "metadata": {
    "extensions": {
     "jupyter_dashboards": {
      "version": 1,
      "views": {
       "grid_default": {
        "hidden": true
       },
       "report_default": {}
      }
     }
    },
    "scrolled": true
   },
   "outputs": [],
   "source": [
    "np.mean(x)"
   ]
  },
  {
   "cell_type": "code",
   "execution_count": null,
   "metadata": {
    "extensions": {
     "jupyter_dashboards": {
      "version": 1,
      "views": {
       "grid_default": {
        "hidden": true
       },
       "report_default": {}
      }
     }
    },
    "scrolled": true
   },
   "outputs": [],
   "source": [
    "X=np.array([1,3,6,4,9,7,5,8,2]);X  #列表数组\n",
    "def SS1(x):\n",
    "    n=len(x)\n",
    "    ss=sum(x**2)-sum(x)**2/n\n",
    "    return(ss)\n",
    "SS1(X)                             #SS1(BSdata.身高)"
   ]
  },
  {
   "cell_type": "code",
   "execution_count": null,
   "metadata": {
    "extensions": {
     "jupyter_dashboards": {
      "version": 1,
      "views": {
       "grid_default": {
        "hidden": true
       },
       "report_default": {}
      }
     }
    },
    "scrolled": true
   },
   "outputs": [],
   "source": [
    "def SS2(x):   \t\t\t\t\t\t#返回多个值\n",
    "    n=len(x)\n",
    "    xm=sum(x)/n\n",
    "    ss=sum(x**2)-sum(x)**2/n\n",
    "    return[x**2,n,xm,ss] #return(x**2,n,xm,ss)\n",
    "SS2(X)  \t\t\t\t\t\t\t#SS2(BSdata.身高)"
   ]
  },
  {
   "cell_type": "code",
   "execution_count": null,
   "metadata": {
    "extensions": {
     "jupyter_dashboards": {
      "version": 1,
      "views": {
       "grid_default": {
        "hidden": true
       },
       "report_default": {}
      }
     }
    },
    "scrolled": true
   },
   "outputs": [],
   "source": [
    "SS2(X)[0]  \t\t\t\t\t\t#取第1个对象\n",
    "SS2(X)[1]  \t\t\t\t\t\t#取第2个对象\n",
    "SS2(X)[2]  \t\t\t\t\t\t#取第3个对象\n",
    "SS2(X)[3]  \t\t\t\t\t\t#取第4个对象"
   ]
  },
  {
   "cell_type": "code",
   "execution_count": null,
   "metadata": {
    "extensions": {
     "jupyter_dashboards": {
      "version": 1,
      "views": {
       "grid_default": {
        "hidden": true
       },
       "report_default": {}
      }
     }
    },
    "scrolled": true
   },
   "outputs": [],
   "source": [
    "type(SS2(X))"
   ]
  },
  {
   "cell_type": "code",
   "execution_count": null,
   "metadata": {
    "extensions": {
     "jupyter_dashboards": {
      "version": 1,
      "views": {
       "grid_default": {
        "hidden": true
       },
       "report_default": {}
      }
     }
    },
    "scrolled": true
   },
   "outputs": [],
   "source": [
    "type(SS2(X)[3])"
   ]
  },
  {
   "cell_type": "markdown",
   "metadata": {
    "extensions": {
     "jupyter_dashboards": {
      "version": 1,
      "views": {
       "grid_default": {
        "hidden": true
       },
       "report_default": {}
      }
     }
    }
   },
   "source": [
    "# 第2章  数据挖掘的分析基础\n",
    "## 2.1  数据的描述分析\n",
    "### 2.1.1  基本统计量"
   ]
  },
  {
   "cell_type": "code",
   "execution_count": null,
   "metadata": {
    "extensions": {
     "jupyter_dashboards": {
      "version": 1,
      "views": {
       "grid_default": {
        "hidden": true
       },
       "report_default": {}
      }
     }
    },
    "scrolled": true
   },
   "outputs": [],
   "source": [
    "BSdata.describe()"
   ]
  },
  {
   "cell_type": "code",
   "execution_count": null,
   "metadata": {
    "extensions": {
     "jupyter_dashboards": {
      "version": 1,
      "views": {
       "grid_default": {
        "hidden": true
       },
       "report_default": {}
      }
     }
    },
    "scrolled": true
   },
   "outputs": [],
   "source": [
    "BSdata[['性别','开设','课程','软件']].describe()"
   ]
  },
  {
   "cell_type": "code",
   "execution_count": null,
   "metadata": {
    "extensions": {
     "jupyter_dashboards": {
      "version": 1,
      "views": {
       "grid_default": {
        "hidden": true
       },
       "report_default": {}
      }
     }
    },
    "scrolled": true
   },
   "outputs": [],
   "source": [
    "T1=BSdata.性别.value_counts();T1   "
   ]
  },
  {
   "cell_type": "code",
   "execution_count": null,
   "metadata": {
    "extensions": {
     "jupyter_dashboards": {
      "version": 1,
      "views": {
       "grid_default": {
        "hidden": true
       },
       "report_default": {}
      }
     }
    }
   },
   "outputs": [],
   "source": [
    "T1/sum(T1)*100"
   ]
  },
  {
   "cell_type": "code",
   "execution_count": null,
   "metadata": {
    "extensions": {
     "jupyter_dashboards": {
      "version": 1,
      "views": {
       "grid_default": {
        "hidden": true
       },
       "report_default": {}
      }
     }
    }
   },
   "outputs": [],
   "source": [
    "BSdata.身高.mean()"
   ]
  },
  {
   "cell_type": "code",
   "execution_count": null,
   "metadata": {
    "extensions": {
     "jupyter_dashboards": {
      "version": 1,
      "views": {
       "grid_default": {
        "hidden": true
       },
       "report_default": {}
      }
     }
    },
    "scrolled": true
   },
   "outputs": [],
   "source": [
    "BSdata.身高.median()"
   ]
  },
  {
   "cell_type": "code",
   "execution_count": null,
   "metadata": {
    "extensions": {
     "jupyter_dashboards": {
      "version": 1,
      "views": {
       "grid_default": {
        "hidden": true
       },
       "report_default": {}
      }
     }
    },
    "scrolled": true
   },
   "outputs": [],
   "source": [
    "BSdata.身高.max()-BSdata.身高.min()"
   ]
  },
  {
   "cell_type": "code",
   "execution_count": null,
   "metadata": {
    "extensions": {
     "jupyter_dashboards": {
      "version": 1,
      "views": {
       "grid_default": {
        "hidden": true
       },
       "report_default": {}
      }
     }
    },
    "scrolled": true
   },
   "outputs": [],
   "source": [
    "BSdata.身高.var()"
   ]
  },
  {
   "cell_type": "code",
   "execution_count": null,
   "metadata": {
    "extensions": {
     "jupyter_dashboards": {
      "version": 1,
      "views": {
       "grid_default": {
        "hidden": true
       },
       "report_default": {}
      }
     }
    },
    "scrolled": true
   },
   "outputs": [],
   "source": [
    "BSdata.身高.std()"
   ]
  },
  {
   "cell_type": "code",
   "execution_count": null,
   "metadata": {
    "extensions": {
     "jupyter_dashboards": {
      "version": 1,
      "views": {
       "grid_default": {
        "hidden": true
       },
       "report_default": {}
      }
     }
    },
    "scrolled": true
   },
   "outputs": [],
   "source": [
    "BSdata.身高.quantile(0.75)-BSdata.身高.quantile(0.25)"
   ]
  },
  {
   "cell_type": "code",
   "execution_count": null,
   "metadata": {
    "extensions": {
     "jupyter_dashboards": {
      "version": 1,
      "views": {
       "grid_default": {
        "hidden": true
       },
       "report_default": {}
      }
     }
    },
    "scrolled": true
   },
   "outputs": [],
   "source": [
    "BSdata.身高.skew()"
   ]
  },
  {
   "cell_type": "code",
   "execution_count": null,
   "metadata": {
    "extensions": {
     "jupyter_dashboards": {
      "version": 1,
      "views": {
       "grid_default": {
        "hidden": true
       },
       "report_default": {}
      }
     }
    },
    "scrolled": true
   },
   "outputs": [],
   "source": [
    "BSdata.身高.kurt()"
   ]
  },
  {
   "cell_type": "code",
   "execution_count": null,
   "metadata": {
    "extensions": {
     "jupyter_dashboards": {
      "version": 1,
      "views": {
       "grid_default": {
        "hidden": true
       },
       "report_default": {}
      }
     }
    },
    "scrolled": true
   },
   "outputs": [],
   "source": [
    "def stats(x):\n",
    "    stat=[x.count(),x.min(),x.quantile(.25),x.mean(),x.median(),\n",
    "         x.quantile(.75),x.max(),x.max()-x.min(),x.var(),x.std(),x.skew(),x.kurt()]\n",
    "    stat=pd.Series(stat,index=['Count','Min', 'Q1(25%)','Mean','Median',\n",
    "                         'Q3(75%)','Max','Range','Var','Std','Skew','Kurt'])\n",
    "    x.plot(kind='kde')   #拟合核密度kde曲线\n",
    "    return(stat)\n",
    "stats(BSdata.身高)"
   ]
  },
  {
   "cell_type": "code",
   "execution_count": null,
   "metadata": {
    "extensions": {
     "jupyter_dashboards": {
      "version": 1,
      "views": {
       "grid_default": {
        "hidden": true
       },
       "report_default": {}
      }
     }
    },
    "scrolled": true
   },
   "outputs": [],
   "source": [
    "stats(BSdata.支出)"
   ]
  },
  {
   "cell_type": "code",
   "execution_count": 5,
   "metadata": {
    "extensions": {
     "jupyter_dashboards": {
      "version": 1,
      "views": {
       "grid_default": {
        "hidden": true
       },
       "report_default": {}
      }
     }
    },
    "scrolled": true
   },
   "outputs": [
    {
     "data": {
      "text/plain": [
       "<Figure size 360x288 with 0 Axes>"
      ]
     },
     "metadata": {},
     "output_type": "display_data"
    }
   ],
   "source": [
    "import matplotlib.pyplot as plt              #基本绘图包\n",
    "plt.rcParams['font.sans-serif']=['KaiTi'];   #SimHei黑体\n",
    "plt.rcParams['axes.unicode_minus']=False;    #正常显示图中负号\n",
    "plt.figure(figsize=(5,4));  "
   ]
  },
  {
   "cell_type": "code",
   "execution_count": null,
   "metadata": {
    "extensions": {
     "jupyter_dashboards": {
      "version": 1,
      "views": {
       "grid_default": {
        "hidden": true
       },
       "report_default": {}
      }
     }
    },
    "scrolled": true
   },
   "outputs": [],
   "source": [
    "X=['A','B','C','D','E','F','G']\n",
    "Y=[1,4,7,3,2,5,6]\n",
    "plt.bar(X,Y);"
   ]
  },
  {
   "cell_type": "code",
   "execution_count": null,
   "metadata": {
    "extensions": {
     "jupyter_dashboards": {
      "version": 1,
      "views": {
       "grid_default": {
        "hidden": true
       },
       "report_default": {}
      }
     }
    },
    "scrolled": true
   },
   "outputs": [],
   "source": [
    "plt.pie(Y,labels=X);"
   ]
  },
  {
   "cell_type": "code",
   "execution_count": null,
   "metadata": {
    "extensions": {
     "jupyter_dashboards": {
      "version": 1,
      "views": {
       "grid_default": {
        "hidden": true
       },
       "report_default": {}
      }
     }
    },
    "scrolled": true
   },
   "outputs": [],
   "source": [
    "plt.plot(X,Y);"
   ]
  },
  {
   "cell_type": "code",
   "execution_count": 5,
   "metadata": {
    "extensions": {
     "jupyter_dashboards": {
      "version": 1,
      "views": {
       "grid_default": {
        "hidden": true
       },
       "report_default": {}
      }
     }
    },
    "scrolled": true
   },
   "outputs": [
    {
     "data": {
      "text/plain": [
       "(array([4., 5., 5., 9., 9., 6., 5., 4., 1., 4.]),\n",
       " array([154. , 157.2, 160.4, 163.6, 166.8, 170. , 173.2, 176.4, 179.6,\n",
       "        182.8, 186. ]),\n",
       " <a list of 10 Patch objects>)"
      ]
     },
     "execution_count": 5,
     "metadata": {},
     "output_type": "execute_result"
    },
    {
     "data": {
      "image/png": "[encoded data removed]",
      "text/plain": [
       "<Figure size 432x288 with 1 Axes>"
      ]
     },
     "metadata": {
      "needs_background": "light"
     },
     "output_type": "display_data"
    }
   ],
   "source": [
    "plt.hist(BSdata.身高)  #频数直方图"
   ]
  },
  {
   "cell_type": "code",
   "execution_count": null,
   "metadata": {
    "extensions": {
     "jupyter_dashboards": {
      "version": 1,
      "views": {
       "grid_default": {
        "hidden": true
       },
       "report_default": {}
      }
     }
    },
    "scrolled": true
   },
   "outputs": [],
   "source": [
    "plt.hist(BSdata.身高,density=True) #频率直方图"
   ]
  },
  {
   "cell_type": "code",
   "execution_count": 6,
   "metadata": {
    "extensions": {
     "jupyter_dashboards": {
      "version": 1,
      "views": {
       "grid_default": {
        "hidden": true
       },
       "report_default": {}
      }
     }
    },
    "scrolled": true
   },
   "outputs": [
    {
     "data": {
      "image/png": "[encoded data removed]",
      "text/plain": [
       "<Figure size 432x288 with 1 Axes>"
      ]
     },
     "metadata": {
      "needs_background": "light"
     },
     "output_type": "display_data"
    }
   ],
   "source": [
    "plt.scatter(BSdata.身高, BSdata.体重);"
   ]
  },
  {
   "cell_type": "code",
   "execution_count": 7,
   "metadata": {
    "extensions": {
     "jupyter_dashboards": {
      "version": 1,
      "views": {
       "grid_default": {
        "hidden": true
       },
       "report_default": {}
      }
     }
    },
    "scrolled": true
   },
   "outputs": [
    {
     "ename": "NameError",
     "evalue": "name 'X' is not defined",
     "output_type": "error",
     "traceback": [
      "\u001b[1;31m---------------------------------------------------------------------------\u001b[0m",
      "\u001b[1;31mNameError\u001b[0m                                 Traceback (most recent call last)",
      "\u001b[1;32m<ipython-input-7-b94764cb62f0>\u001b[0m in \u001b[0;36m<module>\u001b[1;34m\u001b[0m\n\u001b[1;32m----> 1\u001b[1;33m \u001b[0mplt\u001b[0m\u001b[1;33m.\u001b[0m\u001b[0mplot\u001b[0m\u001b[1;33m(\u001b[0m\u001b[0mX\u001b[0m\u001b[1;33m,\u001b[0m\u001b[0mY\u001b[0m\u001b[1;33m,\u001b[0m\u001b[0mc\u001b[0m\u001b[1;33m=\u001b[0m\u001b[1;34m'red'\u001b[0m\u001b[1;33m)\u001b[0m\u001b[1;33m;\u001b[0m\u001b[0mplt\u001b[0m\u001b[1;33m.\u001b[0m\u001b[0mylim\u001b[0m\u001b[1;33m(\u001b[0m\u001b[1;36m0\u001b[0m\u001b[1;33m,\u001b[0m\u001b[1;36m8\u001b[0m\u001b[1;33m)\u001b[0m\u001b[1;33m;\u001b[0m\u001b[1;33m\u001b[0m\u001b[1;33m\u001b[0m\u001b[0m\n\u001b[0m\u001b[0;32m      2\u001b[0m \u001b[0mplt\u001b[0m\u001b[1;33m.\u001b[0m\u001b[0mxlabel\u001b[0m\u001b[1;33m(\u001b[0m\u001b[1;34m'names'\u001b[0m\u001b[1;33m)\u001b[0m\u001b[1;33m;\u001b[0m\u001b[0mplt\u001b[0m\u001b[1;33m.\u001b[0m\u001b[0mylabel\u001b[0m\u001b[1;33m(\u001b[0m\u001b[1;34m'values'\u001b[0m\u001b[1;33m)\u001b[0m\u001b[1;33m;\u001b[0m\u001b[1;33m\u001b[0m\u001b[1;33m\u001b[0m\u001b[0m\n\u001b[0;32m      3\u001b[0m \u001b[0mplt\u001b[0m\u001b[1;33m.\u001b[0m\u001b[0mxticks\u001b[0m\u001b[1;33m(\u001b[0m\u001b[0mrange\u001b[0m\u001b[1;33m(\u001b[0m\u001b[0mlen\u001b[0m\u001b[1;33m(\u001b[0m\u001b[0mX\u001b[0m\u001b[1;33m)\u001b[0m\u001b[1;33m)\u001b[0m\u001b[1;33m,\u001b[0m \u001b[0mX\u001b[0m\u001b[1;33m)\u001b[0m\u001b[1;33m;\u001b[0m\u001b[1;33m\u001b[0m\u001b[1;33m\u001b[0m\u001b[0m\n",
      "\u001b[1;31mNameError\u001b[0m: name 'X' is not defined"
     ]
    }
   ],
   "source": [
    "plt.plot(X,Y,c='red');plt.ylim(0,8);\n",
    "plt.xlabel('names');plt.ylabel('values');\n",
    "plt.xticks(range(len(X)), X);"
   ]
  },
  {
   "cell_type": "code",
   "execution_count": null,
   "metadata": {
    "extensions": {
     "jupyter_dashboards": {
      "version": 1,
      "views": {
       "grid_default": {
        "hidden": true
       },
       "report_default": {}
      }
     }
    },
    "scrolled": true
   },
   "outputs": [],
   "source": [
    "plt.plot(X,Y,linestyle='--',marker='o');"
   ]
  },
  {
   "cell_type": "code",
   "execution_count": null,
   "metadata": {
    "extensions": {
     "jupyter_dashboards": {
      "version": 1,
      "views": {
       "grid_default": {
        "hidden": true
       },
       "report_default": {}
      }
     }
    },
    "scrolled": true
   },
   "outputs": [],
   "source": [
    "plt.plot(X,Y,'o--'); plt.axvline(x=1);plt.axhline(y=4);"
   ]
  },
  {
   "cell_type": "code",
   "execution_count": null,
   "metadata": {
    "extensions": {
     "jupyter_dashboards": {
      "version": 1,
      "views": {
       "grid_default": {
        "hidden": true
       },
       "report_default": {}
      }
     }
    },
    "scrolled": true
   },
   "outputs": [],
   "source": [
    "plt.plot(X,Y);plt.text(2, 7, ' peak point')"
   ]
  },
  {
   "cell_type": "code",
   "execution_count": null,
   "metadata": {
    "extensions": {
     "jupyter_dashboards": {
      "version": 1,
      "views": {
       "grid_default": {
        "hidden": true
       },
       "report_default": {}
      }
     }
    },
    "scrolled": true
   },
   "outputs": [],
   "source": [
    "plt.plot(X,Y,label=u'折线');plt.legend();"
   ]
  },
  {
   "cell_type": "code",
   "execution_count": null,
   "metadata": {
    "extensions": {
     "jupyter_dashboards": {
      "version": 1,
      "views": {
       "grid_default": {
        "hidden": true
       },
       "report_default": {}
      }
     }
    },
    "scrolled": true
   },
   "outputs": [],
   "source": [
    "s=[0.1,0.4,0.7,0.3,0.2,0.5,0.6]\n",
    "plt.bar(X,Y,yerr=s,error_kw={'capsize':5})"
   ]
  },
  {
   "cell_type": "code",
   "execution_count": null,
   "metadata": {
    "extensions": {
     "jupyter_dashboards": {
      "version": 1,
      "views": {
       "grid_default": {
        "hidden": true
       },
       "report_default": {}
      }
     }
    },
    "scrolled": true
   },
   "outputs": [],
   "source": [
    "'''一行绘制两个图形'''\n",
    "plt.subplot(121); plt.bar(X,Y);\n",
    "plt.subplot(122); plt.plot(Y);"
   ]
  },
  {
   "cell_type": "code",
   "execution_count": null,
   "metadata": {
    "extensions": {
     "jupyter_dashboards": {
      "version": 1,
      "views": {
       "grid_default": {
        "hidden": true
       },
       "report_default": {}
      }
     }
    },
    "scrolled": true
   },
   "outputs": [],
   "source": [
    "'''一列绘制两个图形 '''\n",
    "plt.subplot(211); plt.bar(X,Y);\n",
    "plt.subplot(212); plt.plot(Y);"
   ]
  },
  {
   "cell_type": "code",
   "execution_count": null,
   "metadata": {
    "extensions": {
     "jupyter_dashboards": {
      "version": 1,
      "views": {
       "grid_default": {
        "hidden": true
       },
       "report_default": {}
      }
     }
    },
    "scrolled": true
   },
   "outputs": [],
   "source": [
    "fig,ax = plt.subplots(1,2,figsize=(15,6))  #一页绘制两个图形\n",
    "ax[0].bar(X,Y);ax[1].plot(X,Y);"
   ]
  },
  {
   "cell_type": "code",
   "execution_count": null,
   "metadata": {
    "extensions": {
     "jupyter_dashboards": {
      "version": 1,
      "views": {
       "grid_default": {
        "hidden": true
       },
       "report_default": {}
      }
     }
    },
    "scrolled": true
   },
   "outputs": [],
   "source": [
    "fig,ax=plt.subplots(2,2,figsize=(15,12)) #一页绘制四个图形\n",
    "ax[0,0].bar(X,Y)\n",
    "ax[0,1].pie(Y,labels=X)\n",
    "ax[1,0].plot(Y);\n",
    "ax[1,1].plot(Y,'.-',linewidth=3);"
   ]
  },
  {
   "cell_type": "code",
   "execution_count": 8,
   "metadata": {
    "extensions": {
     "jupyter_dashboards": {
      "version": 1,
      "views": {
       "grid_default": {
        "hidden": true
       },
       "report_default": {}
      }
     }
    },
    "scrolled": true
   },
   "outputs": [
    {
     "data": {
      "image/png": "[encoded data removed]",
      "text/plain": [
       "<Figure size 432x288 with 1 Axes>"
      ]
     },
     "metadata": {
      "needs_background": "light"
     },
     "output_type": "display_data"
    }
   ],
   "source": [
    "BSdata['体重'].plot(kind='line');\n",
    "BSdata['体重'].plot(kind='hist');\n",
    "BSdata['体重'].plot(kind='box');"
   ]
  },
  {
   "cell_type": "code",
   "execution_count": 9,
   "metadata": {
    "extensions": {
     "jupyter_dashboards": {
      "version": 1,
      "views": {
       "grid_default": {
        "hidden": true
       },
       "report_default": {}
      }
     }
    },
    "scrolled": true
   },
   "outputs": [
    {
     "data": {
      "image/png": "[encoded data removed]",
      "text/plain": [
       "<Figure size 432x288 with 1 Axes>"
      ]
     },
     "metadata": {
      "needs_background": "light"
     },
     "output_type": "display_data"
    }
   ],
   "source": [
    "BSdata['体重'].plot(kind='density',title='Density');"
   ]
  },
  {
   "cell_type": "code",
   "execution_count": null,
   "metadata": {
    "extensions": {
     "jupyter_dashboards": {
      "version": 1,
      "views": {
       "grid_default": {
        "hidden": true
       },
       "report_default": {}
      }
     }
    },
    "scrolled": true
   },
   "outputs": [],
   "source": [
    "BSdata[['身高','体重','支出']].plot(subplots=True,layout=(1,3),kind='box');"
   ]
  },
  {
   "cell_type": "code",
   "execution_count": null,
   "metadata": {
    "extensions": {
     "jupyter_dashboards": {
      "version": 1,
      "views": {
       "grid_default": {
        "hidden": true
       },
       "report_default": {}
      }
     }
    },
    "scrolled": true
   },
   "outputs": [],
   "source": [
    "BSdata[['身高','体重','支出']].plot(subplots=True,layout=(1,3),kind='density');"
   ]
  },
  {
   "cell_type": "code",
   "execution_count": null,
   "metadata": {
    "extensions": {
     "jupyter_dashboards": {
      "version": 1,
      "views": {
       "grid_default": {
        "hidden": true
       },
       "report_default": {}
      }
     }
    },
    "scrolled": true
   },
   "outputs": [],
   "source": [
    "BSdata[['身高','体重','支出']].plot(subplots=True,layout=(3,1),kind='density');"
   ]
  },
  {
   "cell_type": "code",
   "execution_count": 10,
   "metadata": {
    "extensions": {
     "jupyter_dashboards": {
      "version": 1,
      "views": {
       "grid_default": {
        "hidden": true
       },
       "report_default": {}
      }
     }
    },
    "scrolled": true
   },
   "outputs": [
    {
     "data": {
      "text/plain": [
       "有必要    29\n",
       "不清楚    12\n",
       "不必要    11\n",
       "Name: 开设, dtype: int64"
      ]
     },
     "execution_count": 10,
     "metadata": {},
     "output_type": "execute_result"
    },
    {
     "data": {
      "text/html": [
       "<div>\n",
       "<style scoped>\n",
       "    .dataframe tbody tr th:only-of-type {\n",
       "        vertical-align: middle;\n",
       "    }\n",
       "\n",
       "    .dataframe tbody tr th {\n",
       "        vertical-align: top;\n",
       "    }\n",
       "\n",
       "    .dataframe thead th {\n",
       "        text-align: right;\n",
       "    }\n",
       "</style>\n",
       "<table border=\"1\" class=\"dataframe\">\n",
       "  <thead>\n",
       "    <tr style=\"text-align: right;\">\n",
       "      <th></th>\n",
       "      <th>频数</th>\n",
       "      <th>频率</th>\n",
       "    </tr>\n",
       "  </thead>\n",
       "  <tbody>\n",
       "    <tr>\n",
       "      <th>有必要</th>\n",
       "      <td>29</td>\n",
       "      <td>55.7692</td>\n",
       "    </tr>\n",
       "    <tr>\n",
       "      <th>不清楚</th>\n",
       "      <td>12</td>\n",
       "      <td>23.0769</td>\n",
       "    </tr>\n",
       "    <tr>\n",
       "      <th>不必要</th>\n",
       "      <td>11</td>\n",
       "      <td>21.1538</td>\n",
       "    </tr>\n",
       "  </tbody>\n",
       "</table>\n",
       "</div>"
      ],
      "text/plain": [
       "     频数       频率\n",
       "有必要  29  55.7692\n",
       "不清楚  12  23.0769\n",
       "不必要  11  21.1538"
      ]
     },
     "execution_count": 10,
     "metadata": {},
     "output_type": "execute_result"
    }
   ],
   "source": [
    "T1=BSdata['开设'].value_counts();T1\n",
    "pd.DataFrame({'频数':T1,'频率':T1/T1.sum()*100})"
   ]
  },
  {
   "cell_type": "code",
   "execution_count": 11,
   "metadata": {
    "extensions": {
     "jupyter_dashboards": {
      "version": 1,
      "views": {
       "grid_default": {
        "hidden": true
       },
       "report_default": {}
      }
     }
    },
    "scrolled": true
   },
   "outputs": [
    {
     "data": {
      "image/png": "[encoded data removed]",
      "text/plain": [
       "<Figure size 432x288 with 1 Axes>"
      ]
     },
     "metadata": {
      "needs_background": "light"
     },
     "output_type": "display_data"
    }
   ],
   "source": [
    "T1.plot(kind='bar');  #T1.sort_values().plot(kind='bar');"
   ]
  },
  {
   "cell_type": "code",
   "execution_count": null,
   "metadata": {
    "extensions": {
     "jupyter_dashboards": {
      "version": 1,
      "views": {
       "grid_default": {
        "hidden": true
       },
       "report_default": {}
      }
     }
    },
    "scrolled": true
   },
   "outputs": [],
   "source": [
    "T1.plot(kind='pie');"
   ]
  },
  {
   "cell_type": "code",
   "execution_count": null,
   "metadata": {
    "extensions": {
     "jupyter_dashboards": {
      "version": 1,
      "views": {
       "grid_default": {
        "hidden": true
       },
       "report_default": {}
      }
     }
    },
    "scrolled": true
   },
   "outputs": [],
   "source": [
    "pd.cut(BSdata.身高,bins=10).value_counts()"
   ]
  },
  {
   "cell_type": "code",
   "execution_count": null,
   "metadata": {
    "extensions": {
     "jupyter_dashboards": {
      "version": 1,
      "views": {
       "grid_default": {
        "hidden": true
       },
       "report_default": {}
      }
     }
    },
    "scrolled": true
   },
   "outputs": [],
   "source": [
    "pd.cut(BSdata.身高,bins=10).value_counts().plot(kind='bar');"
   ]
  },
  {
   "cell_type": "code",
   "execution_count": null,
   "metadata": {
    "extensions": {
     "jupyter_dashboards": {
      "version": 1,
      "views": {
       "grid_default": {
        "hidden": true
       },
       "report_default": {}
      }
     }
    },
    "scrolled": true
   },
   "outputs": [],
   "source": [
    "pd.cut(BSdata.支出,bins=[0,10,30,100]).value_counts()"
   ]
  },
  {
   "cell_type": "code",
   "execution_count": null,
   "metadata": {
    "extensions": {
     "jupyter_dashboards": {
      "version": 1,
      "views": {
       "grid_default": {
        "hidden": true
       },
       "report_default": {}
      }
     }
    },
    "scrolled": true
   },
   "outputs": [],
   "source": [
    "pd.cut(BSdata.支出,bins=[0,10,30,100]).value_counts().plot(kind='bar');"
   ]
  },
  {
   "cell_type": "markdown",
   "metadata": {
    "extensions": {
     "jupyter_dashboards": {
      "version": 1,
      "views": {
       "grid_default": {
        "hidden": true
       },
       "report_default": {}
      }
     }
    }
   },
   "source": [
    "### 2.2.2  二维集聚分析"
   ]
  },
  {
   "cell_type": "code",
   "execution_count": null,
   "metadata": {
    "extensions": {
     "jupyter_dashboards": {
      "version": 1,
      "views": {
       "grid_default": {
        "hidden": true
       },
       "report_default": {}
      }
     }
    },
    "scrolled": true
   },
   "outputs": [],
   "source": [
    "pd.crosstab(BSdata.开设,BSdata.课程)"
   ]
  },
  {
   "cell_type": "code",
   "execution_count": null,
   "metadata": {
    "extensions": {
     "jupyter_dashboards": {
      "version": 1,
      "views": {
       "grid_default": {
        "hidden": true
       },
       "report_default": {}
      }
     }
    },
    "scrolled": true
   },
   "outputs": [],
   "source": [
    "pd.crosstab(BSdata.开设,BSdata.课程,margins=True)"
   ]
  },
  {
   "cell_type": "code",
   "execution_count": null,
   "metadata": {
    "extensions": {
     "jupyter_dashboards": {
      "version": 1,
      "views": {
       "grid_default": {
        "hidden": true
       },
       "report_default": {}
      }
     }
    },
    "scrolled": true
   },
   "outputs": [],
   "source": [
    "pd.crosstab(BSdata.开设, BSdata.课程, margins=True, normalize='index')"
   ]
  },
  {
   "cell_type": "code",
   "execution_count": null,
   "metadata": {
    "extensions": {
     "jupyter_dashboards": {
      "version": 1,
      "views": {
       "grid_default": {
        "hidden": true
       },
       "report_default": {}
      }
     }
    },
    "scrolled": true
   },
   "outputs": [],
   "source": [
    "pd.crosstab(BSdata.开设, BSdata.课程, margins=True, normalize='columns')"
   ]
  },
  {
   "cell_type": "code",
   "execution_count": null,
   "metadata": {
    "extensions": {
     "jupyter_dashboards": {
      "version": 1,
      "views": {
       "grid_default": {
        "hidden": true
       },
       "report_default": {}
      }
     }
    },
    "scrolled": true
   },
   "outputs": [],
   "source": [
    "pd.crosstab(BSdata.开设, BSdata.课程, margins=True, normalize='all')"
   ]
  },
  {
   "cell_type": "code",
   "execution_count": 12,
   "metadata": {
    "extensions": {
     "jupyter_dashboards": {
      "version": 1,
      "views": {
       "grid_default": {
        "hidden": true
       },
       "report_default": {}
      }
     }
    },
    "scrolled": true
   },
   "outputs": [
    {
     "data": {
      "image/png": "[encoded data removed]",
      "text/plain": [
       "<Figure size 432x288 with 1 Axes>"
      ]
     },
     "metadata": {
      "needs_background": "light"
     },
     "output_type": "display_data"
    }
   ],
   "source": [
    "T2=pd.crosstab(BSdata.开设, BSdata.课程);T2\n",
    "T2.plot(kind='bar');"
   ]
  },
  {
   "cell_type": "code",
   "execution_count": null,
   "metadata": {
    "extensions": {
     "jupyter_dashboards": {
      "version": 1,
      "views": {
       "grid_default": {
        "hidden": true
       },
       "report_default": {}
      }
     }
    },
    "scrolled": true
   },
   "outputs": [],
   "source": [
    "BSdata.groupby(['性别'])\n",
    "type(BSdata.groupby(['性别']))"
   ]
  },
  {
   "cell_type": "code",
   "execution_count": null,
   "metadata": {
    "extensions": {
     "jupyter_dashboards": {
      "version": 1,
      "views": {
       "grid_default": {
        "hidden": true
       },
       "report_default": {}
      }
     }
    },
    "scrolled": true
   },
   "outputs": [],
   "source": [
    "BSdata.groupby(['性别'])['身高'].mean()"
   ]
  },
  {
   "cell_type": "code",
   "execution_count": null,
   "metadata": {
    "extensions": {
     "jupyter_dashboards": {
      "version": 1,
      "views": {
       "grid_default": {
        "hidden": true
       },
       "report_default": {}
      }
     }
    },
    "scrolled": true
   },
   "outputs": [],
   "source": [
    "BSdata.groupby(['性别'])['身高'].size()"
   ]
  },
  {
   "cell_type": "code",
   "execution_count": null,
   "metadata": {
    "extensions": {
     "jupyter_dashboards": {
      "version": 1,
      "views": {
       "grid_default": {
        "hidden": true
       },
       "report_default": {}
      }
     }
    },
    "scrolled": true
   },
   "outputs": [],
   "source": [
    "BSdata.groupby(['性别','开设'])['身高'].mean()"
   ]
  },
  {
   "cell_type": "code",
   "execution_count": null,
   "metadata": {
    "extensions": {
     "jupyter_dashboards": {
      "version": 1,
      "views": {
       "grid_default": {
        "hidden": true
       },
       "report_default": {}
      }
     }
    },
    "scrolled": true
   },
   "outputs": [],
   "source": [
    "BSdata.groupby(['性别'])['身高'].agg([np.mean, np.std])"
   ]
  },
  {
   "cell_type": "code",
   "execution_count": null,
   "metadata": {
    "extensions": {
     "jupyter_dashboards": {
      "version": 1,
      "views": {
       "grid_default": {
        "hidden": true
       },
       "report_default": {}
      }
     }
    },
    "scrolled": true
   },
   "outputs": [],
   "source": [
    "BSdata.groupby(['性别'])['身高','体重'].apply(np.mean) "
   ]
  },
  {
   "cell_type": "code",
   "execution_count": null,
   "metadata": {
    "extensions": {
     "jupyter_dashboards": {
      "version": 1,
      "views": {
       "grid_default": {
        "hidden": true
       },
       "report_default": {}
      }
     }
    },
    "scrolled": true
   },
   "outputs": [],
   "source": [
    "BSdata.groupby(['性别','开设'])['身高','体重'].apply(np.mean)  "
   ]
  },
  {
   "cell_type": "markdown",
   "metadata": {
    "extensions": {
     "jupyter_dashboards": {
      "version": 1,
      "views": {
       "grid_default": {
        "hidden": true
       },
       "report_default": {}
      }
     }
    }
   },
   "source": [
    "### 2.2.3  多维透视分析"
   ]
  },
  {
   "cell_type": "code",
   "execution_count": null,
   "metadata": {
    "extensions": {
     "jupyter_dashboards": {
      "version": 1,
      "views": {
       "grid_default": {
        "hidden": true
       },
       "report_default": {}
      }
     }
    },
    "scrolled": true
   },
   "outputs": [],
   "source": [
    "BSdata.pivot_table(index=['性别'],values=['学号'],aggfunc=len)"
   ]
  },
  {
   "cell_type": "code",
   "execution_count": null,
   "metadata": {
    "extensions": {
     "jupyter_dashboards": {
      "version": 1,
      "views": {
       "grid_default": {
        "hidden": true
       },
       "report_default": {}
      }
     }
    },
    "scrolled": true
   },
   "outputs": [],
   "source": [
    "BSdata.pivot_table(values=['学号'],index=['性别','开设'],aggfunc=len)"
   ]
  },
  {
   "cell_type": "code",
   "execution_count": null,
   "metadata": {
    "extensions": {
     "jupyter_dashboards": {
      "version": 1,
      "views": {
       "grid_default": {
        "hidden": true
       },
       "report_default": {}
      }
     }
    },
    "scrolled": true
   },
   "outputs": [],
   "source": [
    "BSdata.pivot_table(values=['学号'],index=['开设'],columns=['性别'],aggfunc=len)"
   ]
  },
  {
   "cell_type": "code",
   "execution_count": null,
   "metadata": {},
   "outputs": [],
   "source": [
    "BSdata.pivot_table(index=['性别'],values=[\"身高\"],aggfunc=np.mean)"
   ]
  },
  {
   "cell_type": "code",
   "execution_count": null,
   "metadata": {},
   "outputs": [],
   "source": [
    "BSdata.pivot_table(index=['性别'],values=[\"身高\"],aggfunc=[np.mean,np.std])"
   ]
  },
  {
   "cell_type": "code",
   "execution_count": null,
   "metadata": {},
   "outputs": [],
   "source": [
    "BSdata.pivot_table(index=[\"性别\"],values=[\"身高\",\"体重\"])"
   ]
  },
  {
   "cell_type": "code",
   "execution_count": null,
   "metadata": {},
   "outputs": [],
   "source": [
    "BSdata.pivot_table('学号',['性别','开设'],'课程',aggfunc=len,\n",
    "                 margins=True,margins_name='合计')"
   ]
  },
  {
   "cell_type": "code",
   "execution_count": null,
   "metadata": {},
   "outputs": [],
   "source": [
    "BSdata.pivot_table(['身高','体重'],['性别',\"开设\"],aggfunc=[len,np.mean,np.std] )"
   ]
  },
  {
   "cell_type": "markdown",
   "metadata": {},
   "source": [
    "# 第3章  简单数据的统计分析\n",
    "## 3.1  随机变量及其分布\n",
    "### 3.1.1  均匀分布"
   ]
  },
  {
   "cell_type": "code",
   "execution_count": null,
   "metadata": {
    "extensions": {
     "jupyter_dashboards": {
      "version": 1,
      "views": {
       "grid_default": {
        "hidden": true
       },
       "report_default": {}
      }
     }
    },
    "scrolled": true,
    "slideshow": {
     "slide_type": "fragment"
    }
   },
   "outputs": [],
   "source": [
    "a=0;b=1;y=1/(b-a)\n",
    "plt.plot(a,y); plt.hlines(y,a,b);"
   ]
  },
  {
   "cell_type": "code",
   "execution_count": null,
   "metadata": {
    "extensions": {
     "jupyter_dashboards": {
      "version": 1,
      "views": {
       "grid_default": {
        "hidden": true
       },
       "report_default": {}
      }
     }
    },
    "scrolled": true,
    "slideshow": {
     "slide_type": "fragment"
    }
   },
   "outputs": [],
   "source": [
    "import random\n",
    "random.randint(10,20)  #[10,20]内的随机整数"
   ]
  },
  {
   "cell_type": "code",
   "execution_count": null,
   "metadata": {
    "extensions": {
     "jupyter_dashboards": {
      "version": 1,
      "views": {
       "grid_default": {
        "hidden": true
       },
       "report_default": {}
      }
     }
    },
    "scrolled": true,
    "slideshow": {
     "slide_type": "slide"
    }
   },
   "outputs": [],
   "source": [
    "random.uniform(0,1)    #[0,1)内的随机实数"
   ]
  },
  {
   "cell_type": "code",
   "execution_count": null,
   "metadata": {
    "extensions": {
     "jupyter_dashboards": {
      "version": 1,
      "views": {
       "grid_default": {
        "hidden": true
       },
       "report_default": {}
      }
     }
    },
    "scrolled": true
   },
   "outputs": [],
   "source": [
    "np.random.uniform(0,1,10)  #[0,1]内的10个随机数=np.random.rand(10)"
   ]
  },
  {
   "cell_type": "code",
   "execution_count": null,
   "metadata": {
    "extensions": {
     "jupyter_dashboards": {
      "version": 1,
      "views": {
       "grid_default": {
        "hidden": true
       },
       "report_default": {}
      }
     }
    },
    "scrolled": true
   },
   "outputs": [],
   "source": [
    "from math import sqrt,pi   \n",
    "x=np.linspace(-4,4,50);\n",
    "y=1/sqrt(2*pi)*np.exp(-x**2/2);\n",
    "plt.plot(x,y);"
   ]
  },
  {
   "cell_type": "code",
   "execution_count": null,
   "metadata": {
    "extensions": {
     "jupyter_dashboards": {
      "version": 1,
      "views": {
       "grid_default": {
        "hidden": true
       },
       "report_default": {}
      }
     }
    },
    "scrolled": true
   },
   "outputs": [],
   "source": [
    "import scipy.stats as st   #加载统计方法包\n",
    "P=st.norm.cdf(2);P"
   ]
  },
  {
   "cell_type": "code",
   "execution_count": null,
   "metadata": {
    "extensions": {
     "jupyter_dashboards": {
      "version": 1,
      "views": {
       "grid_default": {
        "hidden": true
       },
       "report_default": {}
      }
     }
    },
    "scrolled": true
   },
   "outputs": [],
   "source": [
    "za=st.norm.ppf(0.95);za   #单侧"
   ]
  },
  {
   "cell_type": "code",
   "execution_count": null,
   "metadata": {
    "extensions": {
     "jupyter_dashboards": {
      "version": 1,
      "views": {
       "grid_default": {
        "hidden": true
       },
       "report_default": {}
      }
     }
    },
    "scrolled": true
   },
   "outputs": [],
   "source": [
    "[st.norm.ppf(0.025),st.norm.ppf(0.975)]  #双侧"
   ]
  },
  {
   "cell_type": "code",
   "execution_count": null,
   "metadata": {
    "extensions": {
     "jupyter_dashboards": {
      "version": 1,
      "views": {
       "grid_default": {
        "hidden": true
       },
       "report_default": {}
      }
     }
    },
    "scrolled": true
   },
   "outputs": [],
   "source": [
    "np.random.normal(0,1,5)   \t\t\t\t#生成5个标准正态分布随机数"
   ]
  },
  {
   "cell_type": "code",
   "execution_count": null,
   "metadata": {
    "extensions": {
     "jupyter_dashboards": {
      "version": 1,
      "views": {
       "grid_default": {
        "hidden": true
       },
       "report_default": {}
      }
     }
    },
    "scrolled": true
   },
   "outputs": [],
   "source": [
    "z=np.random.normal(0,1,100)\n",
    "plt.hist(z)"
   ]
  },
  {
   "cell_type": "code",
   "execution_count": null,
   "metadata": {
    "extensions": {
     "jupyter_dashboards": {
      "version": 1,
      "views": {
       "grid_default": {
        "hidden": true
       },
       "report_default": {}
      }
     }
    },
    "scrolled": true
   },
   "outputs": [],
   "source": [
    "'''一页绘制四个正态随机图 '''\n",
    "fig,ax = plt.subplots(2,2)\n",
    "for i in range(2):\n",
    "    for j in range(2):\n",
    "        ax[i,j].hist(np.random.normal(0,1,500),bins = 50);\n",
    "plt.subplots_adjust(wspace = 0,hspace=0);"
   ]
  },
  {
   "cell_type": "code",
   "execution_count": null,
   "metadata": {
    "extensions": {
     "jupyter_dashboards": {
      "version": 1,
      "views": {
       "grid_default": {
        "hidden": true
       },
       "report_default": {}
      }
     }
    },
    "scrolled": true
   },
   "outputs": [],
   "source": [
    "np.random.normal(10,4,5)    #产生5个均值为10、标准差为4的正态随机数"
   ]
  },
  {
   "cell_type": "markdown",
   "metadata": {
    "extensions": {
     "jupyter_dashboards": {
      "version": 1,
      "views": {
       "grid_default": {
        "hidden": true
       },
       "report_default": {}
      }
     }
    }
   },
   "source": [
    "## 3.2  随机模拟及其应用\n",
    "### 3.2.1  随机模拟方法"
   ]
  },
  {
   "cell_type": "code",
   "execution_count": null,
   "metadata": {},
   "outputs": [],
   "source": [
    "def Bernoulli(N=100):\n",
    "    p=np.zeros(N)    \n",
    "    for n in range(1,N):\n",
    "       f=np.random.randint(0,2,n)  #[0,1]\n",
    "       m=sum(f)\n",
    "       p[n]=m/n\n",
    "    plt.plot(p);plt.hlines(0.5,1,N)  \n",
    "Bernoulli()"
   ]
  },
  {
   "cell_type": "code",
   "execution_count": null,
   "metadata": {},
   "outputs": [],
   "source": [
    "Bernoulli(1000)"
   ]
  },
  {
   "cell_type": "code",
   "execution_count": null,
   "metadata": {},
   "outputs": [],
   "source": [
    "from math import sqrt,pi,exp\n",
    "def g(x):\n",
    "    return (1/sqrt(2*pi))*exp(-x**2/2)\n",
    "def I(n,a,b,g):\n",
    "    x=np.random.uniform(0,1,n)\n",
    "    return sum([(b-a)*g(a+(b-a)*y) for y in x])/n\n",
    "I(10000,-1,1,g)"
   ]
  },
  {
   "cell_type": "code",
   "execution_count": null,
   "metadata": {},
   "outputs": [],
   "source": [
    "from scipy.integrate import quad\n",
    "quad(g,-1,1)"
   ]
  },
  {
   "cell_type": "markdown",
   "metadata": {},
   "source": [
    "## 3.3  单变量统计分析模型\n",
    "### 3.3.1  单变量线性相关模型"
   ]
  },
  {
   "cell_type": "code",
   "execution_count": null,
   "metadata": {},
   "outputs": [],
   "source": [
    "x=BSdata.身高;y=BSdata.体重\n",
    "plt.plot(x, y,'o');   #plt.scatter(x,y);"
   ]
  },
  {
   "cell_type": "code",
   "execution_count": null,
   "metadata": {},
   "outputs": [],
   "source": [
    "x.cov(y)   #y.cov(x)"
   ]
  },
  {
   "cell_type": "code",
   "execution_count": null,
   "metadata": {},
   "outputs": [],
   "source": [
    "x.corr(y)   #y.corr(x)"
   ]
  },
  {
   "cell_type": "code",
   "execution_count": null,
   "metadata": {},
   "outputs": [],
   "source": [
    "st.pearsonr(x,y)   #Pearson相关及检验"
   ]
  },
  {
   "cell_type": "code",
   "execution_count": null,
   "metadata": {},
   "outputs": [],
   "source": [
    "import statsmodels.api as sm             \t\t#加载线性回归模型库\n",
    "fm1=sm.OLS(y,sm.add_constant(x)).fit()   \t#普通最小二乘，加常数项\n",
    "fm1.params "
   ]
  },
  {
   "cell_type": "code",
   "execution_count": null,
   "metadata": {},
   "outputs": [],
   "source": [
    "yfit=fm1.fittedvalues\n",
    "plt.plot(x, y,'.',x,yfit, 'r-');"
   ]
  },
  {
   "cell_type": "code",
   "execution_count": null,
   "metadata": {},
   "outputs": [],
   "source": [
    "fm1.tvalues                            \t#系数t的检验值"
   ]
  },
  {
   "cell_type": "code",
   "execution_count": null,
   "metadata": {},
   "outputs": [],
   "source": [
    "fm1.pvalues                            \t#系数t的检验概率"
   ]
  },
  {
   "cell_type": "code",
   "execution_count": null,
   "metadata": {},
   "outputs": [],
   "source": [
    "pd.DataFrame({'b估计值':fm1.params,'t值':fm1.tvalues,'概率p':fm1.pvalues})"
   ]
  },
  {
   "cell_type": "code",
   "execution_count": null,
   "metadata": {},
   "outputs": [],
   "source": [
    "import statsmodels.formula.api as smf  #根据公式建回归模型\n",
    "fm2=smf.ols('体重~身高', BSdata).fit()\n",
    "fm2.summary2().tables[1]               #回归系数检验表"
   ]
  },
  {
   "cell_type": "code",
   "execution_count": null,
   "metadata": {},
   "outputs": [],
   "source": [
    "fm2.predict(pd.DataFrame({'身高': [178,188,190]}))   #估计与预测"
   ]
  },
  {
   "cell_type": "markdown",
   "metadata": {
    "extensions": {
     "jupyter_dashboards": {
      "version": 1,
      "views": {
       "grid_default": {
        "hidden": true
       },
       "report_default": {}
      }
     }
    }
   },
   "source": [
    "# 第二部分  数据分析高级方法\n",
    "# 第4章 复杂数据的综合分析"
   ]
  },
  {
   "cell_type": "code",
   "execution_count": null,
   "metadata": {},
   "outputs": [],
   "source": [
    "pd.read_excel('PyDm_data.xlsx','MVdata')"
   ]
  },
  {
   "cell_type": "code",
   "execution_count": 13,
   "metadata": {},
   "outputs": [
    {
     "data": {
      "text/html": [
       "<div>\n",
       "<style scoped>\n",
       "    .dataframe tbody tr th:only-of-type {\n",
       "        vertical-align: middle;\n",
       "    }\n",
       "\n",
       "    .dataframe tbody tr th {\n",
       "        vertical-align: top;\n",
       "    }\n",
       "\n",
       "    .dataframe thead th {\n",
       "        text-align: right;\n",
       "    }\n",
       "</style>\n",
       "<table border=\"1\" class=\"dataframe\">\n",
       "  <thead>\n",
       "    <tr style=\"text-align: right;\">\n",
       "      <th></th>\n",
       "      <th>生产总值</th>\n",
       "      <th>从业人员</th>\n",
       "      <th>固定资产</th>\n",
       "      <th>利用外资</th>\n",
       "      <th>进出口额</th>\n",
       "      <th>新品出口</th>\n",
       "      <th>市场占有</th>\n",
       "      <th>对外依存</th>\n",
       "    </tr>\n",
       "    <tr>\n",
       "      <th>地区</th>\n",
       "      <th></th>\n",
       "      <th></th>\n",
       "      <th></th>\n",
       "      <th></th>\n",
       "      <th></th>\n",
       "      <th></th>\n",
       "      <th></th>\n",
       "      <th></th>\n",
       "    </tr>\n",
       "  </thead>\n",
       "  <tbody>\n",
       "    <tr>\n",
       "      <th>北京</th>\n",
       "      <td>162.5193</td>\n",
       "      <td>1069.7000</td>\n",
       "      <td>55.7893</td>\n",
       "      <td>196.906</td>\n",
       "      <td>3894.9</td>\n",
       "      <td>6470.514</td>\n",
       "      <td>2.6347</td>\n",
       "      <td>1.5479</td>\n",
       "    </tr>\n",
       "    <tr>\n",
       "      <th>天津</th>\n",
       "      <td>113.0728</td>\n",
       "      <td>763.1600</td>\n",
       "      <td>70.6767</td>\n",
       "      <td>61.947</td>\n",
       "      <td>1033.9</td>\n",
       "      <td>7490.317</td>\n",
       "      <td>1.9862</td>\n",
       "      <td>0.5906</td>\n",
       "    </tr>\n",
       "    <tr>\n",
       "      <th>河北</th>\n",
       "      <td>245.1576</td>\n",
       "      <td>3962.4200</td>\n",
       "      <td>163.8933</td>\n",
       "      <td>178.782</td>\n",
       "      <td>536.0</td>\n",
       "      <td>2288.188</td>\n",
       "      <td>1.2756</td>\n",
       "      <td>0.1412</td>\n",
       "    </tr>\n",
       "    <tr>\n",
       "      <th>山西</th>\n",
       "      <td>112.3755</td>\n",
       "      <td>1738.9000</td>\n",
       "      <td>70.7306</td>\n",
       "      <td>104.945</td>\n",
       "      <td>147.6</td>\n",
       "      <td>1522.788</td>\n",
       "      <td>0.2424</td>\n",
       "      <td>0.0848</td>\n",
       "    </tr>\n",
       "    <tr>\n",
       "      <th>内蒙古</th>\n",
       "      <td>143.5988</td>\n",
       "      <td>1249.3000</td>\n",
       "      <td>103.6517</td>\n",
       "      <td>54.426</td>\n",
       "      <td>119.4</td>\n",
       "      <td>342.358</td>\n",
       "      <td>0.2093</td>\n",
       "      <td>0.0537</td>\n",
       "    </tr>\n",
       "    <tr>\n",
       "      <th>辽宁</th>\n",
       "      <td>222.2670</td>\n",
       "      <td>2364.9000</td>\n",
       "      <td>177.2629</td>\n",
       "      <td>155.296</td>\n",
       "      <td>959.6</td>\n",
       "      <td>4150.239</td>\n",
       "      <td>2.2781</td>\n",
       "      <td>0.2788</td>\n",
       "    </tr>\n",
       "    <tr>\n",
       "      <th>吉林</th>\n",
       "      <td>105.6883</td>\n",
       "      <td>1337.8000</td>\n",
       "      <td>74.4171</td>\n",
       "      <td>58.843</td>\n",
       "      <td>220.5</td>\n",
       "      <td>746.941</td>\n",
       "      <td>0.2232</td>\n",
       "      <td>0.1348</td>\n",
       "    </tr>\n",
       "    <tr>\n",
       "      <th>黑龙江</th>\n",
       "      <td>125.8200</td>\n",
       "      <td>1977.8000</td>\n",
       "      <td>74.7538</td>\n",
       "      <td>81.979</td>\n",
       "      <td>385.1</td>\n",
       "      <td>318.892</td>\n",
       "      <td>0.7887</td>\n",
       "      <td>0.1977</td>\n",
       "    </tr>\n",
       "    <tr>\n",
       "      <th>上海</th>\n",
       "      <td>191.9569</td>\n",
       "      <td>1104.3300</td>\n",
       "      <td>49.6207</td>\n",
       "      <td>179.582</td>\n",
       "      <td>4373.1</td>\n",
       "      <td>10326.436</td>\n",
       "      <td>9.3591</td>\n",
       "      <td>1.4714</td>\n",
       "    </tr>\n",
       "    <tr>\n",
       "      <th>江苏</th>\n",
       "      <td>491.1027</td>\n",
       "      <td>4758.2300</td>\n",
       "      <td>266.9262</td>\n",
       "      <td>261.118</td>\n",
       "      <td>5397.6</td>\n",
       "      <td>43928.942</td>\n",
       "      <td>13.9531</td>\n",
       "      <td>0.7099</td>\n",
       "    </tr>\n",
       "    <tr>\n",
       "      <th>浙江</th>\n",
       "      <td>323.1885</td>\n",
       "      <td>3680.0000</td>\n",
       "      <td>141.8528</td>\n",
       "      <td>239.452</td>\n",
       "      <td>3094.0</td>\n",
       "      <td>25355.077</td>\n",
       "      <td>9.6568</td>\n",
       "      <td>0.6183</td>\n",
       "    </tr>\n",
       "    <tr>\n",
       "      <th>安徽</th>\n",
       "      <td>153.0065</td>\n",
       "      <td>4120.9000</td>\n",
       "      <td>124.5569</td>\n",
       "      <td>92.613</td>\n",
       "      <td>313.4</td>\n",
       "      <td>2344.049</td>\n",
       "      <td>0.7623</td>\n",
       "      <td>0.1323</td>\n",
       "    </tr>\n",
       "    <tr>\n",
       "      <th>福建</th>\n",
       "      <td>175.6018</td>\n",
       "      <td>2459.9900</td>\n",
       "      <td>99.1089</td>\n",
       "      <td>92.158</td>\n",
       "      <td>1435.6</td>\n",
       "      <td>7957.495</td>\n",
       "      <td>4.1437</td>\n",
       "      <td>0.5280</td>\n",
       "    </tr>\n",
       "    <tr>\n",
       "      <th>江西</th>\n",
       "      <td>117.0282</td>\n",
       "      <td>2532.6000</td>\n",
       "      <td>90.8760</td>\n",
       "      <td>71.531</td>\n",
       "      <td>315.6</td>\n",
       "      <td>1301.037</td>\n",
       "      <td>0.9766</td>\n",
       "      <td>0.1742</td>\n",
       "    </tr>\n",
       "    <tr>\n",
       "      <th>山东</th>\n",
       "      <td>453.6185</td>\n",
       "      <td>6485.6000</td>\n",
       "      <td>267.4968</td>\n",
       "      <td>223.057</td>\n",
       "      <td>2359.9</td>\n",
       "      <td>17688.021</td>\n",
       "      <td>5.6144</td>\n",
       "      <td>0.3360</td>\n",
       "    </tr>\n",
       "    <tr>\n",
       "      <th>河南</th>\n",
       "      <td>269.3103</td>\n",
       "      <td>6198.0000</td>\n",
       "      <td>177.6895</td>\n",
       "      <td>147.022</td>\n",
       "      <td>326.4</td>\n",
       "      <td>2176.170</td>\n",
       "      <td>0.8587</td>\n",
       "      <td>0.0783</td>\n",
       "    </tr>\n",
       "    <tr>\n",
       "      <th>湖北</th>\n",
       "      <td>196.3226</td>\n",
       "      <td>3672.0000</td>\n",
       "      <td>125.5734</td>\n",
       "      <td>113.434</td>\n",
       "      <td>335.2</td>\n",
       "      <td>1614.369</td>\n",
       "      <td>0.8717</td>\n",
       "      <td>0.1103</td>\n",
       "    </tr>\n",
       "    <tr>\n",
       "      <th>湖南</th>\n",
       "      <td>196.6956</td>\n",
       "      <td>4005.0300</td>\n",
       "      <td>118.8092</td>\n",
       "      <td>106.234</td>\n",
       "      <td>190.0</td>\n",
       "      <td>1814.498</td>\n",
       "      <td>0.4419</td>\n",
       "      <td>0.0624</td>\n",
       "    </tr>\n",
       "    <tr>\n",
       "      <th>广东</th>\n",
       "      <td>532.1028</td>\n",
       "      <td>5960.7434</td>\n",
       "      <td>170.6920</td>\n",
       "      <td>410.616</td>\n",
       "      <td>9134.8</td>\n",
       "      <td>56849.072</td>\n",
       "      <td>23.7420</td>\n",
       "      <td>1.1088</td>\n",
       "    </tr>\n",
       "    <tr>\n",
       "      <th>广西</th>\n",
       "      <td>117.2087</td>\n",
       "      <td>2936.0000</td>\n",
       "      <td>79.9066</td>\n",
       "      <td>66.822</td>\n",
       "      <td>233.5</td>\n",
       "      <td>641.547</td>\n",
       "      <td>0.5561</td>\n",
       "      <td>0.1287</td>\n",
       "    </tr>\n",
       "    <tr>\n",
       "      <th>海南</th>\n",
       "      <td>25.2266</td>\n",
       "      <td>459.2222</td>\n",
       "      <td>16.5723</td>\n",
       "      <td>18.885</td>\n",
       "      <td>127.6</td>\n",
       "      <td>185.490</td>\n",
       "      <td>0.1134</td>\n",
       "      <td>0.3267</td>\n",
       "    </tr>\n",
       "    <tr>\n",
       "      <th>重庆</th>\n",
       "      <td>100.1137</td>\n",
       "      <td>1590.1600</td>\n",
       "      <td>74.7338</td>\n",
       "      <td>70.117</td>\n",
       "      <td>292.2</td>\n",
       "      <td>3928.448</td>\n",
       "      <td>0.8855</td>\n",
       "      <td>0.1885</td>\n",
       "    </tr>\n",
       "    <tr>\n",
       "      <th>四川</th>\n",
       "      <td>210.2668</td>\n",
       "      <td>4785.5000</td>\n",
       "      <td>142.2222</td>\n",
       "      <td>162.007</td>\n",
       "      <td>477.8</td>\n",
       "      <td>1233.514</td>\n",
       "      <td>1.2966</td>\n",
       "      <td>0.1468</td>\n",
       "    </tr>\n",
       "    <tr>\n",
       "      <th>贵州</th>\n",
       "      <td>57.0184</td>\n",
       "      <td>1792.8000</td>\n",
       "      <td>42.3592</td>\n",
       "      <td>39.441</td>\n",
       "      <td>48.8</td>\n",
       "      <td>308.647</td>\n",
       "      <td>0.1335</td>\n",
       "      <td>0.0553</td>\n",
       "    </tr>\n",
       "    <tr>\n",
       "      <th>云南</th>\n",
       "      <td>88.9312</td>\n",
       "      <td>2857.2400</td>\n",
       "      <td>61.9100</td>\n",
       "      <td>66.849</td>\n",
       "      <td>160.5</td>\n",
       "      <td>257.761</td>\n",
       "      <td>0.4227</td>\n",
       "      <td>0.1166</td>\n",
       "    </tr>\n",
       "    <tr>\n",
       "      <th>陕西</th>\n",
       "      <td>125.1230</td>\n",
       "      <td>2059.0200</td>\n",
       "      <td>94.3108</td>\n",
       "      <td>92.209</td>\n",
       "      <td>146.2</td>\n",
       "      <td>408.447</td>\n",
       "      <td>0.3129</td>\n",
       "      <td>0.0755</td>\n",
       "    </tr>\n",
       "    <tr>\n",
       "      <th>甘肃</th>\n",
       "      <td>50.2037</td>\n",
       "      <td>1500.3000</td>\n",
       "      <td>39.6579</td>\n",
       "      <td>42.500</td>\n",
       "      <td>87.4</td>\n",
       "      <td>300.885</td>\n",
       "      <td>0.0964</td>\n",
       "      <td>0.1124</td>\n",
       "    </tr>\n",
       "    <tr>\n",
       "      <th>青海</th>\n",
       "      <td>16.7044</td>\n",
       "      <td>309.1800</td>\n",
       "      <td>14.3558</td>\n",
       "      <td>10.488</td>\n",
       "      <td>9.2</td>\n",
       "      <td>0.296</td>\n",
       "      <td>0.0295</td>\n",
       "      <td>0.0356</td>\n",
       "    </tr>\n",
       "    <tr>\n",
       "      <th>宁夏</th>\n",
       "      <td>21.0221</td>\n",
       "      <td>339.6000</td>\n",
       "      <td>16.4474</td>\n",
       "      <td>13.563</td>\n",
       "      <td>22.9</td>\n",
       "      <td>196.998</td>\n",
       "      <td>0.0714</td>\n",
       "      <td>0.0704</td>\n",
       "    </tr>\n",
       "    <tr>\n",
       "      <th>新疆</th>\n",
       "      <td>66.1005</td>\n",
       "      <td>953.3400</td>\n",
       "      <td>46.3214</td>\n",
       "      <td>44.409</td>\n",
       "      <td>228.2</td>\n",
       "      <td>83.385</td>\n",
       "      <td>0.7512</td>\n",
       "      <td>0.2230</td>\n",
       "    </tr>\n",
       "  </tbody>\n",
       "</table>\n",
       "</div>"
      ],
      "text/plain": [
       "         生产总值       从业人员      固定资产     利用外资    进出口额       新品出口     市场占有    对外依存\n",
       "地区                                                                             \n",
       "北京   162.5193  1069.7000   55.7893  196.906  3894.9   6470.514   2.6347  1.5479\n",
       "天津   113.0728   763.1600   70.6767   61.947  1033.9   7490.317   1.9862  0.5906\n",
       "河北   245.1576  3962.4200  163.8933  178.782   536.0   2288.188   1.2756  0.1412\n",
       "山西   112.3755  1738.9000   70.7306  104.945   147.6   1522.788   0.2424  0.0848\n",
       "内蒙古  143.5988  1249.3000  103.6517   54.426   119.4    342.358   0.2093  0.0537\n",
       "辽宁   222.2670  2364.9000  177.2629  155.296   959.6   4150.239   2.2781  0.2788\n",
       "吉林   105.6883  1337.8000   74.4171   58.843   220.5    746.941   0.2232  0.1348\n",
       "黑龙江  125.8200  1977.8000   74.7538   81.979   385.1    318.892   0.7887  0.1977\n",
       "上海   191.9569  1104.3300   49.6207  179.582  4373.1  10326.436   9.3591  1.4714\n",
       "江苏   491.1027  4758.2300  266.9262  261.118  5397.6  43928.942  13.9531  0.7099\n",
       "浙江   323.1885  3680.0000  141.8528  239.452  3094.0  25355.077   9.6568  0.6183\n",
       "安徽   153.0065  4120.9000  124.5569   92.613   313.4   2344.049   0.7623  0.1323\n",
       "福建   175.6018  2459.9900   99.1089   92.158  1435.6   7957.495   4.1437  0.5280\n",
       "江西   117.0282  2532.6000   90.8760   71.531   315.6   1301.037   0.9766  0.1742\n",
       "山东   453.6185  6485.6000  267.4968  223.057  2359.9  17688.021   5.6144  0.3360\n",
       "河南   269.3103  6198.0000  177.6895  147.022   326.4   2176.170   0.8587  0.0783\n",
       "湖北   196.3226  3672.0000  125.5734  113.434   335.2   1614.369   0.8717  0.1103\n",
       "湖南   196.6956  4005.0300  118.8092  106.234   190.0   1814.498   0.4419  0.0624\n",
       "广东   532.1028  5960.7434  170.6920  410.616  9134.8  56849.072  23.7420  1.1088\n",
       "广西   117.2087  2936.0000   79.9066   66.822   233.5    641.547   0.5561  0.1287\n",
       "海南    25.2266   459.2222   16.5723   18.885   127.6    185.490   0.1134  0.3267\n",
       "重庆   100.1137  1590.1600   74.7338   70.117   292.2   3928.448   0.8855  0.1885\n",
       "四川   210.2668  4785.5000  142.2222  162.007   477.8   1233.514   1.2966  0.1468\n",
       "贵州    57.0184  1792.8000   42.3592   39.441    48.8    308.647   0.1335  0.0553\n",
       "云南    88.9312  2857.2400   61.9100   66.849   160.5    257.761   0.4227  0.1166\n",
       "陕西   125.1230  2059.0200   94.3108   92.209   146.2    408.447   0.3129  0.0755\n",
       "甘肃    50.2037  1500.3000   39.6579   42.500    87.4    300.885   0.0964  0.1124\n",
       "青海    16.7044   309.1800   14.3558   10.488     9.2      0.296   0.0295  0.0356\n",
       "宁夏    21.0221   339.6000   16.4474   13.563    22.9    196.998   0.0714  0.0704\n",
       "新疆    66.1005   953.3400   46.3214   44.409   228.2     83.385   0.7512  0.2230"
      ]
     },
     "execution_count": 13,
     "metadata": {},
     "output_type": "execute_result"
    }
   ],
   "source": [
    "MVdata=pd.read_excel('PyDm_data.xlsx','MVdata',index_col=0); MVdata"
   ]
  },
  {
   "cell_type": "markdown",
   "metadata": {
    "extensions": {
     "jupyter_dashboards": {
      "version": 1,
      "views": {
       "grid_default": {
        "hidden": true
       },
       "report_default": {}
      }
     }
    }
   },
   "source": [
    "## 4.1 多变量线性相关与回归\n",
    "### 4.1.1 多变量间线性相关"
   ]
  },
  {
   "cell_type": "code",
   "execution_count": 2,
   "metadata": {
    "extensions": {
     "jupyter_dashboards": {
      "version": 1,
      "views": {
       "grid_default": {
        "hidden": true
       },
       "report_default": {}
      }
     }
    }
   },
   "outputs": [
    {
     "data": {
      "text/html": [
       "<div>\n",
       "<style scoped>\n",
       "    .dataframe tbody tr th:only-of-type {\n",
       "        vertical-align: middle;\n",
       "    }\n",
       "\n",
       "    .dataframe tbody tr th {\n",
       "        vertical-align: top;\n",
       "    }\n",
       "\n",
       "    .dataframe thead th {\n",
       "        text-align: right;\n",
       "    }\n",
       "</style>\n",
       "<table border=\"1\" class=\"dataframe\">\n",
       "  <thead>\n",
       "    <tr style=\"text-align: right;\">\n",
       "      <th></th>\n",
       "      <th>Y</th>\n",
       "      <th>X1</th>\n",
       "      <th>X2</th>\n",
       "      <th>X3</th>\n",
       "      <th>X4</th>\n",
       "      <th>X5</th>\n",
       "      <th>X6</th>\n",
       "      <th>X7</th>\n",
       "    </tr>\n",
       "    <tr>\n",
       "      <th>地区</th>\n",
       "      <th></th>\n",
       "      <th></th>\n",
       "      <th></th>\n",
       "      <th></th>\n",
       "      <th></th>\n",
       "      <th></th>\n",
       "      <th></th>\n",
       "      <th></th>\n",
       "    </tr>\n",
       "  </thead>\n",
       "  <tbody>\n",
       "    <tr>\n",
       "      <th>北京</th>\n",
       "      <td>162.5193</td>\n",
       "      <td>1069.7000</td>\n",
       "      <td>55.7893</td>\n",
       "      <td>196.906</td>\n",
       "      <td>3894.9</td>\n",
       "      <td>6470.514</td>\n",
       "      <td>2.6347</td>\n",
       "      <td>1.5479</td>\n",
       "    </tr>\n",
       "    <tr>\n",
       "      <th>天津</th>\n",
       "      <td>113.0728</td>\n",
       "      <td>763.1600</td>\n",
       "      <td>70.6767</td>\n",
       "      <td>61.947</td>\n",
       "      <td>1033.9</td>\n",
       "      <td>7490.317</td>\n",
       "      <td>1.9862</td>\n",
       "      <td>0.5906</td>\n",
       "    </tr>\n",
       "    <tr>\n",
       "      <th>河北</th>\n",
       "      <td>245.1576</td>\n",
       "      <td>3962.4200</td>\n",
       "      <td>163.8933</td>\n",
       "      <td>178.782</td>\n",
       "      <td>536.0</td>\n",
       "      <td>2288.188</td>\n",
       "      <td>1.2756</td>\n",
       "      <td>0.1412</td>\n",
       "    </tr>\n",
       "    <tr>\n",
       "      <th>山西</th>\n",
       "      <td>112.3755</td>\n",
       "      <td>1738.9000</td>\n",
       "      <td>70.7306</td>\n",
       "      <td>104.945</td>\n",
       "      <td>147.6</td>\n",
       "      <td>1522.788</td>\n",
       "      <td>0.2424</td>\n",
       "      <td>0.0848</td>\n",
       "    </tr>\n",
       "    <tr>\n",
       "      <th>内蒙古</th>\n",
       "      <td>143.5988</td>\n",
       "      <td>1249.3000</td>\n",
       "      <td>103.6517</td>\n",
       "      <td>54.426</td>\n",
       "      <td>119.4</td>\n",
       "      <td>342.358</td>\n",
       "      <td>0.2093</td>\n",
       "      <td>0.0537</td>\n",
       "    </tr>\n",
       "    <tr>\n",
       "      <th>辽宁</th>\n",
       "      <td>222.2670</td>\n",
       "      <td>2364.9000</td>\n",
       "      <td>177.2629</td>\n",
       "      <td>155.296</td>\n",
       "      <td>959.6</td>\n",
       "      <td>4150.239</td>\n",
       "      <td>2.2781</td>\n",
       "      <td>0.2788</td>\n",
       "    </tr>\n",
       "    <tr>\n",
       "      <th>吉林</th>\n",
       "      <td>105.6883</td>\n",
       "      <td>1337.8000</td>\n",
       "      <td>74.4171</td>\n",
       "      <td>58.843</td>\n",
       "      <td>220.5</td>\n",
       "      <td>746.941</td>\n",
       "      <td>0.2232</td>\n",
       "      <td>0.1348</td>\n",
       "    </tr>\n",
       "    <tr>\n",
       "      <th>黑龙江</th>\n",
       "      <td>125.8200</td>\n",
       "      <td>1977.8000</td>\n",
       "      <td>74.7538</td>\n",
       "      <td>81.979</td>\n",
       "      <td>385.1</td>\n",
       "      <td>318.892</td>\n",
       "      <td>0.7887</td>\n",
       "      <td>0.1977</td>\n",
       "    </tr>\n",
       "    <tr>\n",
       "      <th>上海</th>\n",
       "      <td>191.9569</td>\n",
       "      <td>1104.3300</td>\n",
       "      <td>49.6207</td>\n",
       "      <td>179.582</td>\n",
       "      <td>4373.1</td>\n",
       "      <td>10326.436</td>\n",
       "      <td>9.3591</td>\n",
       "      <td>1.4714</td>\n",
       "    </tr>\n",
       "    <tr>\n",
       "      <th>江苏</th>\n",
       "      <td>491.1027</td>\n",
       "      <td>4758.2300</td>\n",
       "      <td>266.9262</td>\n",
       "      <td>261.118</td>\n",
       "      <td>5397.6</td>\n",
       "      <td>43928.942</td>\n",
       "      <td>13.9531</td>\n",
       "      <td>0.7099</td>\n",
       "    </tr>\n",
       "    <tr>\n",
       "      <th>浙江</th>\n",
       "      <td>323.1885</td>\n",
       "      <td>3680.0000</td>\n",
       "      <td>141.8528</td>\n",
       "      <td>239.452</td>\n",
       "      <td>3094.0</td>\n",
       "      <td>25355.077</td>\n",
       "      <td>9.6568</td>\n",
       "      <td>0.6183</td>\n",
       "    </tr>\n",
       "    <tr>\n",
       "      <th>安徽</th>\n",
       "      <td>153.0065</td>\n",
       "      <td>4120.9000</td>\n",
       "      <td>124.5569</td>\n",
       "      <td>92.613</td>\n",
       "      <td>313.4</td>\n",
       "      <td>2344.049</td>\n",
       "      <td>0.7623</td>\n",
       "      <td>0.1323</td>\n",
       "    </tr>\n",
       "    <tr>\n",
       "      <th>福建</th>\n",
       "      <td>175.6018</td>\n",
       "      <td>2459.9900</td>\n",
       "      <td>99.1089</td>\n",
       "      <td>92.158</td>\n",
       "      <td>1435.6</td>\n",
       "      <td>7957.495</td>\n",
       "      <td>4.1437</td>\n",
       "      <td>0.5280</td>\n",
       "    </tr>\n",
       "    <tr>\n",
       "      <th>江西</th>\n",
       "      <td>117.0282</td>\n",
       "      <td>2532.6000</td>\n",
       "      <td>90.8760</td>\n",
       "      <td>71.531</td>\n",
       "      <td>315.6</td>\n",
       "      <td>1301.037</td>\n",
       "      <td>0.9766</td>\n",
       "      <td>0.1742</td>\n",
       "    </tr>\n",
       "    <tr>\n",
       "      <th>山东</th>\n",
       "      <td>453.6185</td>\n",
       "      <td>6485.6000</td>\n",
       "      <td>267.4968</td>\n",
       "      <td>223.057</td>\n",
       "      <td>2359.9</td>\n",
       "      <td>17688.021</td>\n",
       "      <td>5.6144</td>\n",
       "      <td>0.3360</td>\n",
       "    </tr>\n",
       "    <tr>\n",
       "      <th>河南</th>\n",
       "      <td>269.3103</td>\n",
       "      <td>6198.0000</td>\n",
       "      <td>177.6895</td>\n",
       "      <td>147.022</td>\n",
       "      <td>326.4</td>\n",
       "      <td>2176.170</td>\n",
       "      <td>0.8587</td>\n",
       "      <td>0.0783</td>\n",
       "    </tr>\n",
       "    <tr>\n",
       "      <th>湖北</th>\n",
       "      <td>196.3226</td>\n",
       "      <td>3672.0000</td>\n",
       "      <td>125.5734</td>\n",
       "      <td>113.434</td>\n",
       "      <td>335.2</td>\n",
       "      <td>1614.369</td>\n",
       "      <td>0.8717</td>\n",
       "      <td>0.1103</td>\n",
       "    </tr>\n",
       "    <tr>\n",
       "      <th>湖南</th>\n",
       "      <td>196.6956</td>\n",
       "      <td>4005.0300</td>\n",
       "      <td>118.8092</td>\n",
       "      <td>106.234</td>\n",
       "      <td>190.0</td>\n",
       "      <td>1814.498</td>\n",
       "      <td>0.4419</td>\n",
       "      <td>0.0624</td>\n",
       "    </tr>\n",
       "    <tr>\n",
       "      <th>广东</th>\n",
       "      <td>532.1028</td>\n",
       "      <td>5960.7434</td>\n",
       "      <td>170.6920</td>\n",
       "      <td>410.616</td>\n",
       "      <td>9134.8</td>\n",
       "      <td>56849.072</td>\n",
       "      <td>23.7420</td>\n",
       "      <td>1.1088</td>\n",
       "    </tr>\n",
       "    <tr>\n",
       "      <th>广西</th>\n",
       "      <td>117.2087</td>\n",
       "      <td>2936.0000</td>\n",
       "      <td>79.9066</td>\n",
       "      <td>66.822</td>\n",
       "      <td>233.5</td>\n",
       "      <td>641.547</td>\n",
       "      <td>0.5561</td>\n",
       "      <td>0.1287</td>\n",
       "    </tr>\n",
       "    <tr>\n",
       "      <th>海南</th>\n",
       "      <td>25.2266</td>\n",
       "      <td>459.2222</td>\n",
       "      <td>16.5723</td>\n",
       "      <td>18.885</td>\n",
       "      <td>127.6</td>\n",
       "      <td>185.490</td>\n",
       "      <td>0.1134</td>\n",
       "      <td>0.3267</td>\n",
       "    </tr>\n",
       "    <tr>\n",
       "      <th>重庆</th>\n",
       "      <td>100.1137</td>\n",
       "      <td>1590.1600</td>\n",
       "      <td>74.7338</td>\n",
       "      <td>70.117</td>\n",
       "      <td>292.2</td>\n",
       "      <td>3928.448</td>\n",
       "      <td>0.8855</td>\n",
       "      <td>0.1885</td>\n",
       "    </tr>\n",
       "    <tr>\n",
       "      <th>四川</th>\n",
       "      <td>210.2668</td>\n",
       "      <td>4785.5000</td>\n",
       "      <td>142.2222</td>\n",
       "      <td>162.007</td>\n",
       "      <td>477.8</td>\n",
       "      <td>1233.514</td>\n",
       "      <td>1.2966</td>\n",
       "      <td>0.1468</td>\n",
       "    </tr>\n",
       "    <tr>\n",
       "      <th>贵州</th>\n",
       "      <td>57.0184</td>\n",
       "      <td>1792.8000</td>\n",
       "      <td>42.3592</td>\n",
       "      <td>39.441</td>\n",
       "      <td>48.8</td>\n",
       "      <td>308.647</td>\n",
       "      <td>0.1335</td>\n",
       "      <td>0.0553</td>\n",
       "    </tr>\n",
       "    <tr>\n",
       "      <th>云南</th>\n",
       "      <td>88.9312</td>\n",
       "      <td>2857.2400</td>\n",
       "      <td>61.9100</td>\n",
       "      <td>66.849</td>\n",
       "      <td>160.5</td>\n",
       "      <td>257.761</td>\n",
       "      <td>0.4227</td>\n",
       "      <td>0.1166</td>\n",
       "    </tr>\n",
       "    <tr>\n",
       "      <th>陕西</th>\n",
       "      <td>125.1230</td>\n",
       "      <td>2059.0200</td>\n",
       "      <td>94.3108</td>\n",
       "      <td>92.209</td>\n",
       "      <td>146.2</td>\n",
       "      <td>408.447</td>\n",
       "      <td>0.3129</td>\n",
       "      <td>0.0755</td>\n",
       "    </tr>\n",
       "    <tr>\n",
       "      <th>甘肃</th>\n",
       "      <td>50.2037</td>\n",
       "      <td>1500.3000</td>\n",
       "      <td>39.6579</td>\n",
       "      <td>42.500</td>\n",
       "      <td>87.4</td>\n",
       "      <td>300.885</td>\n",
       "      <td>0.0964</td>\n",
       "      <td>0.1124</td>\n",
       "    </tr>\n",
       "    <tr>\n",
       "      <th>青海</th>\n",
       "      <td>16.7044</td>\n",
       "      <td>309.1800</td>\n",
       "      <td>14.3558</td>\n",
       "      <td>10.488</td>\n",
       "      <td>9.2</td>\n",
       "      <td>0.296</td>\n",
       "      <td>0.0295</td>\n",
       "      <td>0.0356</td>\n",
       "    </tr>\n",
       "    <tr>\n",
       "      <th>宁夏</th>\n",
       "      <td>21.0221</td>\n",
       "      <td>339.6000</td>\n",
       "      <td>16.4474</td>\n",
       "      <td>13.563</td>\n",
       "      <td>22.9</td>\n",
       "      <td>196.998</td>\n",
       "      <td>0.0714</td>\n",
       "      <td>0.0704</td>\n",
       "    </tr>\n",
       "    <tr>\n",
       "      <th>新疆</th>\n",
       "      <td>66.1005</td>\n",
       "      <td>953.3400</td>\n",
       "      <td>46.3214</td>\n",
       "      <td>44.409</td>\n",
       "      <td>228.2</td>\n",
       "      <td>83.385</td>\n",
       "      <td>0.7512</td>\n",
       "      <td>0.2230</td>\n",
       "    </tr>\n",
       "  </tbody>\n",
       "</table>\n",
       "</div>"
      ],
      "text/plain": [
       "            Y         X1        X2       X3      X4         X5       X6      X7\n",
       "地区                                                                             \n",
       "北京   162.5193  1069.7000   55.7893  196.906  3894.9   6470.514   2.6347  1.5479\n",
       "天津   113.0728   763.1600   70.6767   61.947  1033.9   7490.317   1.9862  0.5906\n",
       "河北   245.1576  3962.4200  163.8933  178.782   536.0   2288.188   1.2756  0.1412\n",
       "山西   112.3755  1738.9000   70.7306  104.945   147.6   1522.788   0.2424  0.0848\n",
       "内蒙古  143.5988  1249.3000  103.6517   54.426   119.4    342.358   0.2093  0.0537\n",
       "辽宁   222.2670  2364.9000  177.2629  155.296   959.6   4150.239   2.2781  0.2788\n",
       "吉林   105.6883  1337.8000   74.4171   58.843   220.5    746.941   0.2232  0.1348\n",
       "黑龙江  125.8200  1977.8000   74.7538   81.979   385.1    318.892   0.7887  0.1977\n",
       "上海   191.9569  1104.3300   49.6207  179.582  4373.1  10326.436   9.3591  1.4714\n",
       "江苏   491.1027  4758.2300  266.9262  261.118  5397.6  43928.942  13.9531  0.7099\n",
       "浙江   323.1885  3680.0000  141.8528  239.452  3094.0  25355.077   9.6568  0.6183\n",
       "安徽   153.0065  4120.9000  124.5569   92.613   313.4   2344.049   0.7623  0.1323\n",
       "福建   175.6018  2459.9900   99.1089   92.158  1435.6   7957.495   4.1437  0.5280\n",
       "江西   117.0282  2532.6000   90.8760   71.531   315.6   1301.037   0.9766  0.1742\n",
       "山东   453.6185  6485.6000  267.4968  223.057  2359.9  17688.021   5.6144  0.3360\n",
       "河南   269.3103  6198.0000  177.6895  147.022   326.4   2176.170   0.8587  0.0783\n",
       "湖北   196.3226  3672.0000  125.5734  113.434   335.2   1614.369   0.8717  0.1103\n",
       "湖南   196.6956  4005.0300  118.8092  106.234   190.0   1814.498   0.4419  0.0624\n",
       "广东   532.1028  5960.7434  170.6920  410.616  9134.8  56849.072  23.7420  1.1088\n",
       "广西   117.2087  2936.0000   79.9066   66.822   233.5    641.547   0.5561  0.1287\n",
       "海南    25.2266   459.2222   16.5723   18.885   127.6    185.490   0.1134  0.3267\n",
       "重庆   100.1137  1590.1600   74.7338   70.117   292.2   3928.448   0.8855  0.1885\n",
       "四川   210.2668  4785.5000  142.2222  162.007   477.8   1233.514   1.2966  0.1468\n",
       "贵州    57.0184  1792.8000   42.3592   39.441    48.8    308.647   0.1335  0.0553\n",
       "云南    88.9312  2857.2400   61.9100   66.849   160.5    257.761   0.4227  0.1166\n",
       "陕西   125.1230  2059.0200   94.3108   92.209   146.2    408.447   0.3129  0.0755\n",
       "甘肃    50.2037  1500.3000   39.6579   42.500    87.4    300.885   0.0964  0.1124\n",
       "青海    16.7044   309.1800   14.3558   10.488     9.2      0.296   0.0295  0.0356\n",
       "宁夏    21.0221   339.6000   16.4474   13.563    22.9    196.998   0.0714  0.0704\n",
       "新疆    66.1005   953.3400   46.3214   44.409   228.2     83.385   0.7512  0.2230"
      ]
     },
     "execution_count": 2,
     "metadata": {},
     "output_type": "execute_result"
    }
   ],
   "source": [
    "####4.1.1 相关系数阵\n",
    "YXdata=pd.read_excel('PyDm_data.xlsx','MVdata',index_col=0);\n",
    "YXdata.columns=['Y','X1','X2','X3','X4','X5','X6','X7'];\n",
    "YXdata"
   ]
  },
  {
   "cell_type": "code",
   "execution_count": null,
   "metadata": {
    "extensions": {
     "jupyter_dashboards": {
      "version": 1,
      "views": {
       "grid_default": {
        "hidden": true
       },
       "report_default": {}
      }
     }
    }
   },
   "outputs": [],
   "source": [
    "YXdata[['Y','X1']].corr()  #Yxdata['Y'].corr(Yxdata['X1'])"
   ]
  },
  {
   "cell_type": "code",
   "execution_count": null,
   "metadata": {
    "extensions": {
     "jupyter_dashboards": {
      "version": 1,
      "views": {
       "grid_default": {
        "hidden": true
       },
       "report_default": {}
      }
     }
    }
   },
   "outputs": [],
   "source": [
    "YXdata.corr()"
   ]
  },
  {
   "cell_type": "code",
   "execution_count": null,
   "metadata": {
    "extensions": {
     "jupyter_dashboards": {
      "version": 1,
      "views": {
       "grid_default": {
        "hidden": true
       },
       "report_default": {}
      }
     }
    }
   },
   "outputs": [],
   "source": [
    "#4.1.1.2 矩阵散点图\n",
    "pd.plotting.scatter_matrix(YXdata);"
   ]
  },
  {
   "cell_type": "code",
   "execution_count": null,
   "metadata": {
    "extensions": {
     "jupyter_dashboards": {
      "version": 1,
      "views": {
       "grid_default": {
        "hidden": true
       },
       "report_default": {}
      }
     }
    }
   },
   "outputs": [],
   "source": [
    "#4.1.1.3 相关检验矩阵\n",
    "dm.mcor_test(YXdata)    #需先加载PyDm_fun函数包"
   ]
  },
  {
   "cell_type": "code",
   "execution_count": 3,
   "metadata": {
    "extensions": {
     "jupyter_dashboards": {
      "version": 1,
      "views": {
       "grid_default": {
        "hidden": true
       },
       "report_default": {}
      }
     }
    }
   },
   "outputs": [
    {
     "data": {
      "text/plain": [
       "Intercept    14.6842\n",
       "X1            0.0603\n",
       "dtype: float64"
      ]
     },
     "execution_count": 3,
     "metadata": {},
     "output_type": "execute_result"
    }
   ],
   "source": [
    "#4.1.2 多变量线性回归模型\n",
    "#4.1.2.2 多元线性回归参数估计\n",
    "import statsmodels.formula.api as smf  #根据公式建回归模型\n",
    "M1=smf.ols('Y~X1',YXdata).fit(); M1.params"
   ]
  },
  {
   "cell_type": "code",
   "execution_count": 4,
   "metadata": {
    "extensions": {
     "jupyter_dashboards": {
      "version": 1,
      "views": {
       "grid_default": {
        "hidden": true
       },
       "report_default": {}
      }
     }
    }
   },
   "outputs": [
    {
     "data": {
      "text/plain": [
       "Intercept   -12.4511\n",
       "X1            0.0142\n",
       "X2            1.4599\n",
       "dtype: float64"
      ]
     },
     "execution_count": 4,
     "metadata": {},
     "output_type": "execute_result"
    }
   ],
   "source": [
    "M2=smf.ols('Y~X1+X2',YXdata).fit(); M2.params"
   ]
  },
  {
   "cell_type": "code",
   "execution_count": 5,
   "metadata": {
    "extensions": {
     "jupyter_dashboards": {
      "version": 1,
      "views": {
       "grid_default": {
        "hidden": true
       },
       "report_default": {}
      }
     }
    }
   },
   "outputs": [
    {
     "data": {
      "text/plain": [
       "Intercept   -23.9232\n",
       "X1            0.0007\n",
       "X2            0.9201\n",
       "X3            0.8852\n",
       "dtype: float64"
      ]
     },
     "execution_count": 5,
     "metadata": {},
     "output_type": "execute_result"
    }
   ],
   "source": [
    "M3=smf.ols('Y~X1+X2+X3',YXdata).fit(); M3.params"
   ]
  },
  {
   "cell_type": "code",
   "execution_count": 6,
   "metadata": {
    "extensions": {
     "jupyter_dashboards": {
      "version": 1,
      "views": {
       "grid_default": {
        "hidden": true
       },
       "report_default": {}
      }
     }
    }
   },
   "outputs": [
    {
     "data": {
      "text/plain": [
       "Intercept    -7.1381\n",
       "X1            0.0085\n",
       "X2            0.9983\n",
       "X3            0.2384\n",
       "X4            0.0069\n",
       "X5            0.0009\n",
       "X6            4.0465\n",
       "X7           10.2607\n",
       "dtype: float64"
      ]
     },
     "execution_count": 6,
     "metadata": {},
     "output_type": "execute_result"
    }
   ],
   "source": [
    "Ms=smf.ols('Y~X1+X2+X3+X4+X5+X6+X7',YXdata).fit(); Ms.params"
   ]
  },
  {
   "cell_type": "code",
   "execution_count": 7,
   "metadata": {
    "extensions": {
     "jupyter_dashboards": {
      "version": 1,
      "views": {
       "grid_default": {
        "hidden": true
       },
       "report_default": {}
      }
     }
    }
   },
   "outputs": [
    {
     "data": {
      "text/html": [
       "<table class=\"simpletable\">\n",
       "<caption>OLS Regression Results</caption>\n",
       "<tr>\n",
       "  <th>Dep. Variable:</th>            <td>Y</td>        <th>  R-squared:         </th> <td>   0.665</td>\n",
       "</tr>\n",
       "<tr>\n",
       "  <th>Model:</th>                   <td>OLS</td>       <th>  Adj. R-squared:    </th> <td>   0.653</td>\n",
       "</tr>\n",
       "<tr>\n",
       "  <th>Method:</th>             <td>Least Squares</td>  <th>  F-statistic:       </th> <td>   55.61</td>\n",
       "</tr>\n",
       "<tr>\n",
       "  <th>Date:</th>             <td>Fri, 25 Jan 2019</td> <th>  Prob (F-statistic):</th> <td>4.02e-08</td>\n",
       "</tr>\n",
       "<tr>\n",
       "  <th>Time:</th>                 <td>16:11:06</td>     <th>  Log-Likelihood:    </th> <td> -171.88</td>\n",
       "</tr>\n",
       "<tr>\n",
       "  <th>No. Observations:</th>      <td>    30</td>      <th>  AIC:               </th> <td>   347.8</td>\n",
       "</tr>\n",
       "<tr>\n",
       "  <th>Df Residuals:</th>          <td>    28</td>      <th>  BIC:               </th> <td>   350.6</td>\n",
       "</tr>\n",
       "<tr>\n",
       "  <th>Df Model:</th>              <td>     1</td>      <th>                     </th>     <td> </td>   \n",
       "</tr>\n",
       "<tr>\n",
       "  <th>Covariance Type:</th>      <td>nonrobust</td>    <th>                     </th>     <td> </td>   \n",
       "</tr>\n",
       "</table>\n",
       "<table class=\"simpletable\">\n",
       "<tr>\n",
       "      <td></td>         <th>coef</th>     <th>std err</th>      <th>t</th>      <th>P>|t|</th>  <th>[0.025</th>    <th>0.975]</th>  \n",
       "</tr>\n",
       "<tr>\n",
       "  <th>Intercept</th> <td>   14.6842</td> <td>   25.540</td> <td>    0.575</td> <td> 0.570</td> <td>  -37.632</td> <td>   67.000</td>\n",
       "</tr>\n",
       "<tr>\n",
       "  <th>X1</th>        <td>    0.0603</td> <td>    0.008</td> <td>    7.457</td> <td> 0.000</td> <td>    0.044</td> <td>    0.077</td>\n",
       "</tr>\n",
       "</table>\n",
       "<table class=\"simpletable\">\n",
       "<tr>\n",
       "  <th>Omnibus:</th>       <td> 2.833</td> <th>  Durbin-Watson:     </th> <td>   1.612</td>\n",
       "</tr>\n",
       "<tr>\n",
       "  <th>Prob(Omnibus):</th> <td> 0.243</td> <th>  Jarque-Bera (JB):  </th> <td>   2.029</td>\n",
       "</tr>\n",
       "<tr>\n",
       "  <th>Skew:</th>          <td> 0.637</td> <th>  Prob(JB):          </th> <td>   0.363</td>\n",
       "</tr>\n",
       "<tr>\n",
       "  <th>Kurtosis:</th>      <td> 3.031</td> <th>  Cond. No.          </th> <td>5.73e+03</td>\n",
       "</tr>\n",
       "</table><br/><br/>Warnings:<br/>[1] Standard Errors assume that the covariance matrix of the errors is correctly specified.<br/>[2] The condition number is large, 5.73e+03. This might indicate that there are<br/>strong multicollinearity or other numerical problems."
      ],
      "text/plain": [
       "<class 'statsmodels.iolib.summary.Summary'>\n",
       "\"\"\"\n",
       "                            OLS Regression Results                            \n",
       "==============================================================================\n",
       "Dep. Variable:                      Y   R-squared:                       0.665\n",
       "Model:                            OLS   Adj. R-squared:                  0.653\n",
       "Method:                 Least Squares   F-statistic:                     55.61\n",
       "Date:                Fri, 25 Jan 2019   Prob (F-statistic):           4.02e-08\n",
       "Time:                        16:11:06   Log-Likelihood:                -171.88\n",
       "No. Observations:                  30   AIC:                             347.8\n",
       "Df Residuals:                      28   BIC:                             350.6\n",
       "Df Model:                           1                                         \n",
       "Covariance Type:            nonrobust                                         \n",
       "==============================================================================\n",
       "                 coef    std err          t      P>|t|      [0.025      0.975]\n",
       "------------------------------------------------------------------------------\n",
       "Intercept     14.6842     25.540      0.575      0.570     -37.632      67.000\n",
       "X1             0.0603      0.008      7.457      0.000       0.044       0.077\n",
       "==============================================================================\n",
       "Omnibus:                        2.833   Durbin-Watson:                   1.612\n",
       "Prob(Omnibus):                  0.243   Jarque-Bera (JB):                2.029\n",
       "Skew:                           0.637   Prob(JB):                        0.363\n",
       "Kurtosis:                       3.031   Cond. No.                     5.73e+03\n",
       "==============================================================================\n",
       "\n",
       "Warnings:\n",
       "[1] Standard Errors assume that the covariance matrix of the errors is correctly specified.\n",
       "[2] The condition number is large, 5.73e+03. This might indicate that there are\n",
       "strong multicollinearity or other numerical problems.\n",
       "\"\"\""
      ]
     },
     "execution_count": 7,
     "metadata": {},
     "output_type": "execute_result"
    }
   ],
   "source": [
    "#3.1.2.3 多元线性回归模型检验\n",
    "M1.summary()"
   ]
  },
  {
   "cell_type": "code",
   "execution_count": null,
   "metadata": {
    "extensions": {
     "jupyter_dashboards": {
      "version": 1,
      "views": {
       "grid_default": {
        "hidden": true
       },
       "report_default": {}
      }
     }
    }
   },
   "outputs": [],
   "source": [
    "M2.summary()"
   ]
  },
  {
   "cell_type": "code",
   "execution_count": null,
   "metadata": {
    "extensions": {
     "jupyter_dashboards": {
      "version": 1,
      "views": {
       "grid_default": {
        "hidden": true
       },
       "report_default": {}
      }
     }
    }
   },
   "outputs": [],
   "source": [
    "M3.summary()"
   ]
  },
  {
   "cell_type": "code",
   "execution_count": null,
   "metadata": {
    "extensions": {
     "jupyter_dashboards": {
      "version": 1,
      "views": {
       "grid_default": {
        "hidden": true
       },
       "report_default": {}
      }
     }
    }
   },
   "outputs": [],
   "source": [
    "Ms.summary()"
   ]
  },
  {
   "cell_type": "code",
   "execution_count": 9,
   "metadata": {
    "extensions": {
     "jupyter_dashboards": {
      "version": 1,
      "views": {
       "grid_default": {
        "hidden": true
       },
       "report_default": {}
      }
     }
    }
   },
   "outputs": [
    {
     "data": {
      "image/png": "[encoded data removed]",
      "text/plain": [
       "<Figure size 432x288 with 1 Axes>"
      ]
     },
     "metadata": {
      "needs_background": "light"
     },
     "output_type": "display_data"
    }
   ],
   "source": [
    "#4.1.2.4 多元线性回归模型评判\n",
    "et=Ms.resid                    #模型Ms的残差et\n",
    "plt.plot(et.values,'.');       #残差图"
   ]
  },
  {
   "cell_type": "code",
   "execution_count": null,
   "metadata": {
    "extensions": {
     "jupyter_dashboards": {
      "version": 1,
      "views": {
       "grid_default": {
        "hidden": true
       },
       "report_default": {}
      }
     }
    }
   },
   "outputs": [],
   "source": [
    "ro=et.corr(et.shift(1));ro #et.shift(1) =et-1"
   ]
  },
  {
   "cell_type": "code",
   "execution_count": null,
   "metadata": {
    "extensions": {
     "jupyter_dashboards": {
      "version": 1,
      "views": {
       "grid_default": {
        "hidden": true
       },
       "report_default": {}
      }
     }
    }
   },
   "outputs": [],
   "source": [
    "Ms.summary2().tables[2][3][0]     #DW值DW=2*(1-ro);DW"
   ]
  },
  {
   "cell_type": "code",
   "execution_count": null,
   "metadata": {
    "extensions": {
     "jupyter_dashboards": {
      "version": 1,
      "views": {
       "grid_default": {
        "hidden": true
       },
       "report_default": {}
      }
     }
    }
   },
   "outputs": [],
   "source": [
    "sm.stats.durbin_watson(Ms.resid)"
   ]
  },
  {
   "cell_type": "code",
   "execution_count": null,
   "metadata": {
    "extensions": {
     "jupyter_dashboards": {
      "version": 1,
      "views": {
       "grid_default": {
        "hidden": true
       },
       "report_default": {}
      }
     }
    }
   },
   "outputs": [],
   "source": [
    "Ms.summary2().tables[2][3][1]   #JB值"
   ]
  },
  {
   "cell_type": "code",
   "execution_count": null,
   "metadata": {},
   "outputs": [],
   "source": [
    "Ms.summary2().tables[2][3][2]   #JB概率"
   ]
  },
  {
   "cell_type": "code",
   "execution_count": null,
   "metadata": {},
   "outputs": [],
   "source": [
    "R2=Ms.summary2().tables[0][1][6];R2   #模型的决定系数R2"
   ]
  },
  {
   "cell_type": "code",
   "execution_count": null,
   "metadata": {},
   "outputs": [],
   "source": [
    "Ms.summary2().tables[0][3][0]   \t\t#adj.R2"
   ]
  },
  {
   "cell_type": "code",
   "execution_count": null,
   "metadata": {},
   "outputs": [],
   "source": [
    "from math import sqrt\n",
    "R=sqrt(float(R2));R"
   ]
  },
  {
   "cell_type": "code",
   "execution_count": null,
   "metadata": {
    "extensions": {
     "jupyter_dashboards": {
      "version": 1,
      "views": {
       "grid_default": {
        "hidden": true
       },
       "report_default": {}
      }
     }
    }
   },
   "outputs": [],
   "source": [
    "from statsmodels.iolib.summary2 import summary_col\n",
    "summary_col([M1,M2,M3,Ms])        #模型结果比较"
   ]
  },
  {
   "cell_type": "code",
   "execution_count": null,
   "metadata": {
    "extensions": {
     "jupyter_dashboards": {
      "version": 1,
      "views": {
       "grid_default": {
        "hidden": true
       },
       "report_default": {}
      }
     }
    }
   },
   "outputs": [],
   "source": [
    "#4.2 综合评价方法\n",
    "#4.2.1 综合评价指标体系\n",
    "#4.2.1.1 评价指标体系的构建\n",
    "#4.2.1.2 评价指标的基本分析\n",
    "#### 单变量排名\n",
    "GDP=pd.DataFrame(MVdata['生产总值']);GDP\n",
    "GDP['排序']=(-GDP).rank(); GDP #GDP['排序']=GDP.rank(ascending=False);"
   ]
  },
  {
   "cell_type": "code",
   "execution_count": null,
   "metadata": {
    "extensions": {
     "jupyter_dashboards": {
      "version": 1,
      "views": {
       "grid_default": {
        "hidden": true
       },
       "report_default": {}
      }
     }
    }
   },
   "outputs": [],
   "source": [
    "#### 单多量排名\n",
    "(-MVdata).rank()  #MVdata.rank(ascending=False)"
   ]
  },
  {
   "cell_type": "code",
   "execution_count": null,
   "metadata": {
    "extensions": {
     "jupyter_dashboards": {
      "version": 1,
      "views": {
       "grid_default": {
        "hidden": true
       },
       "report_default": {}
      }
     }
    }
   },
   "outputs": [],
   "source": [
    "#4.2.2 综合评价分析方法\n",
    "#4.2.2.1 指标的无量纲化\n",
    "#标准化法\n",
    "def bz(x): return (x-x.mean())/x.std() #bz=lambda x: (x-x.mean())/x.std()\n",
    "BZ=MVdata.apply(bz,0);  #BZ=(MVdata-MVdata.mean())/MVdata.std()\n",
    "BZ"
   ]
  },
  {
   "cell_type": "code",
   "execution_count": null,
   "metadata": {
    "extensions": {
     "jupyter_dashboards": {
      "version": 1,
      "views": {
       "grid_default": {
        "hidden": true
       },
       "report_default": {}
      }
     }
    }
   },
   "outputs": [],
   "source": [
    "#规范化法\n",
    "def gf(x): return (x-x.min())/(x.max()-x.min())  #gf=lambda x: (x-x.min())/(x.max()-x.min())\n",
    "GF=MVdata.apply(gf,0); GF"
   ]
  },
  {
   "cell_type": "code",
   "execution_count": null,
   "metadata": {
    "extensions": {
     "jupyter_dashboards": {
      "version": 1,
      "views": {
       "grid_default": {
        "hidden": true
       },
       "report_default": {}
      }
     }
    }
   },
   "outputs": [],
   "source": [
    "#4.2.2.2 简单平均评价法\n",
    "#建立得分与排名数据框\n",
    "SR=pd.DataFrame();\n",
    "SR['BZscore']=BZ.mean(axis=1);\n",
    "SR['BZrank']=SR.BZscore.rank(ascending=False); SR"
   ]
  },
  {
   "cell_type": "code",
   "execution_count": null,
   "metadata": {},
   "outputs": [],
   "source": [
    "SR['GFscore']=GF.mean(1);\n",
    "SR['GFrank']=SR.GFscore.rank(ascending=False); SR"
   ]
  },
  {
   "cell_type": "code",
   "execution_count": null,
   "metadata": {},
   "outputs": [],
   "source": []
  },
  {
   "cell_type": "code",
   "execution_count": null,
   "metadata": {
    "extensions": {
     "jupyter_dashboards": {
      "version": 1,
      "views": {
       "grid_default": {
        "hidden": true
       },
       "report_default": {}
      }
     }
    }
   },
   "outputs": [],
   "source": [
    "#4.2.2.3 加权综合分析法\n",
    "#变异系数法\n",
    "CV=MVdata.std()/MVdata.mean();CV  \t\t#变异系数"
   ]
  },
  {
   "cell_type": "code",
   "execution_count": null,
   "metadata": {},
   "outputs": [],
   "source": [
    "W=CV/sum(CV);W                   \t\t#权重"
   ]
  },
  {
   "cell_type": "code",
   "execution_count": null,
   "metadata": {},
   "outputs": [],
   "source": [
    "SR['CVscore']=np.dot(BZ,W)\n",
    "SR['CVrank']=SR.CVscore.rank(ascending=False); SR"
   ]
  },
  {
   "cell_type": "code",
   "execution_count": null,
   "metadata": {},
   "outputs": [],
   "source": []
  },
  {
   "cell_type": "code",
   "execution_count": null,
   "metadata": {
    "extensions": {
     "jupyter_dashboards": {
      "version": 1,
      "views": {
       "grid_default": {
        "hidden": true
       },
       "report_default": {}
      }
     }
    }
   },
   "outputs": [],
   "source": [
    "#4.3 数据压缩方法\n",
    "#4.3.1 主成分的基本思想\n",
    "#4.3.2主成分的基本分析\n",
    "#4.3.2.1 主成分分析步骤\n",
    "Z=(MVdata-MVdata.mean())/MVdata.std()\n",
    "from sklearn.decomposition import PCA\n",
    "pca = PCA(n_components=2).fit(Z)"
   ]
  },
  {
   "cell_type": "code",
   "execution_count": null,
   "metadata": {},
   "outputs": [],
   "source": [
    "Vi=pca.explained_variance_;Vi        #方差\n",
    "Wi=pca.explained_variance_ratio_;Wi  #贡献率\n",
    "Wi.sum()                             #累计贡献率"
   ]
  },
  {
   "cell_type": "code",
   "execution_count": null,
   "metadata": {},
   "outputs": [],
   "source": [
    "pd.DataFrame(pca.components_.T)      #主成分负荷"
   ]
  },
  {
   "cell_type": "code",
   "execution_count": null,
   "metadata": {},
   "outputs": [],
   "source": [
    "Si=pca.fit_transform(Z);Si\n",
    "SR=pd.DataFrame(Si,columns=['Comp1','Comp2'],index=MVdata.index);SR"
   ]
  },
  {
   "cell_type": "code",
   "execution_count": null,
   "metadata": {
    "extensions": {
     "jupyter_dashboards": {
      "version": 1,
      "views": {
       "grid_default": {
        "hidden": true
       },
       "report_default": {}
      }
     }
    }
   },
   "outputs": [],
   "source": [
    "plt.plot(SR.Comp1,SR.Comp2,'.');\n",
    "dm.hvline(SR.Comp1,SR.Comp2,SR.index);"
   ]
  },
  {
   "cell_type": "code",
   "execution_count": null,
   "metadata": {
    "extensions": {
     "jupyter_dashboards": {
      "version": 1,
      "views": {
       "grid_default": {
        "hidden": true
       },
       "report_default": {}
      }
     }
    }
   },
   "outputs": [],
   "source": [
    "#4.3.2.2 主成分综合评价\n",
    "SR['Comp']=Si.dot(Wi);SR\n",
    "SR['Rank']=SR.Comp.rank(ascending=False);SR"
   ]
  },
  {
   "cell_type": "code",
   "execution_count": null,
   "metadata": {
    "extensions": {
     "jupyter_dashboards": {
      "version": 1,
      "views": {
       "grid_default": {
        "hidden": true
       },
       "report_default": {}
      }
     }
    }
   },
   "outputs": [],
   "source": [
    "import PyDm_fun as dm\n",
    "dm.PCrank(MVdata,m=2)  \t\t\t#自定义主成分综合评价函数"
   ]
  },
  {
   "cell_type": "markdown",
   "metadata": {
    "extensions": {
     "jupyter_dashboards": {
      "version": 1,
      "views": {
       "grid_default": {
        "hidden": true
       },
       "report_default": {}
      }
     }
    }
   },
   "source": [
    "## 4.4 聚类分析方法\n",
    "### 4.4.1 聚类分析概念"
   ]
  },
  {
   "cell_type": "code",
   "execution_count": null,
   "metadata": {
    "extensions": {
     "jupyter_dashboards": {
      "version": 1,
      "views": {
       "grid_default": {
        "hidden": true
       },
       "report_default": {}
      }
     }
    }
   },
   "outputs": [],
   "source": [
    "#4.4.1.1 聚类分析法的思想\n",
    "#4.4.1.2 聚类分析法的类型\n",
    "#4.4.1.3 聚类分析的统计量"
   ]
  },
  {
   "cell_type": "code",
   "execution_count": null,
   "metadata": {
    "extensions": {
     "jupyter_dashboards": {
      "version": 1,
      "views": {
       "grid_default": {
        "hidden": true
       },
       "report_default": {}
      }
     }
    }
   },
   "outputs": [],
   "source": [
    "X12=YXdata[['X1','X2']][:11];X12  #取变量X1和X2的前11个数据\n",
    "plt.plot(X12.X1,X12.X2,'.');\n",
    "for i in range(11): plt.text(X12.X1[i],X12.X2[i],X12.index[i]);"
   ]
  },
  {
   "cell_type": "code",
   "execution_count": null,
   "metadata": {
    "extensions": {
     "jupyter_dashboards": {
      "version": 1,
      "views": {
       "grid_default": {
        "hidden": true
       },
       "report_default": {}
      }
     }
    }
   },
   "outputs": [],
   "source": [
    "Z12=(X12-X12.mean())/X12.std()         #数据标准化\n",
    "import scipy.cluster.hierarchy as sch  #加载系统聚类包\n",
    "D12=sch.distance.pdist(Z12);np.round(D12,3)        #样品间距离"
   ]
  },
  {
   "cell_type": "code",
   "execution_count": null,
   "metadata": {
    "extensions": {
     "jupyter_dashboards": {
      "version": 1,
      "views": {
       "grid_default": {
        "hidden": true
       },
       "report_default": {}
      }
     }
    }
   },
   "outputs": [],
   "source": [
    "#Y12=pd.DataFrame(sch.distance.squareform(D12))  #距离矩阵\n",
    "#Y12.index=X12.index; Y12.columns=X12.index\n",
    "#round(Y12,3)  #输出距离阵\n",
    "#4.4.2 系统聚类方法\n",
    "#4.4.2.1 系统聚类的基本思想\n",
    "H1=sch.linkage(D12);H1   #系统聚类过程，默认方法='complete'"
   ]
  },
  {
   "cell_type": "code",
   "execution_count": null,
   "metadata": {},
   "outputs": [],
   "source": []
  },
  {
   "cell_type": "code",
   "execution_count": null,
   "metadata": {
    "extensions": {
     "jupyter_dashboards": {
      "version": 1,
      "views": {
       "grid_default": {
        "hidden": true
       },
       "report_default": {}
      }
     }
    }
   },
   "outputs": [],
   "source": [
    "sch.dendrogram(H1,labels=X12.index);  #系统聚类图"
   ]
  },
  {
   "cell_type": "code",
   "execution_count": null,
   "metadata": {},
   "outputs": [],
   "source": []
  },
  {
   "cell_type": "code",
   "execution_count": null,
   "metadata": {
    "extensions": {
     "jupyter_dashboards": {
      "version": 1,
      "views": {
       "grid_default": {
        "hidden": true
       },
       "report_default": {}
      }
     }
    }
   },
   "outputs": [],
   "source": [
    "pd.DataFrame(sch.cut_tree(H1),index=X12.index)  #聚类划分"
   ]
  },
  {
   "cell_type": "code",
   "execution_count": null,
   "metadata": {
    "extensions": {
     "jupyter_dashboards": {
      "version": 1,
      "views": {
       "grid_default": {
        "hidden": true
       },
       "report_default": {}
      }
     }
    }
   },
   "outputs": [],
   "source": [
    "H2=sch.linkage(D12,method='ward');H2 #系统聚类过程，方法='ward'\n",
    "sch.dendrogram(H2,labels=X12.index);"
   ]
  },
  {
   "cell_type": "code",
   "execution_count": null,
   "metadata": {
    "extensions": {
     "jupyter_dashboards": {
      "version": 1,
      "views": {
       "grid_default": {
        "hidden": true
       },
       "report_default": {}
      }
     }
    }
   },
   "outputs": [],
   "source": [
    "pd.DataFrame(sch.cut_tree(H2),index=X12.index)  #聚类划分"
   ]
  },
  {
   "cell_type": "code",
   "execution_count": null,
   "metadata": {
    "extensions": {
     "jupyter_dashboards": {
      "version": 1,
      "views": {
       "grid_default": {
        "hidden": true
       },
       "report_default": {}
      }
     }
    }
   },
   "outputs": [],
   "source": [
    "#4.4.2.2 系统聚类的基本步骤\n",
    "Z=(MVdata-MVdata.mean())/MVdata.std()\n",
    "D=sch.distance.pdist(Z);\n",
    "H=sch.linkage(D,method='ward');\n",
    "sch.dendrogram(H,labels=MVdata.index);"
   ]
  },
  {
   "cell_type": "code",
   "execution_count": null,
   "metadata": {
    "extensions": {
     "jupyter_dashboards": {
      "version": 1,
      "views": {
       "grid_default": {
        "hidden": true
       },
       "report_default": {}
      }
     }
    }
   },
   "outputs": [],
   "source": [
    "pd.DataFrame(sch.cut_tree(H),index=MVdata.index).iloc[:,-5:]"
   ]
  },
  {
   "cell_type": "markdown",
   "metadata": {
    "extensions": {
     "jupyter_dashboards": {
      "version": 1,
      "views": {
       "grid_default": {
        "hidden": true
       },
       "report_default": {}
      }
     }
    }
   },
   "source": [
    "# 第5章 时序数据的模型分析\n",
    "## 5.1 时序数据的动态分析\n",
    "### 5.1.1 时间序列的介绍"
   ]
  },
  {
   "cell_type": "code",
   "execution_count": 6,
   "metadata": {
    "extensions": {
     "jupyter_dashboards": {
      "version": 1,
      "views": {
       "grid_default": {
        "hidden": true
       },
       "report_default": {}
      }
     }
    }
   },
   "outputs": [
    {
     "data": {
      "image/png": "[encoded data removed]",
      "text/plain": [
       "<Figure size 432x288 with 1 Axes>"
      ]
     },
     "metadata": {
      "needs_background": "light"
     },
     "output_type": "display_data"
    }
   ],
   "source": [
    "#### 5.1.1.1 时间序列的概念\n",
    "#(1) 平稳序列模拟---随机游走\n",
    "n=1000\n",
    "rd=np.random.randn(n)\n",
    "plt.plot(rd);"
   ]
  },
  {
   "cell_type": "code",
   "execution_count": 7,
   "metadata": {
    "extensions": {
     "jupyter_dashboards": {
      "version": 1,
      "views": {
       "grid_default": {
        "hidden": true
       },
       "report_default": {}
      }
     }
    }
   },
   "outputs": [
    {
     "data": {
      "image/png": "[encoded data removed]",
      "text/plain": [
       "<Figure size 432x288 with 1 Axes>"
      ]
     },
     "metadata": {
      "needs_background": "light"
     },
     "output_type": "display_data"
    }
   ],
   "source": [
    "#(2)平稳时间序列\n",
    "rd_ts=pd.Series(rd,index=pd.period_range('2001-01-01',periods=n))\n",
    "rd_ts.plot(grid=True);"
   ]
  },
  {
   "cell_type": "code",
   "execution_count": 8,
   "metadata": {
    "extensions": {
     "jupyter_dashboards": {
      "version": 1,
      "views": {
       "grid_default": {
        "hidden": true
       },
       "report_default": {}
      }
     }
    }
   },
   "outputs": [
    {
     "data": {
      "image/png": "[encoded data removed]",
      "text/plain": [
       "<Figure size 432x288 with 1 Axes>"
      ]
     },
     "metadata": {
      "needs_background": "light"
     },
     "output_type": "display_data"
    }
   ],
   "source": [
    "#### 5.1.2.2 非平稳序列模拟\n",
    "#(1)布朗运动\n",
    "plt.plot(rd.cumsum());"
   ]
  },
  {
   "cell_type": "code",
   "execution_count": null,
   "metadata": {
    "extensions": {
     "jupyter_dashboards": {
      "version": 1,
      "views": {
       "grid_default": {
        "hidden": true
       },
       "report_default": {}
      }
     }
    }
   },
   "outputs": [],
   "source": [
    "#(2) 非平稳时间序列\n",
    "rd_ts.cumsum().plot(grid=True);"
   ]
  },
  {
   "cell_type": "markdown",
   "metadata": {
    "extensions": {
     "jupyter_dashboards": {
      "version": 1,
      "views": {
       "grid_default": {
        "hidden": true
       },
       "report_default": {}
      }
     }
    }
   },
   "source": [
    "### 5.1.3 时间序列的读取"
   ]
  },
  {
   "cell_type": "code",
   "execution_count": 9,
   "metadata": {
    "extensions": {
     "jupyter_dashboards": {
      "version": 1,
      "views": {
       "grid_default": {
        "hidden": true
       },
       "report_default": {}
      }
     }
    }
   },
   "outputs": [
    {
     "data": {
      "text/html": [
       "<div>\n",
       "<style scoped>\n",
       "    .dataframe tbody tr th:only-of-type {\n",
       "        vertical-align: middle;\n",
       "    }\n",
       "\n",
       "    .dataframe tbody tr th {\n",
       "        vertical-align: top;\n",
       "    }\n",
       "\n",
       "    .dataframe thead th {\n",
       "        text-align: right;\n",
       "    }\n",
       "</style>\n",
       "<table border=\"1\" class=\"dataframe\">\n",
       "  <thead>\n",
       "    <tr style=\"text-align: right;\">\n",
       "      <th></th>\n",
       "      <th>Close</th>\n",
       "    </tr>\n",
       "    <tr>\n",
       "      <th>Date</th>\n",
       "      <th></th>\n",
       "    </tr>\n",
       "  </thead>\n",
       "  <tbody>\n",
       "    <tr>\n",
       "      <th>2015-06-03</th>\n",
       "      <td>5143.590</td>\n",
       "    </tr>\n",
       "    <tr>\n",
       "      <th>2015-06-04</th>\n",
       "      <td>5181.416</td>\n",
       "    </tr>\n",
       "    <tr>\n",
       "      <th>2015-06-05</th>\n",
       "      <td>5230.552</td>\n",
       "    </tr>\n",
       "    <tr>\n",
       "      <th>2015-06-08</th>\n",
       "      <td>5353.751</td>\n",
       "    </tr>\n",
       "    <tr>\n",
       "      <th>2015-06-09</th>\n",
       "      <td>5317.461</td>\n",
       "    </tr>\n",
       "  </tbody>\n",
       "</table>\n",
       "</div>"
      ],
      "text/plain": [
       "               Close\n",
       "Date                \n",
       "2015-06-03  5143.590\n",
       "2015-06-04  5181.416\n",
       "2015-06-05  5230.552\n",
       "2015-06-08  5353.751\n",
       "2015-06-09  5317.461"
      ]
     },
     "execution_count": 9,
     "metadata": {},
     "output_type": "execute_result"
    }
   ],
   "source": [
    "TSdata=pd.read_excel('PyDm_data.xlsx','TSdata',index_col=0);\n",
    "TSdata.head()"
   ]
  },
  {
   "cell_type": "code",
   "execution_count": 10,
   "metadata": {
    "extensions": {
     "jupyter_dashboards": {
      "version": 1,
      "views": {
       "grid_default": {
        "hidden": true
       },
       "report_default": {}
      }
     }
    }
   },
   "outputs": [
    {
     "data": {
      "image/png": "[encoded data removed]",
      "text/plain": [
       "<Figure size 432x288 with 1 Axes>"
      ]
     },
     "metadata": {
      "needs_background": "light"
     },
     "output_type": "display_data"
    }
   ],
   "source": [
    "TSdata.plot();  "
   ]
  },
  {
   "cell_type": "code",
   "execution_count": 11,
   "metadata": {
    "extensions": {
     "jupyter_dashboards": {
      "version": 1,
      "views": {
       "grid_default": {
        "hidden": true
       },
       "report_default": {}
      }
     }
    }
   },
   "outputs": [
    {
     "data": {
      "text/html": [
       "<div>\n",
       "<style scoped>\n",
       "    .dataframe tbody tr th:only-of-type {\n",
       "        vertical-align: middle;\n",
       "    }\n",
       "\n",
       "    .dataframe tbody tr th {\n",
       "        vertical-align: top;\n",
       "    }\n",
       "\n",
       "    .dataframe thead th {\n",
       "        text-align: right;\n",
       "    }\n",
       "</style>\n",
       "<table border=\"1\" class=\"dataframe\">\n",
       "  <thead>\n",
       "    <tr style=\"text-align: right;\">\n",
       "      <th></th>\n",
       "      <th>Close</th>\n",
       "    </tr>\n",
       "    <tr>\n",
       "      <th>Date</th>\n",
       "      <th></th>\n",
       "    </tr>\n",
       "  </thead>\n",
       "  <tbody>\n",
       "    <tr>\n",
       "      <th>2015-06-03</th>\n",
       "      <td>NaN</td>\n",
       "    </tr>\n",
       "    <tr>\n",
       "      <th>2015-06-04</th>\n",
       "      <td>0.0074</td>\n",
       "    </tr>\n",
       "    <tr>\n",
       "      <th>2015-06-05</th>\n",
       "      <td>0.0095</td>\n",
       "    </tr>\n",
       "    <tr>\n",
       "      <th>2015-06-08</th>\n",
       "      <td>0.0236</td>\n",
       "    </tr>\n",
       "    <tr>\n",
       "      <th>2015-06-09</th>\n",
       "      <td>-0.0068</td>\n",
       "    </tr>\n",
       "  </tbody>\n",
       "</table>\n",
       "</div>"
      ],
      "text/plain": [
       "             Close\n",
       "Date              \n",
       "2015-06-03     NaN\n",
       "2015-06-04  0.0074\n",
       "2015-06-05  0.0095\n",
       "2015-06-08  0.0236\n",
       "2015-06-09 -0.0068"
      ]
     },
     "execution_count": 11,
     "metadata": {},
     "output_type": "execute_result"
    }
   ],
   "source": [
    "#5.1.3.2 股票收益率分析\n",
    "def Return(Yt):   #计算收益率\n",
    "    Rt=Yt/Yt.shift(1)-1  #Yt.diff()/Yt.shift(1)\n",
    "    return(Rt)\n",
    "\n",
    "Rt=Return(TSdata); Rt[:5]"
   ]
  },
  {
   "cell_type": "code",
   "execution_count": 12,
   "metadata": {
    "extensions": {
     "jupyter_dashboards": {
      "version": 1,
      "views": {
       "grid_default": {
        "hidden": true
       },
       "report_default": {}
      }
     }
    }
   },
   "outputs": [
    {
     "data": {
      "image/png": "[encoded data removed]",
      "text/plain": [
       "<Figure size 432x288 with 1 Axes>"
      ]
     },
     "metadata": {
      "needs_background": "light"
     },
     "output_type": "display_data"
    }
   ],
   "source": [
    "Rt.plot().axhline(y=0);"
   ]
  },
  {
   "cell_type": "markdown",
   "metadata": {
    "extensions": {
     "jupyter_dashboards": {
      "version": 1,
      "views": {
       "grid_default": {
        "hidden": true
       },
       "report_default": {}
      }
     }
    }
   },
   "source": [
    "## 5.2 时间序列分析模型\n",
    "### 5.2.1 AR模型"
   ]
  },
  {
   "cell_type": "code",
   "execution_count": 37,
   "metadata": {
    "extensions": {
     "jupyter_dashboards": {
      "version": 1,
      "views": {
       "grid_default": {
        "hidden": true
       },
       "report_default": {}
      }
     }
    }
   },
   "outputs": [
    {
     "data": {
      "image/png": "[encoded data removed]",
      "text/plain": [
       "<Figure size 432x288 with 1 Axes>"
      ]
     },
     "metadata": {
      "needs_background": "light"
     },
     "output_type": "display_data"
    }
   ],
   "source": [
    "np.random.seed(123)   #种子数，确保每次模拟结果一样\n",
    "n=100\n",
    "y1=np.zeros(n);y1;\n",
    "u=np.random.randn(n);u;\n",
    "for t in range(2,n):\n",
    "    y1[t]=-0.8*y1[t-1]+u[t]\n",
    "plt.plot(y1,'o-');"
   ]
  },
  {
   "cell_type": "markdown",
   "metadata": {
    "extensions": {
     "jupyter_dashboards": {
      "version": 1,
      "views": {
       "grid_default": {
        "hidden": true
       },
       "report_default": {}
      }
     }
    }
   },
   "source": [
    "### 5.2.2 MA模型"
   ]
  },
  {
   "cell_type": "code",
   "execution_count": 14,
   "metadata": {
    "extensions": {
     "jupyter_dashboards": {
      "version": 1,
      "views": {
       "grid_default": {
        "hidden": true
       },
       "report_default": {}
      }
     }
    }
   },
   "outputs": [
    {
     "data": {
      "image/png": "[encoded data removed]",
      "text/plain": [
       "<Figure size 432x288 with 1 Axes>"
      ]
     },
     "metadata": {
      "needs_background": "light"
     },
     "output_type": "display_data"
    }
   ],
   "source": [
    "np.random.seed(123)\n",
    "y2=np.zeros(n);\n",
    "u=np.random.randn(n);\n",
    "for t in range(2,n):\n",
    "    y2[t]=u[t]+0.6*u[t-1]\n",
    "plt.plot(y2,'o-');"
   ]
  },
  {
   "cell_type": "markdown",
   "metadata": {
    "extensions": {
     "jupyter_dashboards": {
      "version": 1,
      "views": {
       "grid_default": {
        "hidden": true
       },
       "report_default": {}
      }
     }
    }
   },
   "source": [
    "### 5.2.3 ARMA模型"
   ]
  },
  {
   "cell_type": "code",
   "execution_count": 15,
   "metadata": {
    "extensions": {
     "jupyter_dashboards": {
      "version": 1,
      "views": {
       "grid_default": {
        "hidden": true
       },
       "report_default": {}
      }
     }
    }
   },
   "outputs": [
    {
     "data": {
      "image/png": "[encoded data removed]",
      "text/plain": [
       "<Figure size 432x288 with 1 Axes>"
      ]
     },
     "metadata": {
      "needs_background": "light"
     },
     "output_type": "display_data"
    }
   ],
   "source": [
    "np.random.seed(123)\n",
    "y3=np.zeros(n);\n",
    "u=np.random.randn(n);\n",
    "for t in range(2,n):\n",
    "    y3[t]=0.8*y3[t-1]+u[t]+0.6*u[t-1]\n",
    "plt.plot(y3,'o-');"
   ]
  },
  {
   "cell_type": "markdown",
   "metadata": {
    "extensions": {
     "jupyter_dashboards": {
      "version": 1,
      "views": {
       "grid_default": {
        "hidden": true
       },
       "report_default": {}
      }
     }
    }
   },
   "source": [
    "### 5.2.4 ARIMA模型"
   ]
  },
  {
   "cell_type": "code",
   "execution_count": 16,
   "metadata": {
    "extensions": {
     "jupyter_dashboards": {
      "version": 1,
      "views": {
       "grid_default": {
        "hidden": true
       },
       "report_default": {}
      }
     }
    }
   },
   "outputs": [
    {
     "data": {
      "image/png": "[encoded data removed]",
      "text/plain": [
       "<Figure size 432x288 with 1 Axes>"
      ]
     },
     "metadata": {
      "needs_background": "light"
     },
     "output_type": "display_data"
    }
   ],
   "source": [
    "np.random.seed(12)\n",
    "n=100\n",
    "y4=np.random.randn(n).cumsum()\n",
    "plt.plot(y4,'o-');"
   ]
  },
  {
   "cell_type": "code",
   "execution_count": 17,
   "metadata": {
    "extensions": {
     "jupyter_dashboards": {
      "version": 1,
      "views": {
       "grid_default": {
        "hidden": true
       },
       "report_default": {}
      }
     }
    }
   },
   "outputs": [
    {
     "data": {
      "image/png": "[encoded data removed]",
      "text/plain": [
       "<Figure size 432x288 with 1 Axes>"
      ]
     },
     "metadata": {
      "needs_background": "light"
     },
     "output_type": "display_data"
    }
   ],
   "source": [
    "dy4=np.diff(y4)\n",
    "plt.plot(dy4,'o-');"
   ]
  },
  {
   "cell_type": "code",
   "execution_count": 18,
   "metadata": {
    "extensions": {
     "jupyter_dashboards": {
      "version": 1,
      "views": {
       "grid_default": {
        "hidden": true
       },
       "report_default": {}
      }
     }
    }
   },
   "outputs": [
    {
     "data": {
      "image/png": "[encoded data removed]",
      "text/plain": [
       "<Figure size 432x288 with 1 Axes>"
      ]
     },
     "metadata": {
      "needs_background": "light"
     },
     "output_type": "display_data"
    }
   ],
   "source": [
    "plt.plot(y4,'o-',dy4,'*-');plt.axhline(0);"
   ]
  },
  {
   "cell_type": "markdown",
   "metadata": {
    "extensions": {
     "jupyter_dashboards": {
      "version": 1,
      "views": {
       "grid_default": {
        "hidden": true
       },
       "report_default": {}
      }
     }
    }
   },
   "source": [
    "## 5.3 ARMA模型\n",
    "### 5.3.1 序列的相关性检验"
   ]
  },
  {
   "cell_type": "code",
   "execution_count": 19,
   "metadata": {
    "extensions": {
     "jupyter_dashboards": {
      "version": 1,
      "views": {
       "grid_default": {
        "hidden": true
       },
       "report_default": {}
      }
     }
    }
   },
   "outputs": [
    {
     "data": {
      "text/plain": [
       "array([ 1.   ,  0.447,  0.086,  0.142,  0.013,  0.028,  0.049,  0.001,\n",
       "       -0.023,  0.018,  0.05 ,  0.001,  0.005, -0.077, -0.329, -0.341,\n",
       "       -0.248, -0.154,  0.033, -0.086, -0.156, -0.121, -0.086,  0.011,\n",
       "       -0.076, -0.093, -0.026, -0.065,  0.006,  0.028, -0.034,  0.04 ,\n",
       "        0.022, -0.042,  0.01 ,  0.102,  0.155,  0.101,  0.074, -0.01 ,\n",
       "        0.014])"
      ]
     },
     "execution_count": 19,
     "metadata": {},
     "output_type": "execute_result"
    }
   ],
   "source": [
    "from statsmodels.graphics.tsaplots import acf,plot_acf\n",
    "np.round(acf(y2),3)"
   ]
  },
  {
   "cell_type": "code",
   "execution_count": 20,
   "metadata": {
    "extensions": {
     "jupyter_dashboards": {
      "version": 1,
      "views": {
       "grid_default": {
        "hidden": true
       },
       "report_default": {}
      }
     }
    }
   },
   "outputs": [
    {
     "data": {
      "image/png": "[encoded data removed]",
      "text/plain": [
       "<Figure size 432x288 with 1 Axes>"
      ]
     },
     "metadata": {
      "needs_background": "light"
     },
     "output_type": "display_data"
    }
   ],
   "source": [
    "plot_acf(y2); # MR(1)模型的自相关系数"
   ]
  },
  {
   "cell_type": "code",
   "execution_count": 21,
   "metadata": {
    "extensions": {
     "jupyter_dashboards": {
      "version": 1,
      "views": {
       "grid_default": {
        "hidden": true
       },
       "report_default": {}
      }
     }
    }
   },
   "outputs": [
    {
     "data": {
      "text/html": [
       "<div>\n",
       "<style scoped>\n",
       "    .dataframe tbody tr th:only-of-type {\n",
       "        vertical-align: middle;\n",
       "    }\n",
       "\n",
       "    .dataframe tbody tr th {\n",
       "        vertical-align: top;\n",
       "    }\n",
       "\n",
       "    .dataframe thead th {\n",
       "        text-align: right;\n",
       "    }\n",
       "</style>\n",
       "<table border=\"1\" class=\"dataframe\">\n",
       "  <thead>\n",
       "    <tr style=\"text-align: right;\">\n",
       "      <th></th>\n",
       "      <th>AC</th>\n",
       "      <th>Q</th>\n",
       "      <th>Prob(&gt;Q)</th>\n",
       "    </tr>\n",
       "  </thead>\n",
       "  <tbody>\n",
       "    <tr>\n",
       "      <th>0</th>\n",
       "      <td>0.4469</td>\n",
       "      <td>20.5762</td>\n",
       "      <td>5.7304e-06</td>\n",
       "    </tr>\n",
       "    <tr>\n",
       "      <th>1</th>\n",
       "      <td>0.0865</td>\n",
       "      <td>21.3546</td>\n",
       "      <td>2.3062e-05</td>\n",
       "    </tr>\n",
       "    <tr>\n",
       "      <th>2</th>\n",
       "      <td>0.1424</td>\n",
       "      <td>23.4861</td>\n",
       "      <td>3.1977e-05</td>\n",
       "    </tr>\n",
       "    <tr>\n",
       "      <th>3</th>\n",
       "      <td>0.0130</td>\n",
       "      <td>23.5039</td>\n",
       "      <td>1.0041e-04</td>\n",
       "    </tr>\n",
       "    <tr>\n",
       "      <th>4</th>\n",
       "      <td>0.0275</td>\n",
       "      <td>23.5853</td>\n",
       "      <td>2.6079e-04</td>\n",
       "    </tr>\n",
       "    <tr>\n",
       "      <th>5</th>\n",
       "      <td>0.0495</td>\n",
       "      <td>23.8510</td>\n",
       "      <td>5.5627e-04</td>\n",
       "    </tr>\n",
       "    <tr>\n",
       "      <th>6</th>\n",
       "      <td>0.0012</td>\n",
       "      <td>23.8511</td>\n",
       "      <td>1.2101e-03</td>\n",
       "    </tr>\n",
       "    <tr>\n",
       "      <th>7</th>\n",
       "      <td>-0.0229</td>\n",
       "      <td>23.9092</td>\n",
       "      <td>2.3735e-03</td>\n",
       "    </tr>\n",
       "    <tr>\n",
       "      <th>8</th>\n",
       "      <td>0.0180</td>\n",
       "      <td>23.9456</td>\n",
       "      <td>4.3881e-03</td>\n",
       "    </tr>\n",
       "    <tr>\n",
       "      <th>9</th>\n",
       "      <td>0.0503</td>\n",
       "      <td>24.2328</td>\n",
       "      <td>7.0059e-03</td>\n",
       "    </tr>\n",
       "  </tbody>\n",
       "</table>\n",
       "</div>"
      ],
      "text/plain": [
       "       AC        Q    Prob(>Q)\n",
       "0  0.4469  20.5762  5.7304e-06\n",
       "1  0.0865  21.3546  2.3062e-05\n",
       "2  0.1424  23.4861  3.1977e-05\n",
       "3  0.0130  23.5039  1.0041e-04\n",
       "4  0.0275  23.5853  2.6079e-04\n",
       "5  0.0495  23.8510  5.5627e-04\n",
       "6  0.0012  23.8511  1.2101e-03\n",
       "7 -0.0229  23.9092  2.3735e-03\n",
       "8  0.0180  23.9456  4.3881e-03\n",
       "9  0.0503  24.2328  7.0059e-03"
      ]
     },
     "execution_count": 21,
     "metadata": {},
     "output_type": "execute_result"
    }
   ],
   "source": [
    "def ac_QP(Yt):\n",
    "    import statsmodels.api as sm\n",
    "    r,q,p = sm.tsa.acf(Yt, qstat=True)\n",
    "    rqp=np.c_[r[1:], q, p]\n",
    "    rqp=pd.DataFrame(rqp, columns=[\"AC\", \"Q\", \"Prob(>Q)\"]);\n",
    "    return(rqp)\n",
    "ac_QP(y2)[:10]"
   ]
  },
  {
   "cell_type": "code",
   "execution_count": 39,
   "metadata": {
    "extensions": {
     "jupyter_dashboards": {
      "version": 1,
      "views": {
       "grid_default": {
        "hidden": true
       },
       "report_default": {}
      }
     }
    }
   },
   "outputs": [
    {
     "data": {
      "text/plain": [
       "array([ 1.   , -0.707, -0.091,  0.145,  0.073, -0.019,  0.014,  0.025,\n",
       "       -0.012, -0.033,  0.023,  0.058, -0.045, -0.003,  0.044, -0.406,\n",
       "       -0.108, -0.298,  0.03 ,  0.173, -0.132, -0.018, -0.237, -0.032,\n",
       "        0.145, -0.135, -0.   ,  0.053, -0.123,  0.009, -0.164, -0.32 ,\n",
       "       -0.   , -0.021, -0.012, -0.152, -0.046, -0.12 ,  0.277, -0.009,\n",
       "       -0.301])"
      ]
     },
     "execution_count": 39,
     "metadata": {},
     "output_type": "execute_result"
    }
   ],
   "source": [
    "from statsmodels.graphics.tsaplots import pacf,plot_pacf\n",
    "np.round(pacf(y1),3)"
   ]
  },
  {
   "cell_type": "code",
   "execution_count": 40,
   "metadata": {
    "extensions": {
     "jupyter_dashboards": {
      "version": 1,
      "views": {
       "grid_default": {
        "hidden": true
       },
       "report_default": {}
      }
     }
    }
   },
   "outputs": [
    {
     "data": {
      "image/png": "[encoded data removed]",
      "text/plain": [
       "<Figure size 432x288 with 1 Axes>"
      ]
     },
     "metadata": {
      "needs_background": "light"
     },
     "output_type": "display_data"
    }
   ],
   "source": [
    "plot_pacf(y1); # AR(1)模型的自相关系数\n",
    "#plt.plot(pacf(y1));"
   ]
  },
  {
   "cell_type": "markdown",
   "metadata": {
    "extensions": {
     "jupyter_dashboards": {
      "version": 1,
      "views": {
       "grid_default": {
        "hidden": true
       },
       "report_default": {}
      }
     }
    }
   },
   "source": [
    "### 5.3.2 ARMA 模型建立与检验"
   ]
  },
  {
   "cell_type": "code",
   "execution_count": 32,
   "metadata": {
    "extensions": {
     "jupyter_dashboards": {
      "version": 1,
      "views": {
       "grid_default": {
        "hidden": true
       },
       "report_default": {}
      }
     }
    }
   },
   "outputs": [
    {
     "data": {
      "image/png": "[encoded data removed]",
      "text/plain": [
       "<Figure size 432x288 with 1 Axes>"
      ]
     },
     "metadata": {
      "needs_background": "light"
     },
     "output_type": "display_data"
    }
   ],
   "source": [
    "plot_acf(y3);"
   ]
  },
  {
   "cell_type": "code",
   "execution_count": 35,
   "metadata": {
    "extensions": {
     "jupyter_dashboards": {
      "version": 1,
      "views": {
       "grid_default": {
        "hidden": true
       },
       "report_default": {}
      }
     }
    }
   },
   "outputs": [
    {
     "data": {
      "image/png": "[encoded data removed]",
      "text/plain": [
       "<Figure size 432x288 with 1 Axes>"
      ]
     },
     "metadata": {
      "needs_background": "light"
     },
     "output_type": "display_data"
    }
   ],
   "source": [
    "#plot_pacf(y3);\n",
    "plt.plot(pacf(y3));"
   ]
  },
  {
   "cell_type": "code",
   "execution_count": 36,
   "metadata": {
    "extensions": {
     "jupyter_dashboards": {
      "version": 1,
      "views": {
       "grid_default": {
        "hidden": true
       },
       "report_default": {}
      }
     }
    }
   },
   "outputs": [
    {
     "name": "stderr",
     "output_type": "stream",
     "text": [
      "F:\\Anaconda3\\lib\\site-packages\\scipy\\signal\\signaltools.py:1341: FutureWarning: Using a non-tuple sequence for multidimensional indexing is deprecated; use `arr[tuple(seq)]` instead of `arr[seq]`. In the future this will be interpreted as an array index, `arr[np.array(seq)]`, which will result either in an error or a different result.\n",
      "  out_full[ind] += zi\n",
      "F:\\Anaconda3\\lib\\site-packages\\scipy\\signal\\signaltools.py:1344: FutureWarning: Using a non-tuple sequence for multidimensional indexing is deprecated; use `arr[tuple(seq)]` instead of `arr[seq]`. In the future this will be interpreted as an array index, `arr[np.array(seq)]`, which will result either in an error or a different result.\n",
      "  out = out_full[ind]\n",
      "F:\\Anaconda3\\lib\\site-packages\\scipy\\signal\\signaltools.py:1350: FutureWarning: Using a non-tuple sequence for multidimensional indexing is deprecated; use `arr[tuple(seq)]` instead of `arr[seq]`. In the future this will be interpreted as an array index, `arr[np.array(seq)]`, which will result either in an error or a different result.\n",
      "  zf = out_full[ind]\n"
     ]
    },
    {
     "data": {
      "text/plain": [
       "{'aic':           0         1         2         3\n",
       " 0  426.0238  356.8598  345.0373  324.2615\n",
       " 1  313.0596  315.0040  316.9536  315.6728\n",
       " 2  315.0074  315.3100  316.3193  316.6230\n",
       " 3  316.9137  315.9222  317.2552  318.5261,\n",
       " 'bic':           0         1         2         3\n",
       " 0  431.2342  364.6753  355.4580  337.2874\n",
       " 1  320.8752  325.4247  329.9795  331.3038\n",
       " 2  325.4281  328.3359  331.9504  334.8591\n",
       " 3  329.9395  331.5533  335.4914  339.3675,\n",
       " 'hqic':           0         1         2         3\n",
       " 0  428.1325  360.0229  349.2547  329.5333\n",
       " 1  316.2227  319.2215  322.2254  321.9989\n",
       " 2  319.2249  320.5818  322.6455  324.0035\n",
       " 3  322.1855  322.2484  324.6358  326.9610,\n",
       " 'aic_min_order': (1, 0),\n",
       " 'bic_min_order': (1, 0),\n",
       " 'hqic_min_order': (1, 0)}"
      ]
     },
     "execution_count": 36,
     "metadata": {},
     "output_type": "execute_result"
    }
   ],
   "source": [
    "import statsmodels.tsa.stattools as ts\n",
    "ts.arma_order_select_ic(y1,max_ar=3,max_ma=3,ic=['aic','bic','hqic'])"
   ]
  },
  {
   "cell_type": "code",
   "execution_count": null,
   "metadata": {
    "extensions": {
     "jupyter_dashboards": {
      "version": 1,
      "views": {
       "grid_default": {
        "hidden": true
       },
       "report_default": {}
      }
     }
    }
   },
   "outputs": [],
   "source": [
    "ts.arma_order_select_ic(y1,max_ar=3,max_ma=3,ic=['aic','bic','hqic'])"
   ]
  },
  {
   "cell_type": "code",
   "execution_count": null,
   "metadata": {
    "extensions": {
     "jupyter_dashboards": {
      "version": 1,
      "views": {
       "grid_default": {
        "hidden": true
       },
       "report_default": {}
      }
     }
    }
   },
   "outputs": [],
   "source": [
    "ts.arma_order_select_ic(y3,max_ar=3,max_ma=3,ic=['aic', 'bic','hqic'])"
   ]
  },
  {
   "cell_type": "code",
   "execution_count": null,
   "metadata": {
    "extensions": {
     "jupyter_dashboards": {
      "version": 1,
      "views": {
       "grid_default": {
        "hidden": true
       },
       "report_default": {}
      }
     }
    }
   },
   "outputs": [],
   "source": [
    "from statsmodels.tsa.arima_model import ARMA\n",
    "y1_arma=ARMA(y1,order=(1,0)).fit()\n",
    "y1_arma.summary()"
   ]
  },
  {
   "cell_type": "code",
   "execution_count": null,
   "metadata": {
    "extensions": {
     "jupyter_dashboards": {
      "version": 1,
      "views": {
       "grid_default": {
        "hidden": true
       },
       "report_default": {}
      }
     }
    }
   },
   "outputs": [],
   "source": [
    "ARMA(y2,order=(0,1)).fit().summary()"
   ]
  },
  {
   "cell_type": "code",
   "execution_count": null,
   "metadata": {
    "extensions": {
     "jupyter_dashboards": {
      "version": 1,
      "views": {
       "grid_default": {
        "hidden": true
       },
       "report_default": {}
      }
     }
    }
   },
   "outputs": [],
   "source": [
    "ARMA(y3,order=(1,1)).fit().summary()"
   ]
  },
  {
   "cell_type": "code",
   "execution_count": null,
   "metadata": {
    "extensions": {
     "jupyter_dashboards": {
      "version": 1,
      "views": {
       "grid_default": {
        "hidden": true
       },
       "report_default": {}
      }
     }
    }
   },
   "outputs": [],
   "source": [
    "plt.plot(y3,'o-',ARMA(y3,order=(1,1)).fit().fittedvalues);"
   ]
  },
  {
   "cell_type": "markdown",
   "metadata": {
    "extensions": {
     "jupyter_dashboards": {
      "version": 1,
      "views": {
       "grid_default": {
        "hidden": true
       },
       "report_default": {}
      }
     }
    }
   },
   "source": [
    "### 5.4.3 序列的平稳性检验"
   ]
  },
  {
   "cell_type": "code",
   "execution_count": null,
   "metadata": {
    "extensions": {
     "jupyter_dashboards": {
      "version": 1,
      "views": {
       "grid_default": {
        "hidden": true
       },
       "report_default": {}
      }
     }
    }
   },
   "outputs": [],
   "source": [
    "from statsmodels.tsa.stattools import adfuller\n",
    "def ADF(ts): #平稳性检验\n",
    "    dftest = adfuller(ts)\n",
    "    # 对上述函数求得的值进行语义描述\n",
    "    dfoutput = pd.Series(dftest[0:4], index=['Test Statistic','p-value',\n",
    "                         '#Lags Used','Number of Observations Used'])\n",
    "    for key,value in dftest[4].items():\n",
    "        dfoutput['Critical Value (%s)'%key] = value\n",
    "    return round(dfoutput,4)\n",
    "\n",
    "ADF(y4)"
   ]
  },
  {
   "cell_type": "code",
   "execution_count": null,
   "metadata": {},
   "outputs": [],
   "source": [
    "ADF(dy4)"
   ]
  },
  {
   "cell_type": "code",
   "execution_count": null,
   "metadata": {
    "extensions": {
     "jupyter_dashboards": {
      "version": 1,
      "views": {
       "grid_default": {
        "hidden": true
       },
       "report_default": {}
      }
     }
    }
   },
   "outputs": [],
   "source": [
    "#5.4 股票指数预测模型的构建\n",
    "Ct=TSdata['2015-04':'2018-04'].Close;\n",
    "Ct.plot();"
   ]
  },
  {
   "cell_type": "code",
   "execution_count": null,
   "metadata": {
    "extensions": {
     "jupyter_dashboards": {
      "version": 1,
      "views": {
       "grid_default": {
        "hidden": true
       },
       "report_default": {}
      }
     }
    }
   },
   "outputs": [],
   "source": [
    "ADF(Ct)"
   ]
  },
  {
   "cell_type": "code",
   "execution_count": null,
   "metadata": {
    "extensions": {
     "jupyter_dashboards": {
      "version": 1,
      "views": {
       "grid_default": {
        "hidden": true
       },
       "report_default": {}
      }
     }
    }
   },
   "outputs": [],
   "source": [
    "plot_acf(Ct,lags=50);"
   ]
  },
  {
   "cell_type": "code",
   "execution_count": null,
   "metadata": {
    "extensions": {
     "jupyter_dashboards": {
      "version": 1,
      "views": {
       "grid_default": {
        "hidden": true
       },
       "report_default": {}
      }
     }
    }
   },
   "outputs": [],
   "source": [
    "plot_pacf(Ct,lags=50);"
   ]
  },
  {
   "cell_type": "code",
   "execution_count": null,
   "metadata": {
    "extensions": {
     "jupyter_dashboards": {
      "version": 1,
      "views": {
       "grid_default": {
        "hidden": true
       },
       "report_default": {}
      }
     }
    }
   },
   "outputs": [],
   "source": [
    "import statsmodels.tsa.stattools as ts\n",
    "ts.arma_order_select_ic(Ct,max_ar=3,max_ma=3,ic=['aic','bic','hqic'])"
   ]
  },
  {
   "cell_type": "code",
   "execution_count": null,
   "metadata": {
    "extensions": {
     "jupyter_dashboards": {
      "version": 1,
      "views": {
       "grid_default": {
        "hidden": true
       },
       "report_default": {}
      }
     }
    }
   },
   "outputs": [],
   "source": [
    "from statsmodels.tsa.arima_model import ARMA\n",
    "Ct_ARMA=ARMA(Ct,order=(3,0)).fit()\n",
    "Ct_ARMA.summary()"
   ]
  },
  {
   "cell_type": "code",
   "execution_count": null,
   "metadata": {
    "extensions": {
     "jupyter_dashboards": {
      "version": 1,
      "views": {
       "grid_default": {
        "hidden": true
       },
       "report_default": {}
      }
     }
    }
   },
   "outputs": [],
   "source": [
    "plt.plot(Ct,'o-',Ct_ARMA.fittedvalues);"
   ]
  },
  {
   "cell_type": "code",
   "execution_count": null,
   "metadata": {
    "extensions": {
     "jupyter_dashboards": {
      "version": 1,
      "views": {
       "grid_default": {
        "hidden": true
       },
       "report_default": {}
      }
     }
    }
   },
   "outputs": [],
   "source": [
    "Ct_05=pd.DataFrame({' 实际值':TSdata['2018-05'].Close}); #2018-05 收盘价数据\n",
    "Ct_05[' 预测值']=Ct_ARMA.forecast(22)[0] # 模型预测数据\n",
    "Ct_05[' 绝对误差']=Ct_05[' 实际值']-Ct_05[' 预测值'];\n",
    "Ct_05[' 相对误差(%)']=Ct_05[' 绝对误差']/Ct_05[' 实际值']*100;\n",
    "Ct_05"
   ]
  },
  {
   "cell_type": "markdown",
   "metadata": {
    "extensions": {
     "jupyter_dashboards": {
      "version": 1,
      "views": {
       "grid_default": {
        "hidden": true
       },
       "report_default": {}
      }
     }
    }
   },
   "source": [
    "# 第三部分 大数据基本方法方法\n",
    "# 第6章 大数据分析基础应用\n",
    "## 6.1 大数据的概念\n",
    "## 6.2 Python文本预处理\n",
    "### 6.2.1  字符串的基本操作"
   ]
  },
  {
   "cell_type": "code",
   "execution_count": null,
   "metadata": {
    "extensions": {
     "jupyter_dashboards": {
      "version": 1,
      "views": {
       "grid_default": {
        "hidden": true
       },
       "report_default": {}
      }
     }
    }
   },
   "outputs": [],
   "source": [
    "#字符串的基本操作\n",
    "#字符串的统计\n",
    "len('abc')"
   ]
  },
  {
   "cell_type": "code",
   "execution_count": null,
   "metadata": {
    "extensions": {
     "jupyter_dashboards": {
      "version": 1,
      "views": {
       "grid_default": {
        "hidden": true
       },
       "report_default": {}
      }
     }
    }
   },
   "outputs": [],
   "source": [
    "S=[\"asfef\", \"qwerty\", \"yuiop\", \"b\", \"stuff.blah.yech\"];\n",
    "len(S)"
   ]
  },
  {
   "cell_type": "code",
   "execution_count": null,
   "metadata": {
    "extensions": {
     "jupyter_dashboards": {
      "version": 1,
      "views": {
       "grid_default": {
        "hidden": true
       },
       "report_default": {}
      }
     }
    }
   },
   "outputs": [],
   "source": [
    "[len(s) for s in S]"
   ]
  },
  {
   "cell_type": "code",
   "execution_count": null,
   "metadata": {
    "extensions": {
     "jupyter_dashboards": {
      "version": 1,
      "views": {
       "grid_default": {
        "hidden": true
       },
       "report_default": {}
      }
     }
    }
   },
   "outputs": [],
   "source": [
    "#字符串连接与拆分\n",
    "'Python'+' '+'Data Analysis'\n",
    "'暨南大学'+'管理学院'"
   ]
  },
  {
   "cell_type": "code",
   "execution_count": null,
   "metadata": {
    "extensions": {
     "jupyter_dashboards": {
      "version": 1,
      "views": {
       "grid_default": {
        "hidden": true
       },
       "report_default": {}
      }
     }
    }
   },
   "outputs": [],
   "source": [
    "website = '%s%s%s' % ('Python', 'tab', '.com');website"
   ]
  },
  {
   "cell_type": "code",
   "execution_count": null,
   "metadata": {},
   "outputs": [],
   "source": [
    "listStr = ['Python', 'tab', '.com'] \n",
    "''.join(listStr)     \t \t#paste"
   ]
  },
  {
   "cell_type": "code",
   "execution_count": null,
   "metadata": {
    "extensions": {
     "jupyter_dashboards": {
      "version": 1,
      "views": {
       "grid_default": {
        "hidden": true
       },
       "report_default": {}
      }
     }
    }
   },
   "outputs": [],
   "source": [
    "S1='历史阐释;;历史事实;;历史评价;;唯物史观'\n",
    "S1.split(';;')"
   ]
  },
  {
   "cell_type": "code",
   "execution_count": null,
   "metadata": {
    "extensions": {
     "jupyter_dashboards": {
      "version": 1,
      "views": {
       "grid_default": {
        "hidden": true
       },
       "report_default": {}
      }
     }
    }
   },
   "outputs": [],
   "source": [
    "S2='查理曼;;钦差巡察;;加洛林帝国;;法兰克;;中世纪'\n",
    "S3='南宋;;政治忌讳;;人物评价;;人际关系;;包容政治'\n",
    "S4=[S1,S2,S3];S4"
   ]
  },
  {
   "cell_type": "code",
   "execution_count": null,
   "metadata": {
    "extensions": {
     "jupyter_dashboards": {
      "version": 1,
      "views": {
       "grid_default": {
        "hidden": true
       },
       "report_default": {}
      }
     }
    }
   },
   "outputs": [],
   "source": [
    "def list_split(content,sep):\n",
    "    new_list=[]\n",
    "    for i in range(len(content)):\n",
    "        new_list.append(list(filter(None,content[i].split(sep))))\n",
    "    return new_list\n",
    "\n",
    "list_split(S4,';;')"
   ]
  },
  {
   "cell_type": "markdown",
   "metadata": {
    "extensions": {
     "jupyter_dashboards": {
      "version": 1,
      "views": {
       "grid_default": {
        "hidden": true
       },
       "report_default": {}
      }
     }
    }
   },
   "source": [
    "### 6.2.2 字符串查询与替换"
   ]
  },
  {
   "cell_type": "code",
   "execution_count": null,
   "metadata": {
    "extensions": {
     "jupyter_dashboards": {
      "version": 1,
      "views": {
       "grid_default": {
        "hidden": true
       },
       "report_default": {}
      }
     }
    }
   },
   "outputs": [],
   "source": [
    "#字符串查询\n",
    "S5=['广州大学广州发展研究院','暨南大学文学院历史系','暨南大学管理学院']\n",
    "'暨南大学' in S5[1]"
   ]
  },
  {
   "cell_type": "code",
   "execution_count": null,
   "metadata": {
    "extensions": {
     "jupyter_dashboards": {
      "version": 1,
      "views": {
       "grid_default": {
        "hidden": true
       },
       "report_default": {}
      }
     }
    }
   },
   "outputs": [],
   "source": [
    "def find_words(content,pattern):\n",
    "    return [content[i] for i in range(len(content)) \n",
    "            if (pattern in content[i]) == True]\n",
    "\n",
    "find_words(S5,'暨南大学')"
   ]
  },
  {
   "cell_type": "code",
   "execution_count": null,
   "metadata": {
    "extensions": {
     "jupyter_dashboards": {
      "version": 1,
      "views": {
       "grid_default": {
        "hidden": true
       },
       "report_default": {}
      }
     }
    }
   },
   "outputs": [],
   "source": [
    "len(find_words(S5,'暨南大学'))"
   ]
  },
  {
   "cell_type": "code",
   "execution_count": null,
   "metadata": {
    "extensions": {
     "jupyter_dashboards": {
      "version": 1,
      "views": {
       "grid_default": {
        "hidden": true
       },
       "report_default": {}
      }
     }
    }
   },
   "outputs": [],
   "source": [
    "len(find_words(S5,'a'))"
   ]
  },
  {
   "cell_type": "code",
   "execution_count": null,
   "metadata": {
    "extensions": {
     "jupyter_dashboards": {
      "version": 1,
      "views": {
       "grid_default": {
        "hidden": true
       },
       "report_default": {}
      }
     }
    }
   },
   "outputs": [],
   "source": [
    "#字符串替换\n",
    "'apple,orange'.replace(\"apple\",\"banana\")"
   ]
  },
  {
   "cell_type": "code",
   "execution_count": null,
   "metadata": {
    "extensions": {
     "jupyter_dashboards": {
      "version": 1,
      "views": {
       "grid_default": {
        "hidden": true
       },
       "report_default": {}
      }
     }
    }
   },
   "outputs": [],
   "source": [
    "def list_replace(content,old,new):\n",
    "    return [content[i].replace(old,new) for i in range(len(content))]\n",
    "\n",
    "list_replace(S5,'暨南大学','华南农业大学')"
   ]
  },
  {
   "cell_type": "code",
   "execution_count": null,
   "metadata": {
    "extensions": {
     "jupyter_dashboards": {
      "version": 1,
      "views": {
       "grid_default": {
        "hidden": true
       },
       "report_default": {}
      }
     }
    }
   },
   "outputs": [],
   "source": [
    "#%run PyDm_fun.py"
   ]
  },
  {
   "cell_type": "markdown",
   "metadata": {
    "extensions": {
     "jupyter_dashboards": {
      "version": 1,
      "views": {
       "grid_default": {
        "hidden": true
       },
       "report_default": {}
      }
     }
    }
   },
   "source": [
    "## 6.3 网络爬虫技术应用\n",
    "### 6.3.1 网页的基础知识\n",
    "### 6.3.2 Python爬虫步骤"
   ]
  },
  {
   "cell_type": "code",
   "execution_count": null,
   "metadata": {
    "extensions": {
     "jupyter_dashboards": {
      "version": 1,
      "views": {
       "grid_default": {
        "hidden": true
       },
       "report_default": {}
      }
     }
    }
   },
   "outputs": [],
   "source": [
    "import requests\n",
    "def read_html(url,encoding='utf-8'):    #定义读取html网页函数\n",
    "    headers = {\"User-Agent\":\"Mozilla/5.0 (Macintosh; Intel Mac OS X 10_12_4) AppleWebKit/537.36 (KHTML, like Gecko) Chrome/58.0.3029.110 Safari/537.36\" }\n",
    "    response =requests.get(url,headers=headers)\n",
    "    response.encoding = 'utf-8'\n",
    "    return(response.text)"
   ]
  },
  {
   "cell_type": "code",
   "execution_count": null,
   "metadata": {
    "extensions": {
     "jupyter_dashboards": {
      "version": 1,
      "views": {
       "grid_default": {
        "hidden": true
       },
       "report_default": {}
      }
     }
    }
   },
   "outputs": [],
   "source": [
    "url='https://gz.lianjia.com/ershoufang'  #广州链家二手房网址\n",
    "page=read_html(url)                      #### 读取网页 \n",
    "page[:9]"
   ]
  },
  {
   "cell_type": "code",
   "execution_count": null,
   "metadata": {
    "extensions": {
     "jupyter_dashboards": {
      "version": 1,
      "views": {
       "grid_default": {
        "hidden": true
       },
       "report_default": {}
      }
     }
    }
   },
   "outputs": [],
   "source": [
    "def html_text(info,word): #按关键词解析文本\n",
    "    return([w.get_text() for w in info.select(word)])\n",
    "\n",
    "from bs4 import BeautifulSoup\n",
    "soup=BeautifulSoup(page,'lxml')\n",
    "houseInfo=html_text(soup,'.houseInfo'); houseInfo"
   ]
  },
  {
   "cell_type": "code",
   "execution_count": null,
   "metadata": {
    "extensions": {
     "jupyter_dashboards": {
      "version": 1,
      "views": {
       "grid_default": {
        "hidden": true
       },
       "report_default": {}
      }
     }
    }
   },
   "outputs": [],
   "source": [
    "Price=html_text(soup,'.totalPrice span');Price"
   ]
  },
  {
   "cell_type": "code",
   "execution_count": null,
   "metadata": {
    "extensions": {
     "jupyter_dashboards": {
      "version": 1,
      "views": {
       "grid_default": {
        "hidden": true
       },
       "report_default": {}
      }
     }
    }
   },
   "outputs": [],
   "source": [
    "import PyDm_fun as dm\n",
    "dm.lianjia_page(soup)"
   ]
  },
  {
   "cell_type": "code",
   "execution_count": null,
   "metadata": {
    "extensions": {
     "jupyter_dashboards": {
      "version": 1,
      "views": {
       "grid_default": {
        "hidden": true
       },
       "report_default": {}
      }
     }
    }
   },
   "outputs": [],
   "source": [
    "#计算运行时间\n",
    "%time\n",
    "LJdata=dm.lianjia_all(url,3); LJdata"
   ]
  },
  {
   "cell_type": "code",
   "execution_count": null,
   "metadata": {
    "extensions": {
     "jupyter_dashboards": {
      "version": 1,
      "views": {
       "grid_default": {
        "hidden": true
       },
       "report_default": {}
      }
     }
    }
   },
   "outputs": [],
   "source": [
    "#LJdata.to_excel('LJdata.xlsx',sheet_name='gz',index=False)"
   ]
  },
  {
   "cell_type": "code",
   "execution_count": null,
   "metadata": {
    "extensions": {
     "jupyter_dashboards": {
      "version": 1,
      "views": {
       "grid_default": {
        "hidden": true
       },
       "report_default": {}
      }
     }
    }
   },
   "outputs": [],
   "source": [
    "#爬虫数据的统计分析\n",
    "LJdata=pd.read_excel('PyDm_data.xlsx','LJdata')  #读取抓取的广州链家数据\n",
    "Price=LJdata['房屋价格'];Price\n",
    "P=Price.astype(float);P\n",
    "P.describe()"
   ]
  },
  {
   "cell_type": "code",
   "execution_count": null,
   "metadata": {
    "extensions": {
     "jupyter_dashboards": {
      "version": 1,
      "views": {
       "grid_default": {
        "hidden": true
       },
       "report_default": {}
      }
     }
    }
   },
   "outputs": [],
   "source": [
    "import matplotlib.pylab as plt\n",
    "plt.hist(P,bins=np.arange(0,1000,100));"
   ]
  },
  {
   "cell_type": "code",
   "execution_count": null,
   "metadata": {
    "extensions": {
     "jupyter_dashboards": {
      "version": 1,
      "views": {
       "grid_default": {
        "hidden": true
       },
       "report_default": {}
      }
     }
    }
   },
   "outputs": [],
   "source": [
    "### 房屋信息信息提取\n",
    "House=LJdata['房屋信息'];\n",
    "House=[House[i].replace(' ','') for i in range(len(House))]\n",
    "House1=list_split(House,'|');House1[:6]"
   ]
  },
  {
   "cell_type": "code",
   "execution_count": null,
   "metadata": {
    "extensions": {
     "jupyter_dashboards": {
      "version": 1,
      "views": {
       "grid_default": {
        "hidden": true
       },
       "report_default": {}
      }
     }
    }
   },
   "outputs": [],
   "source": [
    "### 数据清洗：去除第7位NONA\n",
    "length=[len(House1[i]) for i in range(len(House1))];\n",
    "length_result=[idx for idx, e in enumerate(length) if e==7]\n",
    "###去除独栋别墅\n",
    "for i in length_result: House1[i].remove('独栋别墅')\n",
    "###去除在朝向中的不协调表述\n",
    "error_check=[i for i in range(len(House1)) if House1[i][1]=='联排别墅' \n",
    "             or House1[i][1]=='独栋别墅']\n",
    "for i in error_check: del House1[i][1]\n",
    "House1[-6:]"
   ]
  },
  {
   "cell_type": "code",
   "execution_count": null,
   "metadata": {
    "extensions": {
     "jupyter_dashboards": {
      "version": 1,
      "views": {
       "grid_default": {
        "hidden": true
       },
       "report_default": {}
      }
     }
    }
   },
   "outputs": [],
   "source": [
    "### 构建分析用数据框\n",
    "House2=pd.DataFrame(House1)\n",
    "House2.info()\n",
    "House2.columns=['小区','格式','面积','朝向','装修','电梯']\n",
    "House2.head()"
   ]
  },
  {
   "cell_type": "code",
   "execution_count": null,
   "metadata": {
    "extensions": {
     "jupyter_dashboards": {
      "version": 1,
      "views": {
       "grid_default": {
        "hidden": true
       },
       "report_default": {}
      }
     }
    }
   },
   "outputs": [],
   "source": [
    "House2['小区'].value_counts()"
   ]
  },
  {
   "cell_type": "code",
   "execution_count": null,
   "metadata": {
    "extensions": {
     "jupyter_dashboards": {
      "version": 1,
      "views": {
       "grid_default": {
        "hidden": true
       },
       "report_default": {}
      }
     }
    }
   },
   "outputs": [],
   "source": [
    "House2['格式'].value_counts().plot(kind='barh');"
   ]
  },
  {
   "cell_type": "code",
   "execution_count": null,
   "metadata": {
    "extensions": {
     "jupyter_dashboards": {
      "version": 1,
      "views": {
       "grid_default": {
        "hidden": true
       },
       "report_default": {}
      }
     }
    }
   },
   "outputs": [],
   "source": [
    "House2['面积'].value_counts()"
   ]
  },
  {
   "cell_type": "code",
   "execution_count": null,
   "metadata": {
    "extensions": {
     "jupyter_dashboards": {
      "version": 1,
      "views": {
       "grid_default": {
        "hidden": true
       },
       "report_default": {}
      }
     }
    }
   },
   "outputs": [],
   "source": [
    "House2['朝向'].value_counts()"
   ]
  },
  {
   "cell_type": "code",
   "execution_count": null,
   "metadata": {
    "extensions": {
     "jupyter_dashboards": {
      "version": 1,
      "views": {
       "grid_default": {
        "hidden": true
       },
       "report_default": {}
      }
     }
    }
   },
   "outputs": [],
   "source": [
    "House2['装修'].value_counts()"
   ]
  },
  {
   "cell_type": "code",
   "execution_count": null,
   "metadata": {
    "extensions": {
     "jupyter_dashboards": {
      "version": 1,
      "views": {
       "grid_default": {
        "hidden": true
       },
       "report_default": {}
      }
     }
    }
   },
   "outputs": [],
   "source": [
    "House2['电梯'].value_counts()"
   ]
  },
  {
   "cell_type": "code",
   "execution_count": null,
   "metadata": {
    "extensions": {
     "jupyter_dashboards": {
      "version": 1,
      "views": {
       "grid_default": {
        "hidden": true
       },
       "report_default": {}
      }
     }
    }
   },
   "outputs": [],
   "source": [
    "MJ=House2['面积'].str[:-3].astype(float)\n",
    "import PyDm_fun as dm\n",
    "dm.freq(MJ,bins=[0,50,80,100,150,200])\n",
    "\n",
    "#'''去除None'''\n",
    "#dianti=list(House2.电梯)\n",
    "#none_solve=[i for i in range(len(dianti)) if dianti[i]==None]\n",
    "#len(none_solve)\n",
    "#House2.iloc[10].电梯== None\n",
    "#for i in none_solve:\n",
    "#    House2.iloc[i].电梯='暂无数据'\n",
    "#da.tab(House2.电梯)"
   ]
  },
  {
   "cell_type": "markdown",
   "metadata": {
    "extensions": {
     "jupyter_dashboards": {
      "version": 1,
      "views": {
       "grid_default": {
        "hidden": true
       },
       "report_default": {}
      }
     }
    }
   },
   "source": [
    "## 6.4数据库技术及应用"
   ]
  },
  {
   "cell_type": "code",
   "execution_count": null,
   "metadata": {
    "extensions": {
     "jupyter_dashboards": {
      "version": 1,
      "views": {
       "grid_default": {
        "hidden": true
       },
       "report_default": {}
      }
     }
    }
   },
   "outputs": [],
   "source": [
    "###  Python中数据库使用\n",
    "###  数据库的建立与分析\n",
    "###  Sqlite数据框的建立\n",
    "from sqlalchemy import create_engine\n",
    "engine=create_engine('sqlite:///LJdata.db')\n",
    "LJdata.to_sql('LJdata',engine,index=False)"
   ]
  },
  {
   "cell_type": "code",
   "execution_count": null,
   "metadata": {
    "extensions": {
     "jupyter_dashboards": {
      "version": 1,
      "views": {
       "grid_default": {
        "hidden": true
       },
       "report_default": {}
      }
     }
    }
   },
   "outputs": [],
   "source": [
    "# ####  Sqlite3数据的处理\n",
    "from sqlalchemy import create_engine\n",
    "engine=create_engine('sqlite:///LJdata.db')\n",
    "LJ=pd.read_sql('LJdata',engine)\n",
    "LJ.info()"
   ]
  },
  {
   "cell_type": "markdown",
   "metadata": {
    "extensions": {
     "jupyter_dashboards": {
      "version": 1,
      "views": {
       "grid_default": {
        "hidden": true
       },
       "report_default": {}
      }
     }
    }
   },
   "source": [
    "# 第7章 文献计量与知识图谱\n",
    "## 7.1 文献计量研究的框架\n",
    "## 7.2 文献数据的收集与分析\n",
    "### 7.2.1 文献数据的获取"
   ]
  },
  {
   "cell_type": "code",
   "execution_count": null,
   "metadata": {
    "extensions": {
     "jupyter_dashboards": {
      "version": 1,
      "views": {
       "grid_default": {
        "hidden": true
       },
       "report_default": {}
      }
     }
    }
   },
   "outputs": [],
   "source": [
    "#文献数据的收集\n",
    "#文献数据的读取\n",
    "import pandas as pd\n",
    "WXdata=pd.read_excel('PyDm_data.xlsx','WXdata');\n",
    "WXdata.info()"
   ]
  },
  {
   "cell_type": "code",
   "execution_count": null,
   "metadata": {
    "extensions": {
     "jupyter_dashboards": {
      "version": 1,
      "views": {
       "grid_default": {
        "hidden": true
       },
       "report_default": {}
      }
     }
    }
   },
   "outputs": [],
   "source": [
    "WXdata.iloc[:,:4].head()"
   ]
  },
  {
   "cell_type": "code",
   "execution_count": null,
   "metadata": {
    "extensions": {
     "jupyter_dashboards": {
      "version": 1,
      "views": {
       "grid_default": {
        "hidden": true
       },
       "report_default": {}
      }
     }
    }
   },
   "outputs": [],
   "source": [
    "### 7.2.2 文献数据的分析\n",
    "#科研单位与基金统计\n",
    "def find_words(content,pattern):  #寻找关键词\n",
    "    return [content[i] for i in range(len(content)) if (pattern in content[i]) == True]\n",
    "\n",
    "def search_university(content,pattern):\n",
    "    return len([find_words(content[i],pattern) for i in range(len(content)) \n",
    "    if find_words(content[i],pattern) != []])"
   ]
  },
  {
   "cell_type": "code",
   "execution_count": null,
   "metadata": {
    "extensions": {
     "jupyter_dashboards": {
      "version": 1,
      "views": {
       "grid_default": {
        "hidden": true
       },
       "report_default": {}
      }
     }
    }
   },
   "outputs": [],
   "source": [
    "university=pd.read_excel('PyDm_data.xlsx','university');\n",
    "university.学校名称.head()"
   ]
  },
  {
   "cell_type": "code",
   "execution_count": null,
   "metadata": {
    "extensions": {
     "jupyter_dashboards": {
      "version": 1,
      "views": {
       "grid_default": {
        "hidden": true
       },
       "report_default": {}
      }
     }
    }
   },
   "outputs": [],
   "source": [
    "fund=pd.read_excel('PyDm_data.xlsx','fund');\n",
    "fund.基金名称.head()"
   ]
  },
  {
   "cell_type": "code",
   "execution_count": null,
   "metadata": {
    "extensions": {
     "jupyter_dashboards": {
      "version": 1,
      "views": {
       "grid_default": {
        "hidden": true
       },
       "report_default": {}
      }
     }
    }
   },
   "outputs": [],
   "source": [
    "def list_split(content,separator):  #分解信息\n",
    "    new_list=[]\n",
    "    for i in range(len(content)):\n",
    "        new_list.append(list(filter(None,content[i].split(separator))))\n",
    "    return new_list\n",
    "\n",
    "organ=list_split(WXdata['Organ'],';')\n",
    "len(organ)"
   ]
  },
  {
   "cell_type": "code",
   "execution_count": null,
   "metadata": {
    "extensions": {
     "jupyter_dashboards": {
      "version": 1,
      "views": {
       "grid_default": {
        "hidden": true
       },
       "report_default": {}
      }
     }
    }
   },
   "outputs": [],
   "source": [
    "organ[0:5]"
   ]
  },
  {
   "cell_type": "code",
   "execution_count": null,
   "metadata": {
    "extensions": {
     "jupyter_dashboards": {
      "version": 1,
      "views": {
       "grid_default": {
        "hidden": true
       },
       "report_default": {}
      }
     }
    }
   },
   "outputs": [],
   "source": [
    "data1=pd.DataFrame([[i,search_university(organ,i)] for i in university['学校名称']])\n",
    "data1.rename(columns={0:'学校名称',1:'频数'},inplace=True)\n",
    "data1.sort_values(by='频数',ascending = False)[:10]"
   ]
  },
  {
   "cell_type": "code",
   "execution_count": null,
   "metadata": {
    "extensions": {
     "jupyter_dashboards": {
      "version": 1,
      "views": {
       "grid_default": {
        "hidden": true
       },
       "report_default": {}
      }
     }
    }
   },
   "outputs": [],
   "source": [
    "jijin=list_split(WXdata['Fund'].dropna(axis=0,how='all').tolist(),';;')\n",
    "data2=pd.DataFrame([[i,search_university(jijin,i)] for i in fund['基金名称']])\n",
    "data2.rename(columns={0:'学校名称',1:'频数'},inplace=True)\n",
    "data2.sort_values(by='频数',ascending = False)[:10]"
   ]
  },
  {
   "cell_type": "code",
   "execution_count": null,
   "metadata": {
    "extensions": {
     "jupyter_dashboards": {
      "version": 1,
      "views": {
       "grid_default": {
        "hidden": true
       },
       "report_default": {}
      }
     }
    }
   },
   "outputs": [],
   "source": [
    "#作者和关键词统计\n",
    "keyword=list_split(WXdata['Keyword'].dropna(axis=0,how='all').tolist(),';;')\n",
    "keyword1=sum(keyword,[])\n",
    "pd.DataFrame(keyword1)[0].value_counts()[:10]"
   ]
  },
  {
   "cell_type": "code",
   "execution_count": null,
   "metadata": {
    "extensions": {
     "jupyter_dashboards": {
      "version": 1,
      "views": {
       "grid_default": {
        "hidden": true
       },
       "report_default": {}
      }
     }
    }
   },
   "outputs": [],
   "source": [
    "def list_replace(content,old,new): #清楚信息中的空格\n",
    "    return [content[i].replace(old,new) for i in range(len(content))]\n",
    "\n",
    "author=list_replace(WXdata['Author'].dropna(axis=0,how='all').tolist(),',',';')\n",
    "author1=list_split(author,';')\n",
    "author2=sum(author1,[])\n",
    "pd.DataFrame(author2)[0].value_counts()[:10]"
   ]
  },
  {
   "cell_type": "code",
   "execution_count": null,
   "metadata": {
    "extensions": {
     "jupyter_dashboards": {
      "version": 1,
      "views": {
       "grid_default": {
        "hidden": true
       },
       "report_default": {}
      }
     }
    }
   },
   "outputs": [],
   "source": [
    "#年份和期刊统计\n",
    "WXdata.Source.value_counts()[:10]"
   ]
  },
  {
   "cell_type": "code",
   "execution_count": null,
   "metadata": {
    "extensions": {
     "jupyter_dashboards": {
      "version": 1,
      "views": {
       "grid_default": {
        "hidden": true
       },
       "report_default": {}
      }
     }
    }
   },
   "outputs": [],
   "source": [
    "WXdata.Year.value_counts()  #.plot(kind='barh')"
   ]
  },
  {
   "cell_type": "markdown",
   "metadata": {
    "extensions": {
     "jupyter_dashboards": {
      "version": 1,
      "views": {
       "grid_default": {
        "hidden": true
       },
       "report_default": {}
      }
     }
    }
   },
   "source": [
    "## 7.3 知识图谱和科研管理\n",
    "### 7.3.1 科研管理评价"
   ]
  },
  {
   "cell_type": "code",
   "execution_count": null,
   "metadata": {
    "extensions": {
     "jupyter_dashboards": {
      "version": 1,
      "views": {
       "grid_default": {
        "hidden": true
       },
       "report_default": {}
      }
     }
    }
   },
   "outputs": [],
   "source": [
    "NKYWX=pd.read_excel('PyDm_data.xlsx','NKYWX');\n",
    "NKYWX.shape\n",
    "NKYWX.iloc[:,:2].head()"
   ]
  },
  {
   "cell_type": "code",
   "execution_count": null,
   "metadata": {
    "extensions": {
     "jupyter_dashboards": {
      "version": 1,
      "views": {
       "grid_default": {
        "hidden": true
       },
       "report_default": {}
      }
     }
    }
   },
   "outputs": [],
   "source": [
    "NKYDW=pd.read_excel('PyDm_data.xlsx','NKYDW');\n",
    "NKYDW.head()\n",
    "#fund=pd.read_excel('PyDm_data.xlsx','fund');\n",
    "#fund.基金名称.head()"
   ]
  },
  {
   "cell_type": "code",
   "execution_count": null,
   "metadata": {
    "extensions": {
     "jupyter_dashboards": {
      "version": 1,
      "views": {
       "grid_default": {
        "hidden": true
       },
       "report_default": {}
      }
     }
    }
   },
   "outputs": [],
   "source": [
    "organ=list_split(NKYWX['Organ'],';')\n",
    "data1=pd.DataFrame([[i,search_university(organ,i)] for i in NKYDW['单位']])\n",
    "data1.rename(columns={0:'单位',1:'频数'},inplace=True)\n",
    "data1.sort_values(by='频数',ascending = False)[:8]"
   ]
  },
  {
   "cell_type": "code",
   "execution_count": null,
   "metadata": {
    "extensions": {
     "jupyter_dashboards": {
      "version": 1,
      "views": {
       "grid_default": {
        "hidden": true
       },
       "report_default": {}
      }
     }
    }
   },
   "outputs": [],
   "source": [
    "jijin=list_split(NKYWX['Fund'].dropna(axis=0,how='all').tolist(),';;')\n",
    "data2=pd.DataFrame([[i,search_university(jijin,i)] for i in fund['基金名称']])\n",
    "data2.rename(columns={0:'学校名称',1:'频数'},inplace=True)\n",
    "data2.sort_values(by='频数',ascending = False)[:12]"
   ]
  },
  {
   "cell_type": "code",
   "execution_count": null,
   "metadata": {
    "extensions": {
     "jupyter_dashboards": {
      "version": 1,
      "views": {
       "grid_default": {
        "hidden": true
       },
       "report_default": {}
      }
     }
    }
   },
   "outputs": [],
   "source": [
    "author=list_replace(NKYWX['Author'].dropna(axis=0,how='all').tolist(),',',';')\n",
    "author1=list_split(author,';')\n",
    "author2=sum(author1,[])\n",
    "pd.DataFrame(author2)[0].value_counts()[:5]"
   ]
  },
  {
   "cell_type": "code",
   "execution_count": null,
   "metadata": {
    "extensions": {
     "jupyter_dashboards": {
      "version": 1,
      "views": {
       "grid_default": {
        "hidden": true
       },
       "report_default": {}
      }
     }
    }
   },
   "outputs": [],
   "source": [
    "keyword=list_split(NKYWX['Keyword'].dropna(axis=0,how='all').tolist(),';;')\n",
    "keyword1=sum(keyword,[])\n",
    "pd.DataFrame(keyword1)[0].value_counts()[:5]"
   ]
  },
  {
   "cell_type": "code",
   "execution_count": null,
   "metadata": {
    "extensions": {
     "jupyter_dashboards": {
      "version": 1,
      "views": {
       "grid_default": {
        "hidden": true
       },
       "report_default": {}
      }
     }
    }
   },
   "outputs": [],
   "source": [
    "NKYWX.Source.value_counts()[:5]"
   ]
  },
  {
   "cell_type": "markdown",
   "metadata": {
    "extensions": {
     "jupyter_dashboards": {
      "version": 1,
      "views": {
       "grid_default": {
        "hidden": true
       },
       "report_default": {}
      }
     }
    }
   },
   "source": [
    "# 第8章 社会网络分析方法\n",
    "## 8.1社会网络的初步印象\n",
    "### 8.1.1 社会网络分析概念\n",
    "### 8.1.2 社会网络分析库\n",
    "## 8.2 社会网络图的构建\n",
    "### 8.2.1 社会网络数据形式"
   ]
  },
  {
   "cell_type": "code",
   "execution_count": null,
   "metadata": {
    "extensions": {
     "jupyter_dashboards": {
      "version": 1,
      "views": {
       "grid_default": {
        "hidden": true
       },
       "report_default": {}
      }
     }
    }
   },
   "outputs": [],
   "source": [
    "#以连线的形式构建网络\n",
    "import networkx as nx\n",
    "nG=nx.Graph();nG"
   ]
  },
  {
   "cell_type": "code",
   "execution_count": null,
   "metadata": {
    "extensions": {
     "jupyter_dashboards": {
      "version": 1,
      "views": {
       "grid_default": {
        "hidden": true
       },
       "report_default": {}
      }
     }
    }
   },
   "outputs": [],
   "source": [
    "nG.add_node('JFK')\n",
    "nG.add_nodes_from(['SFO','LAX','ATL','FLO','DFW','HNL'])\n",
    "nG.number_of_nodes()"
   ]
  },
  {
   "cell_type": "code",
   "execution_count": null,
   "metadata": {
    "extensions": {
     "jupyter_dashboards": {
      "version": 1,
      "views": {
       "grid_default": {
        "hidden": true
       },
       "report_default": {}
      }
     }
    }
   },
   "outputs": [],
   "source": [
    "nG.add_edges_from([('JFK','SFO'),('JFK','LAX'),('LAX','ATL'),('FLO','ATL'),\n",
    "                   ('ATL','JFK'),('FLO','JFK'),('DFW','HNL')])\n",
    "nG.add_edges_from([('OKC','DFW'),('OGG','DFW'),('OGG','LAX')])\n",
    "nG.number_of_edges()"
   ]
  },
  {
   "cell_type": "code",
   "execution_count": null,
   "metadata": {
    "extensions": {
     "jupyter_dashboards": {
      "version": 1,
      "views": {
       "grid_default": {
        "hidden": true
       },
       "report_default": {}
      }
     }
    }
   },
   "outputs": [],
   "source": [
    "nG.nodes()\n",
    "nG.edges()"
   ]
  },
  {
   "cell_type": "code",
   "execution_count": null,
   "metadata": {
    "extensions": {
     "jupyter_dashboards": {
      "version": 1,
      "views": {
       "grid_default": {
        "hidden": true
       },
       "report_default": {}
      }
     }
    }
   },
   "outputs": [],
   "source": [
    "nx.draw(nG, with_labels=True)"
   ]
  },
  {
   "cell_type": "code",
   "execution_count": null,
   "metadata": {
    "extensions": {
     "jupyter_dashboards": {
      "version": 1,
      "views": {
       "grid_default": {
        "hidden": true
       },
       "report_default": {}
      }
     }
    }
   },
   "outputs": [],
   "source": [
    "# #### 以矩阵的形式构建网络\n",
    "NXdata=pd.read_excel('PyDm_data.xlsx','NXdata',index_col=0)\n",
    "nf=nx.from_pandas_adjacency(NXdata)\n",
    "nx.draw(nf,with_labels=True)"
   ]
  },
  {
   "cell_type": "code",
   "execution_count": null,
   "metadata": {
    "extensions": {
     "jupyter_dashboards": {
      "version": 1,
      "views": {
       "grid_default": {
        "hidden": true
       },
       "report_default": {}
      }
     }
    }
   },
   "outputs": [],
   "source": [
    "# #### 社会网络图的布局\n",
    "nx.draw(nG,pos=nx.circular_layout(nG), with_labels=True)"
   ]
  },
  {
   "cell_type": "code",
   "execution_count": null,
   "metadata": {
    "extensions": {
     "jupyter_dashboards": {
      "version": 1,
      "views": {
       "grid_default": {
        "hidden": true
       },
       "report_default": {}
      }
     }
    }
   },
   "outputs": [],
   "source": [
    "nx.draw(nG,pos=nx.kamada_kawai_layout(nG), with_labels=True)"
   ]
  },
  {
   "cell_type": "code",
   "execution_count": null,
   "metadata": {
    "extensions": {
     "jupyter_dashboards": {
      "version": 1,
      "views": {
       "grid_default": {
        "hidden": true
       },
       "report_default": {}
      }
     }
    }
   },
   "outputs": [],
   "source": [
    "nx.draw(nG,pos=nx.random_layout(nG), with_labels=True)"
   ]
  },
  {
   "cell_type": "code",
   "execution_count": null,
   "metadata": {
    "extensions": {
     "jupyter_dashboards": {
      "version": 1,
      "views": {
       "grid_default": {
        "hidden": true
       },
       "report_default": {}
      }
     }
    }
   },
   "outputs": [],
   "source": [
    "nx.draw(nG,pos=nx.spectral_layout(nG), with_labels=True)"
   ]
  },
  {
   "cell_type": "code",
   "execution_count": null,
   "metadata": {
    "extensions": {
     "jupyter_dashboards": {
      "version": 1,
      "views": {
       "grid_default": {
        "hidden": true
       },
       "report_default": {}
      }
     }
    }
   },
   "outputs": [],
   "source": [
    "### 网络统计量\n",
    "#### 网络汇总描述\n",
    "nx.info(nG)"
   ]
  },
  {
   "cell_type": "code",
   "execution_count": null,
   "metadata": {
    "extensions": {
     "jupyter_dashboards": {
      "version": 1,
      "views": {
       "grid_default": {
        "hidden": true
       },
       "report_default": {}
      }
     }
    }
   },
   "outputs": [],
   "source": [
    "# #### 密度\n",
    "nx.density(nG)"
   ]
  },
  {
   "cell_type": "code",
   "execution_count": null,
   "metadata": {
    "extensions": {
     "jupyter_dashboards": {
      "version": 1,
      "views": {
       "grid_default": {
        "hidden": true
       },
       "report_default": {}
      }
     }
    }
   },
   "outputs": [],
   "source": [
    "# #### 直径\n",
    "nx.diameter(nG)"
   ]
  },
  {
   "cell_type": "code",
   "execution_count": null,
   "metadata": {
    "extensions": {
     "jupyter_dashboards": {
      "version": 1,
      "views": {
       "grid_default": {
        "hidden": true
       },
       "report_default": {}
      }
     }
    }
   },
   "outputs": [],
   "source": [
    "#### 聚类系数与相邻节点\n",
    "nx.transitivity(nG)"
   ]
  },
  {
   "cell_type": "code",
   "execution_count": null,
   "metadata": {
    "extensions": {
     "jupyter_dashboards": {
      "version": 1,
      "views": {
       "grid_default": {
        "hidden": true
       },
       "report_default": {}
      }
     }
    }
   },
   "outputs": [],
   "source": [
    "nx.clustering(nG)"
   ]
  },
  {
   "cell_type": "code",
   "execution_count": null,
   "metadata": {
    "extensions": {
     "jupyter_dashboards": {
      "version": 1,
      "views": {
       "grid_default": {
        "hidden": true
       },
       "report_default": {}
      }
     }
    }
   },
   "outputs": [],
   "source": [
    "list(nG.neighbors('ATL'))"
   ]
  },
  {
   "cell_type": "code",
   "execution_count": null,
   "metadata": {
    "extensions": {
     "jupyter_dashboards": {
      "version": 1,
      "views": {
       "grid_default": {
        "hidden": true
       },
       "report_default": {}
      }
     }
    }
   },
   "outputs": [],
   "source": [
    "# #### 中心性\n",
    "nx.degree_centrality(nG)"
   ]
  },
  {
   "cell_type": "code",
   "execution_count": null,
   "metadata": {
    "extensions": {
     "jupyter_dashboards": {
      "version": 1,
      "views": {
       "grid_default": {
        "hidden": true
       },
       "report_default": {}
      }
     }
    }
   },
   "outputs": [],
   "source": [
    "nx.betweenness_centrality(nG)"
   ]
  },
  {
   "cell_type": "code",
   "execution_count": null,
   "metadata": {
    "extensions": {
     "jupyter_dashboards": {
      "version": 1,
      "views": {
       "grid_default": {
        "hidden": true
       },
       "report_default": {}
      }
     }
    }
   },
   "outputs": [],
   "source": [
    "nx.closeness_centrality(nG)"
   ]
  },
  {
   "cell_type": "code",
   "execution_count": null,
   "metadata": {
    "extensions": {
     "jupyter_dashboards": {
      "version": 1,
      "views": {
       "grid_default": {
        "hidden": true
       },
       "report_default": {}
      }
     }
    }
   },
   "outputs": [],
   "source": [
    "# #### 最短路径\n",
    "len(nx.shortest_path(nG,'ATL','SFO'))"
   ]
  },
  {
   "cell_type": "markdown",
   "metadata": {
    "extensions": {
     "jupyter_dashboards": {
      "version": 1,
      "views": {
       "grid_default": {
        "hidden": true
       },
       "report_default": {}
      }
     }
    }
   },
   "source": [
    "### 8.2.3 知识图谱应用"
   ]
  },
  {
   "cell_type": "code",
   "execution_count": null,
   "metadata": {
    "extensions": {
     "jupyter_dashboards": {
      "version": 1,
      "views": {
       "grid_default": {
        "hidden": true
       },
       "report_default": {}
      }
     }
    }
   },
   "outputs": [],
   "source": [
    "##提取第7章文献数据的高频数据\n",
    "organ=list_split(WXdata['Organ'],';')\n",
    "data1=pd.DataFrame([[i,search_university(organ,i)] for i in university['学校名称']])\n",
    "data1.rename(columns={0:'学校名称',1:'频数'},inplace=True)\n",
    "keyword=list_split(WXdata['Keyword'].dropna(axis=0,how='all').tolist(),';;')\n",
    "keyword1=sum(keyword,[])\n",
    "author=list_replace(WXdata['Author'].dropna(axis=0,how='all').tolist(),',',';')\n",
    "author1=list_split(author,';')\n",
    "author2=sum(author1,[])"
   ]
  },
  {
   "cell_type": "code",
   "execution_count": null,
   "metadata": {},
   "outputs": [],
   "source": [
    "#获取前30名的高频数据\n",
    "data_author=pd.DataFrame(author2)[0].value_counts()[:30].index.tolist()\n",
    "data_keyword=pd.DataFrame(keyword1)[0].value_counts()[0:30].index.tolist()\n",
    "data_university=data1.sort_values(by='频数',ascending = False)[0:30]['学校名称'].tolist()"
   ]
  },
  {
   "cell_type": "code",
   "execution_count": 3,
   "metadata": {
    "extensions": {
     "jupyter_dashboards": {
      "version": 1,
      "views": {
       "grid_default": {
        "hidden": true
       },
       "report_default": {}
      }
     }
    }
   },
   "outputs": [],
   "source": [
    "# #### 图谱共现矩阵\n",
    "# #### 共显矩阵网络图\n",
    "def occurence(data,document):  #生成共现矩阵\n",
    "    empty1=[];empty2=[];empty3=[]\n",
    "    for a in data:\n",
    "        for b in data:\n",
    "            count = 0\n",
    "            for x in document:\n",
    "                if  [a in i for i in x].count(True) >0 and [b in i for i in x].count(True) >0: count += 1\n",
    "            empty1.append(a);empty2.append(b);empty3.append(count)\n",
    "    df=pd.DataFrame({'from':empty1,'to':empty2,'weight':empty3})\n",
    "    G=nx.from_pandas_edgelist(df, 'from', 'to', 'weight')\n",
    "    return (nx.to_pandas_adjacency(G, dtype=int))"
   ]
  },
  {
   "cell_type": "code",
   "execution_count": null,
   "metadata": {
    "extensions": {
     "jupyter_dashboards": {
      "version": 1,
      "views": {
       "grid_default": {
        "hidden": true
       },
       "report_default": {}
      }
     }
    }
   },
   "outputs": [],
   "source": [
    "Matrix1=occurence(data_author,author1); Matrix1.iloc[:9,:9]"
   ]
  },
  {
   "cell_type": "code",
   "execution_count": null,
   "metadata": {
    "extensions": {
     "jupyter_dashboards": {
      "version": 1,
      "views": {
       "grid_default": {
        "hidden": true
       },
       "report_default": {}
      }
     }
    }
   },
   "outputs": [],
   "source": [
    "Matrix2=occurence(data_university,organ);Matrix2.iloc[:8,:8]"
   ]
  },
  {
   "cell_type": "code",
   "execution_count": null,
   "metadata": {
    "extensions": {
     "jupyter_dashboards": {
      "version": 1,
      "views": {
       "grid_default": {
        "hidden": true
       },
       "report_default": {}
      }
     }
    }
   },
   "outputs": [],
   "source": [
    "Matrix3=occurence(data_keyword,keyword);Matrix3.iloc[:8,:8]"
   ]
  },
  {
   "cell_type": "code",
   "execution_count": null,
   "metadata": {
    "extensions": {
     "jupyter_dashboards": {
      "version": 1,
      "views": {
       "grid_default": {
        "hidden": true
       },
       "report_default": {}
      }
     }
    }
   },
   "outputs": [],
   "source": [
    "import networkx as nx\n",
    "graph1=nx.from_pandas_adjacency(Matrix1)\n",
    "nx.draw(graph1,with_labels=True,node_color='yellow')"
   ]
  },
  {
   "cell_type": "code",
   "execution_count": null,
   "metadata": {
    "extensions": {
     "jupyter_dashboards": {
      "version": 1,
      "views": {
       "grid_default": {
        "hidden": true
       },
       "report_default": {}
      }
     }
    }
   },
   "outputs": [],
   "source": [
    "graph2=nx.from_pandas_adjacency(Matrix2)\n",
    "nx.draw(graph2,with_labels=True,node_color='yellow')"
   ]
  },
  {
   "cell_type": "code",
   "execution_count": null,
   "metadata": {
    "extensions": {
     "jupyter_dashboards": {
      "version": 1,
      "views": {
       "grid_default": {
        "hidden": true
       },
       "report_default": {}
      }
     }
    }
   },
   "outputs": [],
   "source": [
    "graph3=nx.from_pandas_adjacency(Matrix3)\n",
    "nx.draw(graph3,with_labels=True,node_color='yellow')"
   ]
  },
  {
   "cell_type": "code",
   "execution_count": null,
   "metadata": {
    "extensions": {
     "jupyter_dashboards": {
      "version": 1,
      "views": {
       "grid_default": {
        "hidden": true
       },
       "report_default": {}
      }
     }
    }
   },
   "outputs": [],
   "source": [
    "import scipy.cluster.hierarchy as sch\n",
    "H1=sch.linkage(Matrix3,method='ward');\n",
    "sch.dendrogram(H1,labels=Matrix3.index,orientation='right');"
   ]
  },
  {
   "cell_type": "code",
   "execution_count": null,
   "metadata": {
    "extensions": {
     "jupyter_dashboards": {
      "version": 1,
      "views": {
       "grid_default": {
        "hidden": true
       },
       "report_default": {}
      }
     }
    }
   },
   "outputs": [],
   "source": [
    "## Load R dataset\n",
    "#import statsmodels.api as sm\n",
    "#sm.datasets.get_rdataset(\"datasets\", \"USJudgeRatings\").data\n",
    "#sm.datasets.get_rdataset(\"cluster.datasets\", \"all.us.city.crime.1970\").data"
   ]
  }
 ],
 "metadata": {
  "extensions": {
   "jupyter_dashboards": {
    "activeView": "grid_default",
    "version": 1,
    "views": {
     "grid_default": {
      "cellMargin": 10,
      "defaultCellHeight": 20,
      "maxColumns": 12,
      "name": "grid",
      "type": "grid"
     },
     "report_default": {
      "name": "report",
      "type": "report"
     }
    }
   }
  },
  "hide_input": false,
  "kernelspec": {
   "display_name": "Python 3",
   "language": "python",
   "name": "python3"
  },
  "language_info": {
   "codemirror_mode": {
    "name": "ipython",
    "version": 3
   },
   "file_extension": ".py",
   "mimetype": "text/x-python",
   "name": "python",
   "nbconvert_exporter": "python",
   "pygments_lexer": "ipython3",
   "version": "3.7.1"
  },
  "toc": {
   "base_numbering": 1,
   "nav_menu": {
    "height": "236px",
    "width": "358px"
   },
   "number_sections": false,
   "sideBar": true,
   "skip_h1_title": false,
   "title_cell": "Table of Contents",
   "title_sidebar": "Python数据分析基础",
   "toc_cell": false,
   "toc_position": {
    "height": "46px",
    "left": "831px",
    "top": "32.087px",
    "width": "278px"
   },
   "toc_section_display": true,
   "toc_window_display": true
  },
  "varInspector": {
   "cols": {
    "lenName": 16,
    "lenType": 16,
    "lenVar": 40
   },
   "kernels_config": {
    "python": {
     "delete_cmd_postfix": "",
     "delete_cmd_prefix": "del ",
     "library": "var_list.py",
     "varRefreshCmd": "print(var_dic_list())"
    },
    "r": {
     "delete_cmd_postfix": ") ",
     "delete_cmd_prefix": "rm(",
     "library": "var_list.r",
     "varRefreshCmd": "cat(var_dic_list()) "
    }
   },
   "position": {
    "height": "144px",
    "left": "916px",
    "right": "20px",
    "top": "573px",
    "width": "350px"
   },
   "types_to_exclude": [
    "module",
    "function",
    "builtin_function_or_method",
    "instance",
    "_Feature"
   ],
   "window_display": false
  }
 },
 "nbformat": 4,
 "nbformat_minor": 2
}
