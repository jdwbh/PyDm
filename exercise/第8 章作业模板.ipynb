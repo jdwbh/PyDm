{
 "cells": [
  {
   "cell_type": "markdown",
   "metadata": {},
   "source": [
    "## 《Python数据挖掘方法及应用》PyDm\n",
    "### 【第8章 社会网络分析方法】数据与练习8\n",
    "#### **（请在#下面问题的空白处写出代码并输出结果）**\n",
    "---"
   ]
  },
  {
   "cell_type": "markdown",
   "metadata": {},
   "source": [
    "8.1 Bali数据集包含了特殊人群之间的关系数据，该数据是网络数据格式，由17个节点和126条连线构成，请画其网络图。"
   ]
  },
  {
   "cell_type": "code",
   "execution_count": null,
   "metadata": {},
   "outputs": [],
   "source": []
  },
  {
   "cell_type": "markdown",
   "metadata": {},
   "source": [
    "8.2 DHHS数据集包含了用于评估美国烟草公司的领导力和控制力的合作网络数据。该数据是网络数据格式，由54个点和477条连线构成，请画其网络图。"
   ]
  },
  {
   "cell_type": "code",
   "execution_count": null,
   "metadata": {},
   "outputs": [],
   "source": []
  },
  {
   "cell_type": "markdown",
   "metadata": {},
   "source": [
    "8.3 FIFA_Nether数据集包含了2010年世界杯荷兰球员之间的传球数据，该数据是网络数据格式，由11个节点和108条连线构成，请画其网络图。"
   ]
  },
  {
   "cell_type": "code",
   "execution_count": null,
   "metadata": {},
   "outputs": [],
   "source": []
  },
  {
   "cell_type": "markdown",
   "metadata": {},
   "source": [
    "8.4 ICTS_G10数据集包含了华盛顿大学临床和转化科学学院科学家之间的合作数据，该数据是网络数据格式，由493个节点和1359条连线构成，连线的含义是，若两个科学家共同在一个资助项目工作，则代表他们之间存在联系，请画其网络图。"
   ]
  },
  {
   "cell_type": "code",
   "execution_count": null,
   "metadata": {},
   "outputs": [],
   "source": []
  },
  {
   "cell_type": "markdown",
   "metadata": {},
   "source": [
    "8.5 Krebs数据集包含了特殊人群之间的关系数据，该数据是网络数据格式，由19个节点和27条连线构成，请画其网络图。"
   ]
  },
  {
   "cell_type": "code",
   "execution_count": null,
   "metadata": {},
   "outputs": [],
   "source": []
  }
 ],
 "metadata": {
  "kernelspec": {
   "display_name": "Python 3",
   "language": "python",
   "name": "python3"
  },
  "language_info": {
   "codemirror_mode": {
    "name": "ipython",
    "version": 3
   },
   "file_extension": ".py",
   "mimetype": "text/x-python",
   "name": "python",
   "nbconvert_exporter": "python",
   "pygments_lexer": "ipython3",
   "version": "3.7.4"
  }
 },
 "nbformat": 4,
 "nbformat_minor": 4
}
