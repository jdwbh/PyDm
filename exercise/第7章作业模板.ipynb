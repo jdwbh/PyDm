{
 "cells": [
  {
   "cell_type": "markdown",
   "metadata": {},
   "source": [
    "## 《Python数据挖掘方法及应用》PyDm\n",
    "### 【第7章 文献计量与科研评价】数据与练习7 \n",
    "#### **（请在#下面问题的空白处写出代码并输出结果）**\n",
    "---"
   ]
  },
  {
   "cell_type": "markdown",
   "metadata": {},
   "source": [
    "7.1  对热门话题进行文献计量分析。请以“问题管理”为检索词，对中国知网数据库检索到的2000—2017年发表的问题管理论文进行文献计量分析。内容和格式仿照：孙继伟,金晓玲.问题管理研究的文献计量分析[J].管理学报,2014, 11(07):953-958."
   ]
  },
  {
   "cell_type": "code",
   "execution_count": null,
   "metadata": {},
   "outputs": [],
   "source": []
  },
  {
   "cell_type": "markdown",
   "metadata": {},
   "source": [
    "7.2  对某一期刊的发文数据进行总结评价。请运用文献计量学的方法，对2018年出版的《情报科学》进行统计分析，并与《情报科学》近几年的有关统计数据对比。内容和格式仿照：孙仙阁.2008年《情报科学》文献计量分析[J].情报科学, 2009,27(11): 1679-1683."
   ]
  },
  {
   "cell_type": "code",
   "execution_count": null,
   "metadata": {},
   "outputs": [],
   "source": []
  },
  {
   "cell_type": "markdown",
   "metadata": {},
   "source": [
    "7.3  对某一科研单位若干年的数据总结评价。请以中国知网CNKI的中国学术文献网络出版总库作为数据统计源，检索2002—2017年安徽工程大学的学术文献，参照本章节的文献计量分析框架进行分析。内容和格式仿照：秦丽萍,桂云苗.基于CNKI的安徽工程大学学术文献计量分析[J].安徽工程大学学报,2013, 28(03):91-94."
   ]
  },
  {
   "cell_type": "code",
   "execution_count": null,
   "metadata": {},
   "outputs": [],
   "source": []
  },
  {
   "cell_type": "markdown",
   "metadata": {},
   "source": [
    "7.4  对某一科研单位若干年的数据总结评价。请以五邑大学为例，对CNKI收录的五邑大学2003—2017年的科研论文，参照本章节的文献计量分析框架进行分析。内容和格式仿照：陈水生.地方高校科研论文文献计量分析——以五邑大学为例[J].高教论坛,2014(01):80-85."
   ]
  },
  {
   "cell_type": "code",
   "execution_count": null,
   "metadata": {},
   "outputs": [],
   "source": []
  },
  {
   "cell_type": "markdown",
   "metadata": {},
   "source": [
    "7.5  对热门话题进行文献计量分析。请以“临时雇佣”为检索词，对中国知网数据库检索到的2000年以来发表的管理论文进行文献计量分析。内容和格式仿照：蒋建武,李南才.基于文献计量法的国内临时雇佣研究述评[J].管理学报,2015, 12(04):619-624."
   ]
  },
  {
   "cell_type": "code",
   "execution_count": null,
   "metadata": {},
   "outputs": [],
   "source": []
  }
 ],
 "metadata": {
  "kernelspec": {
   "display_name": "Python 3",
   "language": "python",
   "name": "python3"
  },
  "language_info": {
   "codemirror_mode": {
    "name": "ipython",
    "version": 3
   },
   "file_extension": ".py",
   "mimetype": "text/x-python",
   "name": "python",
   "nbconvert_exporter": "python",
   "pygments_lexer": "ipython3",
   "version": "3.7.4"
  }
 },
 "nbformat": 4,
 "nbformat_minor": 4
}
